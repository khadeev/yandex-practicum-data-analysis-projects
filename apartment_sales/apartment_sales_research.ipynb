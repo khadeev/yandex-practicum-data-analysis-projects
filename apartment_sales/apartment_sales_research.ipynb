{
 "cells": [
  {
   "cell_type": "markdown",
   "metadata": {
    "toc": true
   },
   "source": [
    "<h1>Содержание<span class=\"tocSkip\"></span></h1>\n",
    "<div class=\"toc\"><ul class=\"toc-item\"><li><span><a href=\"#Загрузка-данных\" data-toc-modified-id=\"Загрузка-данных-1\"><span class=\"toc-item-num\">1&nbsp;&nbsp;</span>Загрузка данных</a></span></li><li><span><a href=\"#Предобработка-данных\" data-toc-modified-id=\"Предобработка-данных-2\"><span class=\"toc-item-num\">2&nbsp;&nbsp;</span>Предобработка данных</a></span><ul class=\"toc-item\"><li><span><a href=\"#Обработка-пропущенных-значений\" data-toc-modified-id=\"Обработка-пропущенных-значений-2.1\"><span class=\"toc-item-num\">2.1&nbsp;&nbsp;</span>Обработка пропущенных значений</a></span></li><li><span><a href=\"#Проверка-типов-данных\" data-toc-modified-id=\"Проверка-типов-данных-2.2\"><span class=\"toc-item-num\">2.2&nbsp;&nbsp;</span>Проверка типов данных</a></span></li><li><span><a href=\"#Проверка-дубликатов-в-названии-населенных-пунктов\" data-toc-modified-id=\"Проверка-дубликатов-в-названии-населенных-пунктов-2.3\"><span class=\"toc-item-num\">2.3&nbsp;&nbsp;</span>Проверка дубликатов в названии населенных пунктов</a></span></li><li><span><a href=\"#Обработка-аномальных-значений\" data-toc-modified-id=\"Обработка-аномальных-значений-2.4\"><span class=\"toc-item-num\">2.4&nbsp;&nbsp;</span>Обработка аномальных значений</a></span></li></ul></li><li><span><a href=\"#Посчитайте-и-добавьте-в-таблицу-новые-столбцы\" data-toc-modified-id=\"Посчитайте-и-добавьте-в-таблицу-новые-столбцы-3\"><span class=\"toc-item-num\">3&nbsp;&nbsp;</span>Посчитайте и добавьте в таблицу новые столбцы</a></span></li><li><span><a href=\"#Проведите-исследовательский-анализ-данных\" data-toc-modified-id=\"Проведите-исследовательский-анализ-данных-4\"><span class=\"toc-item-num\">4&nbsp;&nbsp;</span>Проведите исследовательский анализ данных</a></span><ul class=\"toc-item\"><li><span><a href=\"#Изучаем-параметров-объектов\" data-toc-modified-id=\"Изучаем-параметров-объектов-4.1\"><span class=\"toc-item-num\">4.1&nbsp;&nbsp;</span>Изучаем параметров объектов</a></span></li><li><span><a href=\"#Проверка-скорости-продажи-квартир\" data-toc-modified-id=\"Проверка-скорости-продажи-квартир-4.2\"><span class=\"toc-item-num\">4.2&nbsp;&nbsp;</span>Проверка скорости продажи квартир</a></span></li><li><span><a href=\"#Влияние-на-общую-стоимость-объекта\" data-toc-modified-id=\"Влияние-на-общую-стоимость-объекта-4.3\"><span class=\"toc-item-num\">4.3&nbsp;&nbsp;</span>Влияние на общую стоимость объекта</a></span></li><li><span><a href=\"#Считаем-среднюю-цену-квадратного-метра\" data-toc-modified-id=\"Считаем-среднюю-цену-квадратного-метра-4.4\"><span class=\"toc-item-num\">4.4&nbsp;&nbsp;</span>Считаем среднюю цену квадратного метра</a></span></li><li><span><a href=\"#Считаем-стоимость-километра-в-Санкт-Петербурге\" data-toc-modified-id=\"Считаем-стоимость-километра-в-Санкт-Петербурге-4.5\"><span class=\"toc-item-num\">4.5&nbsp;&nbsp;</span>Считаем стоимость километра в Санкт-Петербурге</a></span></li></ul></li><li><span><a href=\"#Общий-вывод\" data-toc-modified-id=\"Общий-вывод-5\"><span class=\"toc-item-num\">5&nbsp;&nbsp;</span>Общий вывод</a></span><ul class=\"toc-item\"><li><span><a href=\"#Изучили-параметры-объектов\" data-toc-modified-id=\"Изучили-параметры-объектов-5.1\"><span class=\"toc-item-num\">5.1&nbsp;&nbsp;</span>Изучили параметры объектов</a></span></li><li><span><a href=\"#Изучили-скорость-продаж\" data-toc-modified-id=\"Изучили-скорость-продаж-5.2\"><span class=\"toc-item-num\">5.2&nbsp;&nbsp;</span>Изучили скорость продаж</a></span></li><li><span><a href=\"#Нашли-самые-популярные-населенные-пункты\" data-toc-modified-id=\"Нашли-самые-популярные-населенные-пункты-5.3\"><span class=\"toc-item-num\">5.3&nbsp;&nbsp;</span>Нашли самые популярные населенные пункты</a></span></li><li><span><a href=\"#Нашли-зависимость-между-стоимостью-объекта-и-расстояния-до-центра-города\" data-toc-modified-id=\"Нашли-зависимость-между-стоимостью-объекта-и-расстояния-до-центра-города-5.4\"><span class=\"toc-item-num\">5.4&nbsp;&nbsp;</span>Нашли зависимость между стоимостью объекта и расстояния до центра города</a></span></li><li><span><a href=\"#Определили,-что-влияет-на-стоимость-объекта\" data-toc-modified-id=\"Определили,-что-влияет-на-стоимость-объекта-5.5\"><span class=\"toc-item-num\">5.5&nbsp;&nbsp;</span>Определили, что влияет на стоимость объекта</a></span></li></ul></li></ul></div>"
   ]
  },
  {
   "cell_type": "markdown",
   "metadata": {
    "id": "mzHfKOxc-h8Y"
   },
   "source": [
    "# Исследование объявлений о продаже квартир\n",
    "\n",
    "Необходимо исследовать объявления о продаже квартир. Будем работать с  данными сервиса Яндекс.Недвижимость — архивом объявлений о продаже квартир в Санкт-Петербурге и соседних населённых пунктов за несколько лет. Это позволит построить автоматизированную систему: она отследит аномалии и мошенническую деятельность. \n",
    "\n",
    "По каждой квартире на продажу доступны два вида данных. Первые вписаны пользователем, вторые — получены автоматически на основе картографических данных. Например, расстояние до центра, аэропорта, ближайшего парка и водоёма. "
   ]
  },
  {
   "cell_type": "markdown",
   "metadata": {},
   "source": [
    "**Цель исследования** - изучить, какие параменты влияют на стоимость квартир. Нужно проверить следующие предположения:\n",
    "1. Цена зависит от общей площади.\n",
    "2. Цена зависит от жилой площади.\n",
    "3. Цена зависит от площади кухни.\n",
    "4. Цена зависит от количества комнат.\n",
    "5. Цена зависит от этажа, на котором расположена квартира.\n",
    "6. Цена зависит от даты размещения.\n",
    "\n",
    "\n",
    "**Ход исследования** пройдет в 5 этапов.\n",
    "1. Изучение общей информации\n",
    "2. Предобработка данных \n",
    "- обработка пропущенных значений\n",
    "- удаление дубликатов\n",
    "- работа с аномальными значениями\n",
    "3. Добавление новых столбцов в датасет, необходимых для исследования\n",
    "4. Исследовательский анализ данных\n",
    "- изучение параментов обзекта \n",
    "- проверка скорости продажи квартир\n",
    "- проверка предположений\n",
    "5. Результаты и выводы"
   ]
  },
  {
   "cell_type": "markdown",
   "metadata": {
    "id": "Yf3iccdd-h8d"
   },
   "source": [
    "## Загрузка данных"
   ]
  },
  {
   "cell_type": "code",
   "execution_count": 615,
   "metadata": {
    "id": "4KGt0xO7-per"
   },
   "outputs": [],
   "source": [
    "import pandas as pd\n",
    "import numpy as np\n",
    "import matplotlib.pyplot as plt\n",
    "\n",
    "df = pd.read_csv('real_estate_data.csv', sep='\\t')"
   ]
  },
  {
   "cell_type": "code",
   "execution_count": 616,
   "metadata": {
    "colab": {
     "base_uri": "https://localhost:8080/",
     "height": 386
    },
    "id": "y0n631PK_g0J",
    "outputId": "3357f82a-3724-49a5-c7af-01674ad230ef"
   },
   "outputs": [
    {
     "data": {
      "text/html": [
       "<div>\n",
       "<style scoped>\n",
       "    .dataframe tbody tr th:only-of-type {\n",
       "        vertical-align: middle;\n",
       "    }\n",
       "\n",
       "    .dataframe tbody tr th {\n",
       "        vertical-align: top;\n",
       "    }\n",
       "\n",
       "    .dataframe thead th {\n",
       "        text-align: right;\n",
       "    }\n",
       "</style>\n",
       "<table border=\"1\" class=\"dataframe\">\n",
       "  <thead>\n",
       "    <tr style=\"text-align: right;\">\n",
       "      <th></th>\n",
       "      <th>total_images</th>\n",
       "      <th>last_price</th>\n",
       "      <th>total_area</th>\n",
       "      <th>first_day_exposition</th>\n",
       "      <th>rooms</th>\n",
       "      <th>ceiling_height</th>\n",
       "      <th>floors_total</th>\n",
       "      <th>living_area</th>\n",
       "      <th>floor</th>\n",
       "      <th>is_apartment</th>\n",
       "      <th>...</th>\n",
       "      <th>kitchen_area</th>\n",
       "      <th>balcony</th>\n",
       "      <th>locality_name</th>\n",
       "      <th>airports_nearest</th>\n",
       "      <th>cityCenters_nearest</th>\n",
       "      <th>parks_around3000</th>\n",
       "      <th>parks_nearest</th>\n",
       "      <th>ponds_around3000</th>\n",
       "      <th>ponds_nearest</th>\n",
       "      <th>days_exposition</th>\n",
       "    </tr>\n",
       "  </thead>\n",
       "  <tbody>\n",
       "    <tr>\n",
       "      <th>0</th>\n",
       "      <td>20</td>\n",
       "      <td>13000000.0</td>\n",
       "      <td>108.0</td>\n",
       "      <td>2019-03-07T00:00:00</td>\n",
       "      <td>3</td>\n",
       "      <td>2.70</td>\n",
       "      <td>16.0</td>\n",
       "      <td>51.0</td>\n",
       "      <td>8</td>\n",
       "      <td>NaN</td>\n",
       "      <td>...</td>\n",
       "      <td>25.0</td>\n",
       "      <td>NaN</td>\n",
       "      <td>Санкт-Петербург</td>\n",
       "      <td>18863.0</td>\n",
       "      <td>16028.0</td>\n",
       "      <td>1.0</td>\n",
       "      <td>482.0</td>\n",
       "      <td>2.0</td>\n",
       "      <td>755.0</td>\n",
       "      <td>NaN</td>\n",
       "    </tr>\n",
       "    <tr>\n",
       "      <th>1</th>\n",
       "      <td>7</td>\n",
       "      <td>3350000.0</td>\n",
       "      <td>40.4</td>\n",
       "      <td>2018-12-04T00:00:00</td>\n",
       "      <td>1</td>\n",
       "      <td>NaN</td>\n",
       "      <td>11.0</td>\n",
       "      <td>18.6</td>\n",
       "      <td>1</td>\n",
       "      <td>NaN</td>\n",
       "      <td>...</td>\n",
       "      <td>11.0</td>\n",
       "      <td>2.0</td>\n",
       "      <td>посёлок Шушары</td>\n",
       "      <td>12817.0</td>\n",
       "      <td>18603.0</td>\n",
       "      <td>0.0</td>\n",
       "      <td>NaN</td>\n",
       "      <td>0.0</td>\n",
       "      <td>NaN</td>\n",
       "      <td>81.0</td>\n",
       "    </tr>\n",
       "    <tr>\n",
       "      <th>2</th>\n",
       "      <td>10</td>\n",
       "      <td>5196000.0</td>\n",
       "      <td>56.0</td>\n",
       "      <td>2015-08-20T00:00:00</td>\n",
       "      <td>2</td>\n",
       "      <td>NaN</td>\n",
       "      <td>5.0</td>\n",
       "      <td>34.3</td>\n",
       "      <td>4</td>\n",
       "      <td>NaN</td>\n",
       "      <td>...</td>\n",
       "      <td>8.3</td>\n",
       "      <td>0.0</td>\n",
       "      <td>Санкт-Петербург</td>\n",
       "      <td>21741.0</td>\n",
       "      <td>13933.0</td>\n",
       "      <td>1.0</td>\n",
       "      <td>90.0</td>\n",
       "      <td>2.0</td>\n",
       "      <td>574.0</td>\n",
       "      <td>558.0</td>\n",
       "    </tr>\n",
       "    <tr>\n",
       "      <th>3</th>\n",
       "      <td>0</td>\n",
       "      <td>64900000.0</td>\n",
       "      <td>159.0</td>\n",
       "      <td>2015-07-24T00:00:00</td>\n",
       "      <td>3</td>\n",
       "      <td>NaN</td>\n",
       "      <td>14.0</td>\n",
       "      <td>NaN</td>\n",
       "      <td>9</td>\n",
       "      <td>NaN</td>\n",
       "      <td>...</td>\n",
       "      <td>NaN</td>\n",
       "      <td>0.0</td>\n",
       "      <td>Санкт-Петербург</td>\n",
       "      <td>28098.0</td>\n",
       "      <td>6800.0</td>\n",
       "      <td>2.0</td>\n",
       "      <td>84.0</td>\n",
       "      <td>3.0</td>\n",
       "      <td>234.0</td>\n",
       "      <td>424.0</td>\n",
       "    </tr>\n",
       "    <tr>\n",
       "      <th>4</th>\n",
       "      <td>2</td>\n",
       "      <td>10000000.0</td>\n",
       "      <td>100.0</td>\n",
       "      <td>2018-06-19T00:00:00</td>\n",
       "      <td>2</td>\n",
       "      <td>3.03</td>\n",
       "      <td>14.0</td>\n",
       "      <td>32.0</td>\n",
       "      <td>13</td>\n",
       "      <td>NaN</td>\n",
       "      <td>...</td>\n",
       "      <td>41.0</td>\n",
       "      <td>NaN</td>\n",
       "      <td>Санкт-Петербург</td>\n",
       "      <td>31856.0</td>\n",
       "      <td>8098.0</td>\n",
       "      <td>2.0</td>\n",
       "      <td>112.0</td>\n",
       "      <td>1.0</td>\n",
       "      <td>48.0</td>\n",
       "      <td>121.0</td>\n",
       "    </tr>\n",
       "  </tbody>\n",
       "</table>\n",
       "<p>5 rows × 22 columns</p>\n",
       "</div>"
      ],
      "text/plain": [
       "   total_images  last_price  total_area first_day_exposition  rooms  \\\n",
       "0            20  13000000.0       108.0  2019-03-07T00:00:00      3   \n",
       "1             7   3350000.0        40.4  2018-12-04T00:00:00      1   \n",
       "2            10   5196000.0        56.0  2015-08-20T00:00:00      2   \n",
       "3             0  64900000.0       159.0  2015-07-24T00:00:00      3   \n",
       "4             2  10000000.0       100.0  2018-06-19T00:00:00      2   \n",
       "\n",
       "   ceiling_height  floors_total  living_area  floor is_apartment  ...  \\\n",
       "0            2.70          16.0         51.0      8          NaN  ...   \n",
       "1             NaN          11.0         18.6      1          NaN  ...   \n",
       "2             NaN           5.0         34.3      4          NaN  ...   \n",
       "3             NaN          14.0          NaN      9          NaN  ...   \n",
       "4            3.03          14.0         32.0     13          NaN  ...   \n",
       "\n",
       "   kitchen_area  balcony    locality_name  airports_nearest  \\\n",
       "0          25.0      NaN  Санкт-Петербург           18863.0   \n",
       "1          11.0      2.0   посёлок Шушары           12817.0   \n",
       "2           8.3      0.0  Санкт-Петербург           21741.0   \n",
       "3           NaN      0.0  Санкт-Петербург           28098.0   \n",
       "4          41.0      NaN  Санкт-Петербург           31856.0   \n",
       "\n",
       "  cityCenters_nearest  parks_around3000  parks_nearest  ponds_around3000  \\\n",
       "0             16028.0               1.0          482.0               2.0   \n",
       "1             18603.0               0.0            NaN               0.0   \n",
       "2             13933.0               1.0           90.0               2.0   \n",
       "3              6800.0               2.0           84.0               3.0   \n",
       "4              8098.0               2.0          112.0               1.0   \n",
       "\n",
       "   ponds_nearest  days_exposition  \n",
       "0          755.0              NaN  \n",
       "1            NaN             81.0  \n",
       "2          574.0            558.0  \n",
       "3          234.0            424.0  \n",
       "4           48.0            121.0  \n",
       "\n",
       "[5 rows x 22 columns]"
      ]
     },
     "execution_count": 616,
     "metadata": {},
     "output_type": "execute_result"
    }
   ],
   "source": [
    "df.head()"
   ]
  },
  {
   "cell_type": "code",
   "execution_count": 617,
   "metadata": {
    "colab": {
     "base_uri": "https://localhost:8080/"
    },
    "id": "h6z_A8Jn_rql",
    "outputId": "3590579a-f845-4336-fc4f-ec5d2c59c119",
    "scrolled": true
   },
   "outputs": [
    {
     "name": "stdout",
     "output_type": "stream",
     "text": [
      "<class 'pandas.core.frame.DataFrame'>\n",
      "RangeIndex: 23699 entries, 0 to 23698\n",
      "Data columns (total 22 columns):\n",
      " #   Column                Non-Null Count  Dtype  \n",
      "---  ------                --------------  -----  \n",
      " 0   total_images          23699 non-null  int64  \n",
      " 1   last_price            23699 non-null  float64\n",
      " 2   total_area            23699 non-null  float64\n",
      " 3   first_day_exposition  23699 non-null  object \n",
      " 4   rooms                 23699 non-null  int64  \n",
      " 5   ceiling_height        14504 non-null  float64\n",
      " 6   floors_total          23613 non-null  float64\n",
      " 7   living_area           21796 non-null  float64\n",
      " 8   floor                 23699 non-null  int64  \n",
      " 9   is_apartment          2775 non-null   object \n",
      " 10  studio                23699 non-null  bool   \n",
      " 11  open_plan             23699 non-null  bool   \n",
      " 12  kitchen_area          21421 non-null  float64\n",
      " 13  balcony               12180 non-null  float64\n",
      " 14  locality_name         23650 non-null  object \n",
      " 15  airports_nearest      18157 non-null  float64\n",
      " 16  cityCenters_nearest   18180 non-null  float64\n",
      " 17  parks_around3000      18181 non-null  float64\n",
      " 18  parks_nearest         8079 non-null   float64\n",
      " 19  ponds_around3000      18181 non-null  float64\n",
      " 20  ponds_nearest         9110 non-null   float64\n",
      " 21  days_exposition       20518 non-null  float64\n",
      "dtypes: bool(2), float64(14), int64(3), object(3)\n",
      "memory usage: 3.7+ MB\n"
     ]
    }
   ],
   "source": [
    "df.info()"
   ]
  },
  {
   "cell_type": "code",
   "execution_count": 618,
   "metadata": {},
   "outputs": [
    {
     "data": {
      "text/plain": [
       "(23699, 22)"
      ]
     },
     "execution_count": 618,
     "metadata": {},
     "output_type": "execute_result"
    }
   ],
   "source": [
    "df.shape"
   ]
  },
  {
   "cell_type": "markdown",
   "metadata": {
    "id": "vLkXVMUOAAU-"
   },
   "source": [
    "\n"
   ]
  },
  {
   "cell_type": "code",
   "execution_count": 619,
   "metadata": {
    "colab": {
     "base_uri": "https://localhost:8080/",
     "height": 1000
    },
    "id": "OK6kjlLeB7nc",
    "outputId": "09cabb08-0666-459d-874f-8234985ccd0a"
   },
   "outputs": [
    {
     "data": {
      "image/png": "[encoded data removed]",
      "text/plain": [
       "<Figure size 1080x1440 with 20 Axes>"
      ]
     },
     "metadata": {
      "needs_background": "light"
     },
     "output_type": "display_data"
    }
   ],
   "source": [
    "df.hist(figsize=(15, 20));"
   ]
  },
  {
   "cell_type": "markdown",
   "metadata": {},
   "source": [
    "Датасет содержит информацию с типами данных: числовым, строковым, булевым. В некоторых столбцах есть пропуски."
   ]
  },
  {
   "cell_type": "markdown",
   "metadata": {
    "id": "L5AsObbx-h8f"
   },
   "source": [
    "## Предобработка данных"
   ]
  },
  {
   "cell_type": "markdown",
   "metadata": {},
   "source": [
    "### Обработка пропущенных значений"
   ]
  },
  {
   "cell_type": "code",
   "execution_count": 620,
   "metadata": {
    "colab": {
     "base_uri": "https://localhost:8080/"
    },
    "id": "Ewok-WiY-h8g",
    "outputId": "f5fa1170-af5a-4b54-a22b-d521516ba50d",
    "scrolled": false
   },
   "outputs": [
    {
     "data": {
      "text/plain": [
       "total_images                0\n",
       "last_price                  0\n",
       "total_area                  0\n",
       "first_day_exposition        0\n",
       "rooms                       0\n",
       "ceiling_height           9195\n",
       "floors_total               86\n",
       "living_area              1903\n",
       "floor                       0\n",
       "is_apartment            20924\n",
       "studio                      0\n",
       "open_plan                   0\n",
       "kitchen_area             2278\n",
       "balcony                 11519\n",
       "locality_name              49\n",
       "airports_nearest         5542\n",
       "cityCenters_nearest      5519\n",
       "parks_around3000         5518\n",
       "parks_nearest           15620\n",
       "ponds_around3000         5518\n",
       "ponds_nearest           14589\n",
       "days_exposition          3181\n",
       "dtype: int64"
      ]
     },
     "execution_count": 620,
     "metadata": {},
     "output_type": "execute_result"
    }
   ],
   "source": [
    "# Посмотрим, в каких столбцах пропущены значения.\n",
    "\n",
    "df.isna().sum()"
   ]
  },
  {
   "cell_type": "code",
   "execution_count": 621,
   "metadata": {
    "scrolled": true
   },
   "outputs": [
    {
     "data": {
      "text/html": [
       "<style  type=\"text/css\" >\n",
       "#T_f2b38_row0_col0,#T_f2b38_row1_col0,#T_f2b38_row2_col0,#T_f2b38_row3_col0,#T_f2b38_row4_col0,#T_f2b38_row6_col0,#T_f2b38_row8_col0,#T_f2b38_row10_col0,#T_f2b38_row11_col0,#T_f2b38_row14_col0{\n",
       "            background-color:  #3b4cc0;\n",
       "            color:  #f1f1f1;\n",
       "        }#T_f2b38_row5_col0{\n",
       "            background-color:  #cdd9ec;\n",
       "            color:  #000000;\n",
       "        }#T_f2b38_row7_col0{\n",
       "            background-color:  #5673e0;\n",
       "            color:  #000000;\n",
       "        }#T_f2b38_row9_col0{\n",
       "            background-color:  #b40426;\n",
       "            color:  #f1f1f1;\n",
       "        }#T_f2b38_row12_col0{\n",
       "            background-color:  #5e7de7;\n",
       "            color:  #000000;\n",
       "        }#T_f2b38_row13_col0{\n",
       "            background-color:  #ead4c8;\n",
       "            color:  #000000;\n",
       "        }#T_f2b38_row15_col0,#T_f2b38_row16_col0,#T_f2b38_row17_col0,#T_f2b38_row19_col0{\n",
       "            background-color:  #90b2fe;\n",
       "            color:  #000000;\n",
       "        }#T_f2b38_row18_col0{\n",
       "            background-color:  #f4987a;\n",
       "            color:  #000000;\n",
       "        }#T_f2b38_row20_col0{\n",
       "            background-color:  #f7aa8c;\n",
       "            color:  #000000;\n",
       "        }#T_f2b38_row21_col0{\n",
       "            background-color:  #688aef;\n",
       "            color:  #000000;\n",
       "        }</style><table id=\"T_f2b38_\" ><thead>    <tr>        <th class=\"blank level0\" ></th>        <th class=\"col_heading level0 col0\" >0</th>    </tr></thead><tbody>\n",
       "                <tr>\n",
       "                        <th id=\"T_f2b38_level0_row0\" class=\"row_heading level0 row0\" >total_images</th>\n",
       "                        <td id=\"T_f2b38_row0_col0\" class=\"data row0 col0\" >0.000000</td>\n",
       "            </tr>\n",
       "            <tr>\n",
       "                        <th id=\"T_f2b38_level0_row1\" class=\"row_heading level0 row1\" >last_price</th>\n",
       "                        <td id=\"T_f2b38_row1_col0\" class=\"data row1 col0\" >0.000000</td>\n",
       "            </tr>\n",
       "            <tr>\n",
       "                        <th id=\"T_f2b38_level0_row2\" class=\"row_heading level0 row2\" >total_area</th>\n",
       "                        <td id=\"T_f2b38_row2_col0\" class=\"data row2 col0\" >0.000000</td>\n",
       "            </tr>\n",
       "            <tr>\n",
       "                        <th id=\"T_f2b38_level0_row3\" class=\"row_heading level0 row3\" >first_day_exposition</th>\n",
       "                        <td id=\"T_f2b38_row3_col0\" class=\"data row3 col0\" >0.000000</td>\n",
       "            </tr>\n",
       "            <tr>\n",
       "                        <th id=\"T_f2b38_level0_row4\" class=\"row_heading level0 row4\" >rooms</th>\n",
       "                        <td id=\"T_f2b38_row4_col0\" class=\"data row4 col0\" >0.000000</td>\n",
       "            </tr>\n",
       "            <tr>\n",
       "                        <th id=\"T_f2b38_level0_row5\" class=\"row_heading level0 row5\" >ceiling_height</th>\n",
       "                        <td id=\"T_f2b38_row5_col0\" class=\"data row5 col0\" >39.000000</td>\n",
       "            </tr>\n",
       "            <tr>\n",
       "                        <th id=\"T_f2b38_level0_row6\" class=\"row_heading level0 row6\" >floors_total</th>\n",
       "                        <td id=\"T_f2b38_row6_col0\" class=\"data row6 col0\" >0.000000</td>\n",
       "            </tr>\n",
       "            <tr>\n",
       "                        <th id=\"T_f2b38_level0_row7\" class=\"row_heading level0 row7\" >living_area</th>\n",
       "                        <td id=\"T_f2b38_row7_col0\" class=\"data row7 col0\" >8.000000</td>\n",
       "            </tr>\n",
       "            <tr>\n",
       "                        <th id=\"T_f2b38_level0_row8\" class=\"row_heading level0 row8\" >floor</th>\n",
       "                        <td id=\"T_f2b38_row8_col0\" class=\"data row8 col0\" >0.000000</td>\n",
       "            </tr>\n",
       "            <tr>\n",
       "                        <th id=\"T_f2b38_level0_row9\" class=\"row_heading level0 row9\" >is_apartment</th>\n",
       "                        <td id=\"T_f2b38_row9_col0\" class=\"data row9 col0\" >88.000000</td>\n",
       "            </tr>\n",
       "            <tr>\n",
       "                        <th id=\"T_f2b38_level0_row10\" class=\"row_heading level0 row10\" >studio</th>\n",
       "                        <td id=\"T_f2b38_row10_col0\" class=\"data row10 col0\" >0.000000</td>\n",
       "            </tr>\n",
       "            <tr>\n",
       "                        <th id=\"T_f2b38_level0_row11\" class=\"row_heading level0 row11\" >open_plan</th>\n",
       "                        <td id=\"T_f2b38_row11_col0\" class=\"data row11 col0\" >0.000000</td>\n",
       "            </tr>\n",
       "            <tr>\n",
       "                        <th id=\"T_f2b38_level0_row12\" class=\"row_heading level0 row12\" >kitchen_area</th>\n",
       "                        <td id=\"T_f2b38_row12_col0\" class=\"data row12 col0\" >10.000000</td>\n",
       "            </tr>\n",
       "            <tr>\n",
       "                        <th id=\"T_f2b38_level0_row13\" class=\"row_heading level0 row13\" >balcony</th>\n",
       "                        <td id=\"T_f2b38_row13_col0\" class=\"data row13 col0\" >49.000000</td>\n",
       "            </tr>\n",
       "            <tr>\n",
       "                        <th id=\"T_f2b38_level0_row14\" class=\"row_heading level0 row14\" >locality_name</th>\n",
       "                        <td id=\"T_f2b38_row14_col0\" class=\"data row14 col0\" >0.000000</td>\n",
       "            </tr>\n",
       "            <tr>\n",
       "                        <th id=\"T_f2b38_level0_row15\" class=\"row_heading level0 row15\" >airports_nearest</th>\n",
       "                        <td id=\"T_f2b38_row15_col0\" class=\"data row15 col0\" >23.000000</td>\n",
       "            </tr>\n",
       "            <tr>\n",
       "                        <th id=\"T_f2b38_level0_row16\" class=\"row_heading level0 row16\" >cityCenters_nearest</th>\n",
       "                        <td id=\"T_f2b38_row16_col0\" class=\"data row16 col0\" >23.000000</td>\n",
       "            </tr>\n",
       "            <tr>\n",
       "                        <th id=\"T_f2b38_level0_row17\" class=\"row_heading level0 row17\" >parks_around3000</th>\n",
       "                        <td id=\"T_f2b38_row17_col0\" class=\"data row17 col0\" >23.000000</td>\n",
       "            </tr>\n",
       "            <tr>\n",
       "                        <th id=\"T_f2b38_level0_row18\" class=\"row_heading level0 row18\" >parks_nearest</th>\n",
       "                        <td id=\"T_f2b38_row18_col0\" class=\"data row18 col0\" >66.000000</td>\n",
       "            </tr>\n",
       "            <tr>\n",
       "                        <th id=\"T_f2b38_level0_row19\" class=\"row_heading level0 row19\" >ponds_around3000</th>\n",
       "                        <td id=\"T_f2b38_row19_col0\" class=\"data row19 col0\" >23.000000</td>\n",
       "            </tr>\n",
       "            <tr>\n",
       "                        <th id=\"T_f2b38_level0_row20\" class=\"row_heading level0 row20\" >ponds_nearest</th>\n",
       "                        <td id=\"T_f2b38_row20_col0\" class=\"data row20 col0\" >62.000000</td>\n",
       "            </tr>\n",
       "            <tr>\n",
       "                        <th id=\"T_f2b38_level0_row21\" class=\"row_heading level0 row21\" >days_exposition</th>\n",
       "                        <td id=\"T_f2b38_row21_col0\" class=\"data row21 col0\" >13.000000</td>\n",
       "            </tr>\n",
       "    </tbody></table>"
      ],
      "text/plain": [
       "<pandas.io.formats.style.Styler at 0x234c14a0580>"
      ]
     },
     "execution_count": 621,
     "metadata": {},
     "output_type": "execute_result"
    }
   ],
   "source": [
    "# Выделим столбцы, на которые нужно обратить внимание\n",
    "\n",
    "pd.DataFrame(round(df.isna().mean()*100,)).style.background_gradient('coolwarm')"
   ]
  },
  {
   "cell_type": "code",
   "execution_count": 622,
   "metadata": {
    "scrolled": true
   },
   "outputs": [
    {
     "data": {
      "text/plain": [
       "0"
      ]
     },
     "execution_count": 622,
     "metadata": {},
     "output_type": "execute_result"
    }
   ],
   "source": [
    "# Проверим данные на явные дубликаты\n",
    "\n",
    "df.duplicated().sum()"
   ]
  },
  {
   "cell_type": "markdown",
   "metadata": {},
   "source": [
    "Явных дубликатов нет, можно переходить к обработке пропущенных значений."
   ]
  },
  {
   "cell_type": "markdown",
   "metadata": {},
   "source": [
    "Заменим пропущенные значения для следующих столбцов:\n",
    "- ceiling_height (высота потолка),\n",
    "- is_apartment (является ли объект апартаментами),\n",
    "- living_area (жилая площадь),\n",
    "- kitchen_area (площадь кухни),\n",
    "- balcony (балкон)."
   ]
  },
  {
   "cell_type": "code",
   "execution_count": 623,
   "metadata": {
    "scrolled": true
   },
   "outputs": [
    {
     "data": {
      "text/plain": [
       "2.65"
      ]
     },
     "metadata": {},
     "output_type": "display_data"
    },
    {
     "data": {
      "text/plain": [
       "2.77"
      ]
     },
     "metadata": {},
     "output_type": "display_data"
    }
   ],
   "source": [
    "# Посмотрим на меры центральной тенденции для высоты потолка.\n",
    "\n",
    "display(round(df['ceiling_height'].median(), 2))\n",
    "display(round(df['ceiling_height'].mean(), 2))"
   ]
  },
  {
   "cell_type": "markdown",
   "metadata": {},
   "source": [
    "Заменим пропуски в высоте потолка (ceiling_height) на медианное значение, относительно своего района (locality_name)."
   ]
  },
  {
   "cell_type": "code",
   "execution_count": 624,
   "metadata": {
    "scrolled": true
   },
   "outputs": [],
   "source": [
    "# Заменим пропуски по высоте полока.\n",
    "\n",
    "for locality_name in df['locality_name'].unique():\n",
    "    median = df.loc[df['locality_name'] == locality_name, 'ceiling_height'].median()\n",
    "    df.loc[(df['ceiling_height'].isna()) & (df['locality_name'] == locality_name), 'ceiling_height'] = median"
   ]
  },
  {
   "cell_type": "code",
   "execution_count": 625,
   "metadata": {},
   "outputs": [],
   "source": [
    "# Оставшие значения заменим общей медианой.\n",
    "df.loc[df['ceiling_height'].isna(), 'ceiling_height'] = df['ceiling_height'].median()"
   ]
  },
  {
   "cell_type": "code",
   "execution_count": 626,
   "metadata": {
    "colab": {
     "base_uri": "https://localhost:8080/",
     "height": 34
    },
    "id": "BlitQ_m5F1pS",
    "outputId": "c7c3958c-cf88-4b9d-e87b-ef982da7214c"
   },
   "outputs": [
    {
     "data": {
      "text/plain": [
       "array([nan, False, True], dtype=object)"
      ]
     },
     "execution_count": 626,
     "metadata": {},
     "output_type": "execute_result"
    }
   ],
   "source": [
    "# Посмотрим на значения в столбце is_apartment.\n",
    "\n",
    "df['is_apartment'].unique()"
   ]
  },
  {
   "cell_type": "code",
   "execution_count": 627,
   "metadata": {
    "colab": {
     "base_uri": "https://localhost:8080/",
     "height": 34
    },
    "id": "7on8sMjZJcfb",
    "outputId": "4e1a560a-cf5b-47fe-c246-295426d8a275"
   },
   "outputs": [
    {
     "data": {
      "text/plain": [
       "array([False,  True])"
      ]
     },
     "execution_count": 627,
     "metadata": {},
     "output_type": "execute_result"
    }
   ],
   "source": [
    "# Если владелец не указал этот параметр, то квартира не является апартаментами.\n",
    "# Заполним пропуски в столбце is_apartment.\n",
    "\n",
    "df['is_apartment'] = df['is_apartment'].fillna(False)\n",
    "\n",
    "df['is_apartment'].unique()"
   ]
  },
  {
   "cell_type": "code",
   "execution_count": 628,
   "metadata": {
    "colab": {
     "base_uri": "https://localhost:8080/"
    },
    "id": "_QyorFwPKVd5",
    "outputId": "c4ba947c-1171-4839-c205-c1f2e671c2a2"
   },
   "outputs": [
    {
     "data": {
      "text/plain": [
       "array([nan,  2.,  0.,  1.,  5.,  4.,  3.])"
      ]
     },
     "execution_count": 628,
     "metadata": {},
     "output_type": "execute_result"
    }
   ],
   "source": [
    "# Посмотрим на значения в столбце balcony.\n",
    "\n",
    "df['balcony'].unique()"
   ]
  },
  {
   "cell_type": "code",
   "execution_count": 629,
   "metadata": {
    "scrolled": true
   },
   "outputs": [
    {
     "data": {
      "text/plain": [
       "array([0., 2., 1., 5., 4., 3.])"
      ]
     },
     "execution_count": 629,
     "metadata": {},
     "output_type": "execute_result"
    }
   ],
   "source": [
    "# Аномальных значений нет.\n",
    "# Если владелец не указал этот параметр, то балкона нет.\n",
    "# Заполним пропуски в столбцее balcony.\n",
    "\n",
    "df['balcony'] = df['balcony'].fillna(0)\n",
    "df['balcony'].unique()"
   ]
  },
  {
   "cell_type": "code",
   "execution_count": 630,
   "metadata": {},
   "outputs": [
    {
     "data": {
      "text/plain": [
       "0.5734446218294131"
      ]
     },
     "execution_count": 630,
     "metadata": {},
     "output_type": "execute_result"
    }
   ],
   "source": [
    "# Посчитаем отношение жилой площади к общей.\n",
    "\n",
    "coef_living = df['living_area'].mean() / df[~df['living_area'].isna()]['total_area'].mean()\n",
    "coef_living"
   ]
  },
  {
   "cell_type": "code",
   "execution_count": 631,
   "metadata": {
    "scrolled": true
   },
   "outputs": [],
   "source": [
    "# Заменим отсутствующие значения жилой площали с учетом коэффициента. \n",
    "\n",
    "df['living_area'] = df['living_area'].fillna(df['total_area'] * coef_living)"
   ]
  },
  {
   "cell_type": "code",
   "execution_count": 632,
   "metadata": {
    "scrolled": true
   },
   "outputs": [
    {
     "data": {
      "text/plain": [
       "0.17398892610297417"
      ]
     },
     "execution_count": 632,
     "metadata": {},
     "output_type": "execute_result"
    }
   ],
   "source": [
    "# Посчитаем отношение кухни к общей площади.\n",
    "\n",
    "coef_kitchen = df['kitchen_area'].mean() / df[~df['kitchen_area'].isna()]['total_area'].mean()\n",
    "coef_kitchen"
   ]
  },
  {
   "cell_type": "code",
   "execution_count": 633,
   "metadata": {},
   "outputs": [],
   "source": [
    "# Заменим отсутствующие значения площади кухни с учетом коэффициента. \n",
    "\n",
    "df['kitchen_area'] = df['kitchen_area'].fillna(df['total_area'] * coef_kitchen)"
   ]
  },
  {
   "cell_type": "code",
   "execution_count": 634,
   "metadata": {
    "scrolled": false
   },
   "outputs": [
    {
     "data": {
      "text/plain": [
       "total_images                0\n",
       "last_price                  0\n",
       "total_area                  0\n",
       "first_day_exposition        0\n",
       "rooms                       0\n",
       "ceiling_height              0\n",
       "floors_total               86\n",
       "living_area                 0\n",
       "floor                       0\n",
       "is_apartment                0\n",
       "studio                      0\n",
       "open_plan                   0\n",
       "kitchen_area                0\n",
       "balcony                     0\n",
       "locality_name              49\n",
       "airports_nearest         5542\n",
       "cityCenters_nearest      5519\n",
       "parks_around3000         5518\n",
       "parks_nearest           15620\n",
       "ponds_around3000         5518\n",
       "ponds_nearest           14589\n",
       "days_exposition          3181\n",
       "dtype: int64"
      ]
     },
     "execution_count": 634,
     "metadata": {},
     "output_type": "execute_result"
    }
   ],
   "source": [
    "# Проверим пропущенные значения.\n",
    "\n",
    "df.isna().sum()"
   ]
  },
  {
   "cell_type": "markdown",
   "metadata": {},
   "source": [
    "Пропуски в данных могли появиться по следующим причинам:\n",
    "- пользователь мог заполнить не все параметры при публикации объявления;\n",
    "- некоторые картографические данные (парки, пруды, аэропорты) могли не загрузиться правильно;\n",
    "- данные могли исказаться при хранении в базе данных;\n",
    "- данные могли быть некорректно выгружены из базы данных."
   ]
  },
  {
   "cell_type": "markdown",
   "metadata": {},
   "source": [
    "### Проверка типов данных"
   ]
  },
  {
   "cell_type": "code",
   "execution_count": 635,
   "metadata": {
    "scrolled": true
   },
   "outputs": [
    {
     "name": "stdout",
     "output_type": "stream",
     "text": [
      "<class 'pandas.core.frame.DataFrame'>\n",
      "RangeIndex: 23699 entries, 0 to 23698\n",
      "Data columns (total 22 columns):\n",
      " #   Column                Non-Null Count  Dtype  \n",
      "---  ------                --------------  -----  \n",
      " 0   total_images          23699 non-null  int64  \n",
      " 1   last_price            23699 non-null  float64\n",
      " 2   total_area            23699 non-null  float64\n",
      " 3   first_day_exposition  23699 non-null  object \n",
      " 4   rooms                 23699 non-null  int64  \n",
      " 5   ceiling_height        23699 non-null  float64\n",
      " 6   floors_total          23613 non-null  float64\n",
      " 7   living_area           23699 non-null  float64\n",
      " 8   floor                 23699 non-null  int64  \n",
      " 9   is_apartment          23699 non-null  bool   \n",
      " 10  studio                23699 non-null  bool   \n",
      " 11  open_plan             23699 non-null  bool   \n",
      " 12  kitchen_area          23699 non-null  float64\n",
      " 13  balcony               23699 non-null  float64\n",
      " 14  locality_name         23650 non-null  object \n",
      " 15  airports_nearest      18157 non-null  float64\n",
      " 16  cityCenters_nearest   18180 non-null  float64\n",
      " 17  parks_around3000      18181 non-null  float64\n",
      " 18  parks_nearest         8079 non-null   float64\n",
      " 19  ponds_around3000      18181 non-null  float64\n",
      " 20  ponds_nearest         9110 non-null   float64\n",
      " 21  days_exposition       20518 non-null  float64\n",
      "dtypes: bool(3), float64(14), int64(3), object(2)\n",
      "memory usage: 3.5+ MB\n"
     ]
    }
   ],
   "source": [
    "df.info()"
   ]
  },
  {
   "cell_type": "code",
   "execution_count": 636,
   "metadata": {},
   "outputs": [],
   "source": [
    "# Заменим тип данных в столбце first_day_exposition на datetime.\n",
    "# Данные записаны в формате 2019-03-07T00:00:00.\n",
    "\n",
    "df['first_day_exposition'] = pd.to_datetime(df['first_day_exposition'], format='%Y-%m-%dT%H:%M:%S')"
   ]
  },
  {
   "cell_type": "code",
   "execution_count": 637,
   "metadata": {},
   "outputs": [],
   "source": [
    "# Переведем кол-во балконов из float в int.\n",
    "\n",
    "df['balcony'] = df['balcony'].astype(int)"
   ]
  },
  {
   "cell_type": "code",
   "execution_count": 638,
   "metadata": {},
   "outputs": [],
   "source": [
    "# Переведем цены из float в int.\n",
    "\n",
    "df['last_price'] = df['last_price'].astype(int)"
   ]
  },
  {
   "cell_type": "markdown",
   "metadata": {},
   "source": [
    "Изменили тип данных из строки в дату время в колонке first_day_exposition, так как pandas позволяет анализировать тип данных datetime способами, которые не применимы к строкам.\n",
    "\n",
    "Также при удалении пропущенных значений в колонке is_apartment тип данных изменился со строкового на булевый. \n",
    "\n",
    "Перевели количество балконов из вещественного числа в целое.\n",
    "\n",
    "Перевели цены из вещественного числа в целое."
   ]
  },
  {
   "cell_type": "markdown",
   "metadata": {},
   "source": [
    "### Проверка дубликатов в названии населенных пунктов"
   ]
  },
  {
   "cell_type": "code",
   "execution_count": 639,
   "metadata": {},
   "outputs": [
    {
     "data": {
      "text/plain": [
       "array(['Санкт-Петербург', 'посёлок Шушары', 'городской посёлок Янино-1',\n",
       "       'посёлок Парголово', 'посёлок Мурино', 'Ломоносов', 'Сертолово',\n",
       "       'Петергоф', 'Пушкин', 'деревня Кудрово', 'Коммунар', 'Колпино',\n",
       "       'поселок городского типа Красный Бор', 'Гатчина', 'поселок Мурино',\n",
       "       'деревня Фёдоровское', 'Выборг', 'Кронштадт', 'Кировск',\n",
       "       'деревня Новое Девяткино', 'посёлок Металлострой',\n",
       "       'посёлок городского типа Лебяжье',\n",
       "       'посёлок городского типа Сиверский', 'поселок Молодцово',\n",
       "       'поселок городского типа Кузьмоловский',\n",
       "       'садовое товарищество Новая Ропша', 'Павловск',\n",
       "       'деревня Пикколово', 'Всеволожск', 'Волхов', 'Кингисепп',\n",
       "       'Приозерск', 'Сестрорецк', 'деревня Куттузи', 'посёлок Аннино',\n",
       "       'поселок городского типа Ефимовский', 'посёлок Плодовое',\n",
       "       'деревня Заклинье', 'поселок Торковичи', 'поселок Первомайское',\n",
       "       'Красное Село', 'посёлок Понтонный', 'Сясьстрой', 'деревня Старая',\n",
       "       'деревня Лесколово', 'посёлок Новый Свет', 'Сланцы',\n",
       "       'село Путилово', 'Ивангород', 'Мурино', 'Шлиссельбург',\n",
       "       'Никольское', 'Зеленогорск', 'Сосновый Бор', 'поселок Новый Свет',\n",
       "       'деревня Оржицы', 'деревня Кальтино', 'Кудрово',\n",
       "       'поселок Романовка', 'посёлок Бугры', 'поселок Бугры',\n",
       "       'поселок городского типа Рощино', 'Кириши', 'Луга', 'Волосово',\n",
       "       'Отрадное', 'село Павлово', 'поселок Оредеж', 'село Копорье',\n",
       "       'посёлок городского типа Красный Бор', 'посёлок Молодёжное',\n",
       "       'Тихвин', 'посёлок Победа', 'деревня Нурма',\n",
       "       'поселок городского типа Синявино', 'Тосно',\n",
       "       'посёлок городского типа Кузьмоловский', 'посёлок Стрельна',\n",
       "       'Бокситогорск', 'посёлок Александровская', 'деревня Лопухинка',\n",
       "       'Пикалёво', 'поселок Терволово',\n",
       "       'поселок городского типа Советский', 'Подпорожье',\n",
       "       'посёлок Петровское', 'посёлок городского типа Токсово',\n",
       "       'поселок Сельцо', 'посёлок городского типа Вырица',\n",
       "       'деревня Кипень', 'деревня Келози', 'деревня Вартемяги',\n",
       "       'посёлок Тельмана', 'поселок Севастьяново',\n",
       "       'городской поселок Большая Ижора', nan,\n",
       "       'городской посёлок Павлово', 'деревня Агалатово',\n",
       "       'посёлок Новогорелово', 'городской посёлок Лесогорский',\n",
       "       'деревня Лаголово', 'поселок Цвелодубово',\n",
       "       'поселок городского типа Рахья', 'поселок городского типа Вырица',\n",
       "       'деревня Белогорка', 'поселок Заводской',\n",
       "       'городской посёлок Новоселье', 'деревня Большие Колпаны',\n",
       "       'деревня Горбунки', 'деревня Батово', 'деревня Заневка',\n",
       "       'деревня Иссад', 'Приморск', 'городской посёлок Фёдоровское',\n",
       "       'деревня Мистолово', 'Новая Ладога', 'поселок Зимитицы',\n",
       "       'поселок Барышево', 'деревня Разметелево',\n",
       "       'поселок городского типа имени Свердлова', 'деревня Пеники',\n",
       "       'поселок Рябово', 'деревня Пудомяги', 'поселок станции Корнево',\n",
       "       'деревня Низино', 'деревня Бегуницы', 'посёлок Поляны',\n",
       "       'городской посёлок Мга', 'поселок Елизаветино',\n",
       "       'посёлок городского типа Кузнечное', 'деревня Колтуши',\n",
       "       'поселок Запорожское', 'посёлок городского типа Рощино',\n",
       "       'деревня Гостилицы', 'деревня Малое Карлино',\n",
       "       'посёлок Мичуринское', 'посёлок городского типа имени Морозова',\n",
       "       'посёлок Песочный', 'посёлок Сосново', 'деревня Аро',\n",
       "       'поселок Ильичёво', 'посёлок городского типа Тайцы',\n",
       "       'деревня Малое Верево', 'деревня Извара', 'поселок станции Вещево',\n",
       "       'село Паша', 'деревня Калитино',\n",
       "       'посёлок городского типа Ульяновка', 'деревня Чудской Бор',\n",
       "       'поселок городского типа Дубровка', 'деревня Мины',\n",
       "       'поселок Войсковицы', 'посёлок городского типа имени Свердлова',\n",
       "       'деревня Коркино', 'посёлок Ропша',\n",
       "       'поселок городского типа Приладожский', 'посёлок Щеглово',\n",
       "       'посёлок Гаврилово', 'Лодейное Поле', 'деревня Рабитицы',\n",
       "       'поселок городского типа Никольский', 'деревня Кузьмолово',\n",
       "       'деревня Малые Колпаны', 'поселок Тельмана',\n",
       "       'посёлок Петро-Славянка', 'городской посёлок Назия',\n",
       "       'посёлок Репино', 'посёлок Ильичёво', 'поселок Углово',\n",
       "       'поселок Старая Малукса', 'садовое товарищество Рахья',\n",
       "       'поселок Аннино', 'поселок Победа', 'деревня Меньково',\n",
       "       'деревня Старые Бегуницы', 'посёлок Сапёрный', 'поселок Семрино',\n",
       "       'поселок Гаврилово', 'поселок Глажево', 'поселок Кобринское',\n",
       "       'деревня Гарболово', 'деревня Юкки',\n",
       "       'поселок станции Приветнинское', 'деревня Мануйлово',\n",
       "       'деревня Пчева', 'поселок Поляны', 'поселок Цвылёво',\n",
       "       'поселок Мельниково', 'посёлок Пудость', 'посёлок Усть-Луга',\n",
       "       'Светогорск', 'Любань', 'поселок Селезнёво',\n",
       "       'поселок городского типа Рябово', 'Каменногорск', 'деревня Кривко',\n",
       "       'поселок Глебычево', 'деревня Парицы', 'поселок Жилпосёлок',\n",
       "       'посёлок городского типа Мга', 'городской поселок Янино-1',\n",
       "       'посёлок Войскорово', 'село Никольское', 'посёлок Терволово',\n",
       "       'поселок Стеклянный', 'посёлок городского типа Важины',\n",
       "       'посёлок Мыза-Ивановка', 'село Русско-Высоцкое',\n",
       "       'поселок городского типа Лебяжье',\n",
       "       'поселок городского типа Форносово', 'село Старая Ладога',\n",
       "       'поселок Житково', 'городской посёлок Виллози', 'деревня Лампово',\n",
       "       'деревня Шпаньково', 'деревня Лаврики', 'посёлок Сумино',\n",
       "       'посёлок Возрождение', 'деревня Старосиверская',\n",
       "       'посёлок Кикерино', 'поселок Возрождение',\n",
       "       'деревня Старое Хинколово', 'посёлок Пригородный',\n",
       "       'посёлок Торфяное', 'городской посёлок Будогощь',\n",
       "       'поселок Суходолье', 'поселок Красная Долина', 'деревня Хапо-Ое',\n",
       "       'поселок городского типа Дружная Горка', 'поселок Лисий Нос',\n",
       "       'деревня Яльгелево', 'посёлок Стеклянный', 'село Рождествено',\n",
       "       'деревня Старополье', 'посёлок Левашово', 'деревня Сяськелево',\n",
       "       'деревня Камышовка',\n",
       "       'садоводческое некоммерческое товарищество Лесная Поляна',\n",
       "       'деревня Хязельки', 'поселок Жилгородок',\n",
       "       'посёлок городского типа Павлово', 'деревня Ялгино',\n",
       "       'поселок Новый Учхоз', 'городской посёлок Рощино',\n",
       "       'поселок Гончарово', 'поселок Почап', 'посёлок Сапёрное',\n",
       "       'посёлок Платформа 69-й километр', 'поселок Каложицы',\n",
       "       'деревня Фалилеево', 'деревня Пельгора',\n",
       "       'поселок городского типа Лесогорский', 'деревня Торошковичи',\n",
       "       'посёлок Белоостров', 'посёлок Алексеевка', 'поселок Серебрянский',\n",
       "       'поселок Лукаши', 'поселок Петровское', 'деревня Щеглово',\n",
       "       'поселок Мичуринское', 'деревня Тарасово', 'поселок Кингисеппский',\n",
       "       'посёлок при железнодорожной станции Вещево', 'поселок Ушаки',\n",
       "       'деревня Котлы', 'деревня Сижно', 'деревня Торосово',\n",
       "       'посёлок Форт Красная Горка', 'поселок городского типа Токсово',\n",
       "       'деревня Новолисино', 'посёлок станции Громово', 'деревня Глинка',\n",
       "       'посёлок Мельниково', 'поселок городского типа Назия',\n",
       "       'деревня Старая Пустошь', 'поселок Коммунары', 'поселок Починок',\n",
       "       'посёлок городского типа Вознесенье', 'деревня Разбегаево',\n",
       "       'посёлок городского типа Рябово', 'поселок Гладкое',\n",
       "       'посёлок при железнодорожной станции Приветнинское',\n",
       "       'поселок Тёсово-4', 'посёлок Жилгородок', 'деревня Бор',\n",
       "       'посёлок Коробицыно', 'деревня Большая Вруда', 'деревня Курковицы',\n",
       "       'посёлок Лисий Нос', 'городской посёлок Советский',\n",
       "       'посёлок Кобралово', 'деревня Суоранда', 'поселок Кобралово',\n",
       "       'поселок городского типа Кондратьево',\n",
       "       'коттеджный поселок Счастье', 'поселок Любань', 'деревня Реброво',\n",
       "       'деревня Зимитицы', 'деревня Тойворово', 'поселок Семиозерье',\n",
       "       'поселок Лесное', 'поселок Совхозный', 'поселок Усть-Луга',\n",
       "       'посёлок Ленинское', 'посёлок Суйда',\n",
       "       'посёлок городского типа Форносово', 'деревня Нижние Осельки',\n",
       "       'посёлок станции Свирь', 'поселок Перово', 'Высоцк',\n",
       "       'поселок Гарболово', 'село Шум', 'поселок Котельский',\n",
       "       'поселок станции Лужайка', 'деревня Большая Пустомержа',\n",
       "       'поселок Красносельское', 'деревня Вахнова Кара', 'деревня Пижма',\n",
       "       'коттеджный поселок Кивеннапа Север', 'поселок Коробицыно',\n",
       "       'поселок Ромашки', 'посёлок Перово', 'деревня Каськово',\n",
       "       'деревня Куровицы', 'посёлок Плоское', 'поселок Сумино',\n",
       "       'поселок городского типа Большая Ижора', 'поселок Кирпичное',\n",
       "       'деревня Ям-Тесово', 'деревня Раздолье', 'деревня Терпилицы',\n",
       "       'посёлок Шугозеро', 'деревня Ваганово', 'поселок Пушное',\n",
       "       'садовое товарищество Садко', 'посёлок Усть-Ижора',\n",
       "       'деревня Выскатка', 'городской посёлок Свирьстрой',\n",
       "       'поселок Громово', 'деревня Кисельня', 'посёлок Старая Малукса',\n",
       "       'деревня Трубников Бор', 'поселок Калитино',\n",
       "       'посёлок Высокоключевой', 'садовое товарищество Приладожский',\n",
       "       'посёлок Пансионат Зелёный Бор', 'деревня Ненимяки',\n",
       "       'поселок Пансионат Зелёный Бор', 'деревня Снегирёвка',\n",
       "       'деревня Рапполово', 'деревня Пустынка', 'поселок Рабитицы',\n",
       "       'деревня Большой Сабск', 'деревня Русско', 'деревня Лупполово',\n",
       "       'деревня Большое Рейзино', 'деревня Малая Романовка',\n",
       "       'поселок Дружноселье', 'поселок Пчевжа', 'поселок Володарское',\n",
       "       'деревня Нижняя', 'коттеджный посёлок Лесное', 'деревня Тихковицы',\n",
       "       'деревня Борисова Грива', 'посёлок Дзержинского'], dtype=object)"
      ]
     },
     "execution_count": 639,
     "metadata": {},
     "output_type": "execute_result"
    }
   ],
   "source": [
    "# Посмотрим на значения в столбце locality_name.\n",
    "\n",
    "df['locality_name'].unique()"
   ]
  },
  {
   "cell_type": "code",
   "execution_count": 640,
   "metadata": {},
   "outputs": [
    {
     "data": {
      "text/plain": [
       "365"
      ]
     },
     "execution_count": 640,
     "metadata": {},
     "output_type": "execute_result"
    }
   ],
   "source": [
    "# Посмотрим на количество уникальных значений\n",
    "\n",
    "len(df['locality_name'].unique())"
   ]
  },
  {
   "cell_type": "code",
   "execution_count": 641,
   "metadata": {},
   "outputs": [],
   "source": [
    "# Напишем функцию, чтобы убрать неявные дубликаты.\n",
    "\n",
    "def locality_func(row):\n",
    "    try:\n",
    "        if 'посёлок городского типа' in row:\n",
    "            return row.replace('посёлок городского типа', 'поселок')\n",
    "        elif 'поселок городского типа' in row:\n",
    "            return row.replace('поселок городского типа', 'поселок')\n",
    "        elif 'городской поселок' in row:\n",
    "            return row.replace('городской поселок', 'поселок')\n",
    "        elif 'городской посёлок' in row:\n",
    "            return row.replace('городской посёлок', 'поселок')\n",
    "        elif 'посёлок' in row:\n",
    "            return row.replace('посёлок', 'поселок')\n",
    "        else:\n",
    "            return row\n",
    "    except:\n",
    "        return row"
   ]
  },
  {
   "cell_type": "code",
   "execution_count": 642,
   "metadata": {},
   "outputs": [],
   "source": [
    "# Применим функцию.\n",
    "\n",
    "df['locality_name'] = df['locality_name'].apply(locality_func)"
   ]
  },
  {
   "cell_type": "code",
   "execution_count": 643,
   "metadata": {},
   "outputs": [
    {
     "data": {
      "text/plain": [
       "323"
      ]
     },
     "execution_count": 643,
     "metadata": {},
     "output_type": "execute_result"
    }
   ],
   "source": [
    "# Посмотрим на количество уникальных значений.\n",
    "\n",
    "len(df['locality_name'].unique())"
   ]
  },
  {
   "cell_type": "markdown",
   "metadata": {},
   "source": [
    "Убрали неявные дубликаты в столбце с названиями населенных пунктов и снизили количество уникальных значений с 365 до 323 (на 12%)."
   ]
  },
  {
   "cell_type": "markdown",
   "metadata": {},
   "source": [
    "### Обработка аномальных значений"
   ]
  },
  {
   "cell_type": "code",
   "execution_count": 644,
   "metadata": {
    "scrolled": true
   },
   "outputs": [
    {
     "data": {
      "text/plain": [
       "array([ 0,  1,  2,  3,  4,  5,  6,  7,  8,  9, 10, 11, 12, 13, 14, 15, 16,\n",
       "       17, 18, 19, 20, 21, 22, 23, 24, 25, 26, 27, 28, 29, 30, 31, 32, 35,\n",
       "       37, 39, 42, 50], dtype=int64)"
      ]
     },
     "metadata": {},
     "output_type": "display_data"
    },
    {
     "name": "stdout",
     "output_type": "stream",
     "text": [
      "\n"
     ]
    },
    {
     "data": {
      "text/plain": [
       "array([    12190,    430000,    440000, ..., 401300000, 420000000,\n",
       "       763000000])"
      ]
     },
     "metadata": {},
     "output_type": "display_data"
    },
    {
     "name": "stdout",
     "output_type": "stream",
     "text": [
      "\n"
     ]
    },
    {
     "data": {
      "text/plain": [
       "array([ 12. ,  13. ,  13.2, ..., 631. , 631.2, 900. ])"
      ]
     },
     "metadata": {},
     "output_type": "display_data"
    },
    {
     "name": "stdout",
     "output_type": "stream",
     "text": [
      "\n"
     ]
    },
    {
     "data": {
      "text/plain": [
       "array(['2014-11-27T00:00:00.000000000', '2014-11-29T00:00:00.000000000',\n",
       "       '2014-12-04T00:00:00.000000000', ...,\n",
       "       '2019-05-01T00:00:00.000000000', '2019-05-02T00:00:00.000000000',\n",
       "       '2019-05-03T00:00:00.000000000'], dtype='datetime64[ns]')"
      ]
     },
     "metadata": {},
     "output_type": "display_data"
    },
    {
     "name": "stdout",
     "output_type": "stream",
     "text": [
      "\n"
     ]
    },
    {
     "data": {
      "text/plain": [
       "array([ 0,  1,  2,  3,  4,  5,  6,  7,  8,  9, 10, 11, 12, 14, 15, 16, 19],\n",
       "      dtype=int64)"
      ]
     },
     "metadata": {},
     "output_type": "display_data"
    },
    {
     "name": "stdout",
     "output_type": "stream",
     "text": [
      "\n"
     ]
    },
    {
     "data": {
      "text/plain": [
       "array([  1.   ,   1.2  ,   1.75 ,   2.   ,   2.2  ,   2.25 ,   2.3  ,\n",
       "         2.34 ,   2.4  ,   2.45 ,   2.46 ,   2.47 ,   2.48 ,   2.49 ,\n",
       "         2.5  ,   2.51 ,   2.515,   2.52 ,   2.525,   2.53 ,   2.54 ,\n",
       "         2.55 ,   2.555,   2.56 ,   2.56 ,   2.57 ,   2.575,   2.58 ,\n",
       "         2.59 ,   2.6  ,   2.6  ,   2.61 ,   2.615,   2.62 ,   2.625,\n",
       "         2.63 ,   2.64 ,   2.65 ,   2.65 ,   2.66 ,   2.67 ,   2.675,\n",
       "         2.68 ,   2.69 ,   2.7  ,   2.71 ,   2.72 ,   2.725,   2.73 ,\n",
       "         2.74 ,   2.75 ,   2.76 ,   2.77 ,   2.78 ,   2.79 ,   2.8  ,\n",
       "         2.81 ,   2.82 ,   2.83 ,   2.84 ,   2.85 ,   2.86 ,   2.87 ,\n",
       "         2.88 ,   2.89 ,   2.9  ,   2.91 ,   2.92 ,   2.93 ,   2.94 ,\n",
       "         2.95 ,   2.96 ,   2.97 ,   2.98 ,   2.99 ,   3.   ,   3.01 ,\n",
       "         3.02 ,   3.03 ,   3.04 ,   3.05 ,   3.06 ,   3.07 ,   3.08 ,\n",
       "         3.09 ,   3.1  ,   3.11 ,   3.12 ,   3.13 ,   3.14 ,   3.15 ,\n",
       "         3.16 ,   3.17 ,   3.18 ,   3.2  ,   3.21 ,   3.22 ,   3.23 ,\n",
       "         3.24 ,   3.25 ,   3.26 ,   3.27 ,   3.28 ,   3.29 ,   3.3  ,\n",
       "         3.31 ,   3.32 ,   3.33 ,   3.34 ,   3.35 ,   3.36 ,   3.37 ,\n",
       "         3.38 ,   3.39 ,   3.4  ,   3.42 ,   3.43 ,   3.44 ,   3.45 ,\n",
       "         3.46 ,   3.47 ,   3.48 ,   3.49 ,   3.5  ,   3.51 ,   3.52 ,\n",
       "         3.53 ,   3.54 ,   3.55 ,   3.56 ,   3.57 ,   3.58 ,   3.59 ,\n",
       "         3.6  ,   3.62 ,   3.63 ,   3.65 ,   3.66 ,   3.67 ,   3.68 ,\n",
       "         3.69 ,   3.7  ,   3.75 ,   3.76 ,   3.78 ,   3.8  ,   3.82 ,\n",
       "         3.83 ,   3.84 ,   3.85 ,   3.86 ,   3.87 ,   3.88 ,   3.9  ,\n",
       "         3.93 ,   3.95 ,   3.98 ,   4.   ,   4.06 ,   4.1  ,   4.14 ,\n",
       "         4.15 ,   4.19 ,   4.2  ,   4.25 ,   4.3  ,   4.37 ,   4.4  ,\n",
       "         4.45 ,   4.5  ,   4.65 ,   4.7  ,   4.8  ,   4.9  ,   5.   ,\n",
       "         5.2  ,   5.3  ,   5.5  ,   5.6  ,   5.8  ,   6.   ,   8.   ,\n",
       "         8.3  ,  10.3  ,  13.85 ,  14.   ,  20.   ,  22.6  ,  24.   ,\n",
       "        25.   ,  26.   ,  27.   ,  27.5  ,  32.   , 100.   ])"
      ]
     },
     "metadata": {},
     "output_type": "display_data"
    },
    {
     "name": "stdout",
     "output_type": "stream",
     "text": [
      "\n"
     ]
    },
    {
     "data": {
      "text/plain": [
       "array([ 1.,  2.,  3.,  4.,  5.,  6.,  7.,  8.,  9., 10., 11., 12., 13.,\n",
       "       14., 15., 16., 17., 18., 19., 20., 21., 22., 23., 24., 25., 26.,\n",
       "       27., 28., 29., 33., 34., 35., 36., 37., 52., 60., nan])"
      ]
     },
     "metadata": {},
     "output_type": "display_data"
    },
    {
     "name": "stdout",
     "output_type": "stream",
     "text": [
      "\n"
     ]
    },
    {
     "data": {
      "text/plain": [
       "array([  2.        ,   3.        ,   5.        , ..., 361.84355637,\n",
       "       409.        , 409.7       ])"
      ]
     },
     "metadata": {},
     "output_type": "display_data"
    },
    {
     "name": "stdout",
     "output_type": "stream",
     "text": [
      "\n"
     ]
    },
    {
     "data": {
      "text/plain": [
       "array([ 1,  2,  3,  4,  5,  6,  7,  8,  9, 10, 11, 12, 13, 14, 15, 16, 17,\n",
       "       18, 19, 20, 21, 22, 23, 24, 25, 26, 27, 28, 29, 30, 31, 32, 33],\n",
       "      dtype=int64)"
      ]
     },
     "metadata": {},
     "output_type": "display_data"
    },
    {
     "name": "stdout",
     "output_type": "stream",
     "text": [
      "\n"
     ]
    },
    {
     "data": {
      "text/plain": [
       "array([False,  True])"
      ]
     },
     "metadata": {},
     "output_type": "display_data"
    },
    {
     "name": "stdout",
     "output_type": "stream",
     "text": [
      "\n"
     ]
    },
    {
     "data": {
      "text/plain": [
       "array([False,  True])"
      ]
     },
     "metadata": {},
     "output_type": "display_data"
    },
    {
     "name": "stdout",
     "output_type": "stream",
     "text": [
      "\n"
     ]
    },
    {
     "data": {
      "text/plain": [
       "array([False,  True])"
      ]
     },
     "metadata": {},
     "output_type": "display_data"
    },
    {
     "name": "stdout",
     "output_type": "stream",
     "text": [
      "\n"
     ]
    },
    {
     "data": {
      "text/plain": [
       "array([  1.3       ,   2.        ,   2.08786711, ..., 100.7       ,\n",
       "       107.        , 112.        ])"
      ]
     },
     "metadata": {},
     "output_type": "display_data"
    },
    {
     "name": "stdout",
     "output_type": "stream",
     "text": [
      "\n"
     ]
    },
    {
     "data": {
      "text/plain": [
       "array([0, 1, 2, 3, 4, 5])"
      ]
     },
     "metadata": {},
     "output_type": "display_data"
    },
    {
     "name": "stdout",
     "output_type": "stream",
     "text": [
      "\n",
      "\n"
     ]
    },
    {
     "data": {
      "text/plain": [
       "array([    0.,  6450.,  6914., ..., 84853., 84869.,    nan])"
      ]
     },
     "metadata": {},
     "output_type": "display_data"
    },
    {
     "name": "stdout",
     "output_type": "stream",
     "text": [
      "\n"
     ]
    },
    {
     "data": {
      "text/plain": [
       "array([  181.,   208.,   215., ..., 65952., 65968.,    nan])"
      ]
     },
     "metadata": {},
     "output_type": "display_data"
    },
    {
     "name": "stdout",
     "output_type": "stream",
     "text": [
      "\n"
     ]
    },
    {
     "data": {
      "text/plain": [
       "array([ 0.,  1.,  2.,  3., nan])"
      ]
     },
     "metadata": {},
     "output_type": "display_data"
    },
    {
     "name": "stdout",
     "output_type": "stream",
     "text": [
      "\n"
     ]
    },
    {
     "data": {
      "text/plain": [
       "array([1.000e+00, 3.000e+00, 4.000e+00, 7.000e+00, 9.000e+00, 1.000e+01,\n",
       "       1.100e+01, 1.200e+01, 1.300e+01, 1.400e+01, 1.500e+01, 1.600e+01,\n",
       "       1.700e+01, 1.800e+01, 1.900e+01, 2.000e+01, 2.100e+01, 2.200e+01,\n",
       "       2.300e+01, 2.400e+01, 2.700e+01, 2.800e+01, 3.000e+01, 3.200e+01,\n",
       "       3.300e+01, 3.400e+01, 3.500e+01, 3.600e+01, 3.700e+01, 3.800e+01,\n",
       "       3.900e+01, 4.000e+01, 4.100e+01, 4.200e+01, 4.300e+01, 4.400e+01,\n",
       "       4.500e+01, 4.600e+01, 4.700e+01, 4.800e+01, 4.900e+01, 5.000e+01,\n",
       "       5.100e+01, 5.200e+01, 5.300e+01, 5.400e+01, 5.500e+01, 5.600e+01,\n",
       "       5.700e+01, 5.800e+01, 5.900e+01, 6.000e+01, 6.100e+01, 6.200e+01,\n",
       "       6.300e+01, 6.400e+01, 6.500e+01, 6.600e+01, 6.700e+01, 6.800e+01,\n",
       "       6.900e+01, 7.100e+01, 7.200e+01, 7.300e+01, 7.400e+01, 7.500e+01,\n",
       "       7.600e+01, 7.700e+01, 7.800e+01, 8.000e+01, 8.100e+01, 8.200e+01,\n",
       "       8.300e+01, 8.400e+01, 8.500e+01, 8.600e+01, 8.700e+01, 8.800e+01,\n",
       "       9.000e+01, 9.100e+01, 9.200e+01, 9.300e+01, 9.400e+01, 9.500e+01,\n",
       "       9.600e+01, 9.700e+01, 9.800e+01, 9.900e+01, 1.000e+02, 1.010e+02,\n",
       "       1.020e+02, 1.030e+02, 1.040e+02, 1.050e+02, 1.060e+02, 1.070e+02,\n",
       "       1.080e+02, 1.090e+02, 1.100e+02, 1.120e+02, 1.130e+02, 1.140e+02,\n",
       "       1.150e+02, 1.160e+02, 1.170e+02, 1.180e+02, 1.190e+02, 1.200e+02,\n",
       "       1.210e+02, 1.220e+02, 1.230e+02, 1.240e+02, 1.250e+02, 1.260e+02,\n",
       "       1.270e+02, 1.280e+02, 1.290e+02, 1.300e+02, 1.310e+02, 1.320e+02,\n",
       "       1.330e+02, 1.340e+02, 1.350e+02, 1.360e+02, 1.370e+02, 1.380e+02,\n",
       "       1.390e+02, 1.400e+02, 1.410e+02, 1.420e+02, 1.440e+02, 1.450e+02,\n",
       "       1.460e+02, 1.470e+02, 1.480e+02, 1.490e+02, 1.500e+02, 1.510e+02,\n",
       "       1.520e+02, 1.530e+02, 1.540e+02, 1.550e+02, 1.560e+02, 1.570e+02,\n",
       "       1.580e+02, 1.590e+02, 1.600e+02, 1.610e+02, 1.620e+02, 1.630e+02,\n",
       "       1.640e+02, 1.650e+02, 1.660e+02, 1.670e+02, 1.680e+02, 1.690e+02,\n",
       "       1.700e+02, 1.710e+02, 1.720e+02, 1.730e+02, 1.740e+02, 1.750e+02,\n",
       "       1.760e+02, 1.770e+02, 1.780e+02, 1.790e+02, 1.800e+02, 1.810e+02,\n",
       "       1.820e+02, 1.830e+02, 1.840e+02, 1.850e+02, 1.860e+02, 1.870e+02,\n",
       "       1.880e+02, 1.890e+02, 1.900e+02, 1.910e+02, 1.920e+02, 1.930e+02,\n",
       "       1.940e+02, 1.950e+02, 1.960e+02, 1.970e+02, 1.980e+02, 1.990e+02,\n",
       "       2.000e+02, 2.010e+02, 2.020e+02, 2.030e+02, 2.040e+02, 2.050e+02,\n",
       "       2.060e+02, 2.070e+02, 2.080e+02, 2.090e+02, 2.100e+02, 2.110e+02,\n",
       "       2.120e+02, 2.130e+02, 2.150e+02, 2.160e+02, 2.170e+02, 2.180e+02,\n",
       "       2.190e+02, 2.200e+02, 2.210e+02, 2.220e+02, 2.230e+02, 2.240e+02,\n",
       "       2.250e+02, 2.260e+02, 2.270e+02, 2.280e+02, 2.290e+02, 2.300e+02,\n",
       "       2.310e+02, 2.320e+02, 2.330e+02, 2.340e+02, 2.350e+02, 2.360e+02,\n",
       "       2.370e+02, 2.380e+02, 2.390e+02, 2.400e+02, 2.410e+02, 2.420e+02,\n",
       "       2.430e+02, 2.440e+02, 2.450e+02, 2.460e+02, 2.470e+02, 2.480e+02,\n",
       "       2.490e+02, 2.500e+02, 2.510e+02, 2.520e+02, 2.530e+02, 2.540e+02,\n",
       "       2.550e+02, 2.560e+02, 2.570e+02, 2.580e+02, 2.590e+02, 2.600e+02,\n",
       "       2.610e+02, 2.620e+02, 2.630e+02, 2.640e+02, 2.650e+02, 2.660e+02,\n",
       "       2.670e+02, 2.680e+02, 2.690e+02, 2.700e+02, 2.710e+02, 2.720e+02,\n",
       "       2.730e+02, 2.740e+02, 2.750e+02, 2.760e+02, 2.770e+02, 2.780e+02,\n",
       "       2.790e+02, 2.800e+02, 2.810e+02, 2.820e+02, 2.830e+02, 2.840e+02,\n",
       "       2.850e+02, 2.860e+02, 2.870e+02, 2.880e+02, 2.890e+02, 2.900e+02,\n",
       "       2.910e+02, 2.920e+02, 2.930e+02, 2.940e+02, 2.950e+02, 2.960e+02,\n",
       "       2.970e+02, 2.980e+02, 2.990e+02, 3.000e+02, 3.010e+02, 3.020e+02,\n",
       "       3.030e+02, 3.040e+02, 3.050e+02, 3.060e+02, 3.070e+02, 3.080e+02,\n",
       "       3.090e+02, 3.100e+02, 3.110e+02, 3.120e+02, 3.130e+02, 3.140e+02,\n",
       "       3.150e+02, 3.160e+02, 3.170e+02, 3.180e+02, 3.190e+02, 3.200e+02,\n",
       "       3.210e+02, 3.220e+02, 3.230e+02, 3.240e+02, 3.250e+02, 3.260e+02,\n",
       "       3.270e+02, 3.280e+02, 3.290e+02, 3.300e+02, 3.310e+02, 3.320e+02,\n",
       "       3.330e+02, 3.340e+02, 3.350e+02, 3.360e+02, 3.370e+02, 3.380e+02,\n",
       "       3.390e+02, 3.400e+02, 3.410e+02, 3.420e+02, 3.430e+02, 3.440e+02,\n",
       "       3.450e+02, 3.460e+02, 3.470e+02, 3.480e+02, 3.490e+02, 3.500e+02,\n",
       "       3.510e+02, 3.520e+02, 3.530e+02, 3.540e+02, 3.550e+02, 3.560e+02,\n",
       "       3.570e+02, 3.580e+02, 3.590e+02, 3.600e+02, 3.610e+02, 3.620e+02,\n",
       "       3.630e+02, 3.640e+02, 3.650e+02, 3.660e+02, 3.670e+02, 3.680e+02,\n",
       "       3.690e+02, 3.700e+02, 3.710e+02, 3.720e+02, 3.730e+02, 3.740e+02,\n",
       "       3.750e+02, 3.760e+02, 3.770e+02, 3.780e+02, 3.790e+02, 3.800e+02,\n",
       "       3.810e+02, 3.820e+02, 3.830e+02, 3.840e+02, 3.850e+02, 3.860e+02,\n",
       "       3.870e+02, 3.880e+02, 3.890e+02, 3.900e+02, 3.910e+02, 3.920e+02,\n",
       "       3.930e+02, 3.940e+02, 3.950e+02, 3.960e+02, 3.970e+02, 3.980e+02,\n",
       "       3.990e+02, 4.000e+02, 4.010e+02, 4.020e+02, 4.030e+02, 4.040e+02,\n",
       "       4.050e+02, 4.060e+02, 4.070e+02, 4.080e+02, 4.090e+02, 4.100e+02,\n",
       "       4.110e+02, 4.120e+02, 4.130e+02, 4.140e+02, 4.150e+02, 4.160e+02,\n",
       "       4.170e+02, 4.180e+02, 4.190e+02, 4.200e+02, 4.210e+02, 4.220e+02,\n",
       "       4.230e+02, 4.240e+02, 4.250e+02, 4.260e+02, 4.270e+02, 4.280e+02,\n",
       "       4.290e+02, 4.300e+02, 4.310e+02, 4.320e+02, 4.330e+02, 4.340e+02,\n",
       "       4.350e+02, 4.360e+02, 4.370e+02, 4.380e+02, 4.390e+02, 4.400e+02,\n",
       "       4.410e+02, 4.420e+02, 4.430e+02, 4.440e+02, 4.450e+02, 4.460e+02,\n",
       "       4.470e+02, 4.480e+02, 4.490e+02, 4.500e+02, 4.510e+02, 4.520e+02,\n",
       "       4.530e+02, 4.540e+02, 4.550e+02, 4.560e+02, 4.570e+02, 4.580e+02,\n",
       "       4.590e+02, 4.600e+02, 4.610e+02, 4.620e+02, 4.630e+02, 4.640e+02,\n",
       "       4.650e+02, 4.660e+02, 4.670e+02, 4.680e+02, 4.690e+02, 4.700e+02,\n",
       "       4.710e+02, 4.720e+02, 4.730e+02, 4.740e+02, 4.750e+02, 4.760e+02,\n",
       "       4.770e+02, 4.780e+02, 4.790e+02, 4.800e+02, 4.810e+02, 4.820e+02,\n",
       "       4.830e+02, 4.840e+02, 4.850e+02, 4.860e+02, 4.870e+02, 4.880e+02,\n",
       "       4.890e+02, 4.900e+02, 4.910e+02, 4.920e+02, 4.930e+02, 4.940e+02,\n",
       "       4.950e+02, 4.960e+02, 4.970e+02, 4.980e+02, 4.990e+02, 5.000e+02,\n",
       "       5.010e+02, 5.020e+02, 5.030e+02, 5.040e+02, 5.050e+02, 5.060e+02,\n",
       "       5.070e+02, 5.080e+02, 5.090e+02, 5.100e+02, 5.110e+02, 5.120e+02,\n",
       "       5.130e+02, 5.140e+02, 5.150e+02, 5.160e+02, 5.170e+02, 5.180e+02,\n",
       "       5.190e+02, 5.200e+02, 5.210e+02, 5.220e+02, 5.230e+02, 5.240e+02,\n",
       "       5.250e+02, 5.260e+02, 5.270e+02, 5.280e+02, 5.290e+02, 5.300e+02,\n",
       "       5.310e+02, 5.320e+02, 5.330e+02, 5.340e+02, 5.350e+02, 5.360e+02,\n",
       "       5.370e+02, 5.380e+02, 5.390e+02, 5.400e+02, 5.410e+02, 5.420e+02,\n",
       "       5.430e+02, 5.440e+02, 5.450e+02, 5.460e+02, 5.470e+02, 5.480e+02,\n",
       "       5.490e+02, 5.500e+02, 5.510e+02, 5.520e+02, 5.530e+02, 5.540e+02,\n",
       "       5.550e+02, 5.560e+02, 5.570e+02, 5.580e+02, 5.590e+02, 5.600e+02,\n",
       "       5.610e+02, 5.620e+02, 5.630e+02, 5.640e+02, 5.650e+02, 5.660e+02,\n",
       "       5.670e+02, 5.680e+02, 5.690e+02, 5.700e+02, 5.710e+02, 5.720e+02,\n",
       "       5.730e+02, 5.740e+02, 5.750e+02, 5.760e+02, 5.770e+02, 5.780e+02,\n",
       "       5.790e+02, 5.800e+02, 5.810e+02, 5.820e+02, 5.830e+02, 5.840e+02,\n",
       "       5.850e+02, 5.860e+02, 5.870e+02, 5.880e+02, 5.890e+02, 5.900e+02,\n",
       "       5.910e+02, 5.920e+02, 5.930e+02, 5.940e+02, 5.950e+02, 5.960e+02,\n",
       "       5.970e+02, 5.980e+02, 5.990e+02, 6.000e+02, 6.010e+02, 6.020e+02,\n",
       "       6.030e+02, 6.040e+02, 6.050e+02, 6.060e+02, 6.070e+02, 6.080e+02,\n",
       "       6.090e+02, 6.100e+02, 6.110e+02, 6.120e+02, 6.130e+02, 6.140e+02,\n",
       "       6.150e+02, 6.160e+02, 6.170e+02, 6.180e+02, 6.190e+02, 6.200e+02,\n",
       "       6.210e+02, 6.220e+02, 6.230e+02, 6.240e+02, 6.250e+02, 6.260e+02,\n",
       "       6.270e+02, 6.280e+02, 6.290e+02, 6.300e+02, 6.310e+02, 6.320e+02,\n",
       "       6.330e+02, 6.340e+02, 6.350e+02, 6.360e+02, 6.370e+02, 6.380e+02,\n",
       "       6.390e+02, 6.400e+02, 6.410e+02, 6.420e+02, 6.430e+02, 6.440e+02,\n",
       "       6.450e+02, 6.460e+02, 6.470e+02, 6.480e+02, 6.490e+02, 6.500e+02,\n",
       "       6.510e+02, 6.520e+02, 6.530e+02, 6.540e+02, 6.550e+02, 6.560e+02,\n",
       "       6.570e+02, 6.580e+02, 6.590e+02, 6.600e+02, 6.610e+02, 6.620e+02,\n",
       "       6.630e+02, 6.640e+02, 6.650e+02, 6.660e+02, 6.670e+02, 6.680e+02,\n",
       "       6.690e+02, 6.700e+02, 6.710e+02, 6.720e+02, 6.730e+02, 6.740e+02,\n",
       "       6.750e+02, 6.760e+02, 6.770e+02, 6.780e+02, 6.790e+02, 6.800e+02,\n",
       "       6.810e+02, 6.820e+02, 6.830e+02, 6.840e+02, 6.850e+02, 6.860e+02,\n",
       "       6.870e+02, 6.880e+02, 6.890e+02, 6.900e+02, 6.910e+02, 6.920e+02,\n",
       "       6.930e+02, 6.940e+02, 6.950e+02, 6.960e+02, 6.970e+02, 6.980e+02,\n",
       "       6.990e+02, 7.000e+02, 7.010e+02, 7.020e+02, 7.030e+02, 7.040e+02,\n",
       "       7.050e+02, 7.060e+02, 7.070e+02, 7.080e+02, 7.090e+02, 7.100e+02,\n",
       "       7.110e+02, 7.120e+02, 7.130e+02, 7.140e+02, 7.150e+02, 7.160e+02,\n",
       "       7.170e+02, 7.180e+02, 7.190e+02, 7.210e+02, 7.220e+02, 7.230e+02,\n",
       "       7.240e+02, 7.250e+02, 7.260e+02, 7.270e+02, 7.280e+02, 7.290e+02,\n",
       "       7.300e+02, 7.310e+02, 7.320e+02, 7.330e+02, 7.350e+02, 7.360e+02,\n",
       "       7.370e+02, 7.380e+02, 7.390e+02, 7.400e+02, 7.410e+02, 7.420e+02,\n",
       "       7.440e+02, 7.450e+02, 7.460e+02, 7.480e+02, 7.490e+02, 7.510e+02,\n",
       "       7.530e+02, 7.540e+02, 7.550e+02, 7.560e+02, 7.570e+02, 7.580e+02,\n",
       "       7.590e+02, 7.600e+02, 7.610e+02, 7.620e+02, 7.630e+02, 7.640e+02,\n",
       "       7.650e+02, 7.660e+02, 7.670e+02, 7.680e+02, 7.690e+02, 7.700e+02,\n",
       "       7.710e+02, 7.750e+02, 7.780e+02, 7.790e+02, 7.800e+02, 7.820e+02,\n",
       "       7.830e+02, 7.840e+02, 7.860e+02, 7.870e+02, 7.880e+02, 7.890e+02,\n",
       "       7.900e+02, 7.910e+02, 7.920e+02, 7.930e+02, 7.940e+02, 7.960e+02,\n",
       "       7.970e+02, 7.980e+02, 7.990e+02, 8.000e+02, 8.010e+02, 8.020e+02,\n",
       "       8.030e+02, 8.040e+02, 8.050e+02, 8.060e+02, 8.080e+02, 8.090e+02,\n",
       "       8.110e+02, 8.120e+02, 8.140e+02, 8.160e+02, 8.170e+02, 8.200e+02,\n",
       "       8.220e+02, 8.230e+02, 8.260e+02, 8.270e+02, 8.280e+02, 8.290e+02,\n",
       "       8.300e+02, 8.310e+02, 8.320e+02, 8.340e+02, 8.350e+02, 8.390e+02,\n",
       "       8.410e+02, 8.420e+02, 8.430e+02, 8.450e+02, 8.460e+02, 8.470e+02,\n",
       "       8.480e+02, 8.500e+02, 8.520e+02, 8.530e+02, 8.560e+02, 8.580e+02,\n",
       "       8.590e+02, 8.600e+02, 8.610e+02, 8.620e+02, 8.630e+02, 8.660e+02,\n",
       "       8.670e+02, 8.680e+02, 8.690e+02, 8.700e+02, 8.730e+02, 8.750e+02,\n",
       "       8.790e+02, 8.850e+02, 8.860e+02, 8.870e+02, 8.880e+02, 8.890e+02,\n",
       "       8.900e+02, 8.930e+02, 8.980e+02, 9.030e+02, 9.040e+02, 9.060e+02,\n",
       "       9.090e+02, 9.130e+02, 9.150e+02, 9.160e+02, 9.170e+02, 9.190e+02,\n",
       "       9.200e+02, 9.210e+02, 9.270e+02, 9.290e+02, 9.320e+02, 9.330e+02,\n",
       "       9.340e+02, 9.360e+02, 9.370e+02, 9.380e+02, 9.410e+02, 9.420e+02,\n",
       "       9.430e+02, 9.450e+02, 9.510e+02, 9.520e+02, 9.560e+02, 9.610e+02,\n",
       "       9.630e+02, 9.650e+02, 9.660e+02, 9.670e+02, 9.680e+02, 9.690e+02,\n",
       "       9.730e+02, 9.740e+02, 9.790e+02, 9.800e+02, 9.810e+02, 9.850e+02,\n",
       "       9.930e+02, 9.970e+02, 1.007e+03, 1.008e+03, 1.011e+03, 1.021e+03,\n",
       "       1.022e+03, 1.028e+03, 1.040e+03, 1.041e+03, 1.049e+03, 1.053e+03,\n",
       "       1.057e+03, 1.061e+03, 1.064e+03, 1.065e+03, 1.069e+03, 1.073e+03,\n",
       "       1.074e+03, 1.077e+03, 1.079e+03, 1.086e+03, 1.094e+03, 1.097e+03,\n",
       "       1.098e+03, 1.103e+03, 1.114e+03, 1.120e+03, 1.133e+03, 1.145e+03,\n",
       "       1.148e+03, 1.150e+03, 1.167e+03, 1.181e+03, 1.186e+03, 1.188e+03,\n",
       "       1.190e+03, 1.191e+03, 1.199e+03, 1.200e+03, 1.205e+03, 1.211e+03,\n",
       "       1.213e+03, 1.215e+03, 1.228e+03, 1.248e+03, 1.256e+03, 1.262e+03,\n",
       "       1.264e+03, 1.270e+03, 1.272e+03, 1.299e+03, 1.304e+03, 1.312e+03,\n",
       "       1.326e+03, 1.329e+03, 1.342e+03, 1.354e+03, 1.361e+03, 1.362e+03,\n",
       "       1.364e+03, 1.400e+03, 1.416e+03, 1.423e+03, 1.424e+03, 1.443e+03,\n",
       "       1.477e+03, 1.481e+03, 1.496e+03, 1.499e+03, 1.501e+03, 1.510e+03,\n",
       "       1.514e+03, 1.562e+03, 1.564e+03, 1.568e+03, 1.586e+03, 1.596e+03,\n",
       "       1.620e+03, 1.648e+03, 1.657e+03, 1.722e+03, 1.731e+03, 1.756e+03,\n",
       "       1.767e+03, 1.790e+03, 1.798e+03, 1.802e+03, 1.809e+03, 1.887e+03,\n",
       "       1.909e+03, 1.942e+03, 1.951e+03, 2.009e+03, 2.026e+03, 2.066e+03,\n",
       "       2.102e+03, 2.131e+03, 2.137e+03, 2.209e+03, 2.218e+03, 2.245e+03,\n",
       "       2.276e+03, 2.295e+03, 2.348e+03, 2.409e+03, 2.416e+03, 2.427e+03,\n",
       "       2.467e+03, 2.489e+03, 2.532e+03, 2.555e+03, 2.633e+03, 2.665e+03,\n",
       "       2.711e+03, 2.747e+03, 2.768e+03, 2.847e+03, 2.880e+03, 2.888e+03,\n",
       "       2.905e+03, 2.984e+03, 3.013e+03, 3.064e+03, 3.190e+03,       nan])"
      ]
     },
     "metadata": {},
     "output_type": "display_data"
    },
    {
     "name": "stdout",
     "output_type": "stream",
     "text": [
      "\n"
     ]
    },
    {
     "data": {
      "text/plain": [
       "array([ 0.,  1.,  2.,  3., nan])"
      ]
     },
     "metadata": {},
     "output_type": "display_data"
    },
    {
     "name": "stdout",
     "output_type": "stream",
     "text": [
      "\n"
     ]
    },
    {
     "data": {
      "text/plain": [
       "array([  13.,   16.,   19., ..., 1341., 1344.,   nan])"
      ]
     },
     "metadata": {},
     "output_type": "display_data"
    },
    {
     "name": "stdout",
     "output_type": "stream",
     "text": [
      "\n"
     ]
    },
    {
     "data": {
      "text/plain": [
       "array([1.000e+00, 2.000e+00, 3.000e+00, ..., 1.572e+03, 1.580e+03,\n",
       "             nan])"
      ]
     },
     "metadata": {},
     "output_type": "display_data"
    },
    {
     "name": "stdout",
     "output_type": "stream",
     "text": [
      "\n"
     ]
    }
   ],
   "source": [
    "# Посмотрим на уникальные значения в каждом столбце.\n",
    "# Для удобства отсортируем их по возрастанию.\n",
    "\n",
    "for i in range(df.shape[1]):\n",
    "    try:\n",
    "        display(np.sort(df.iloc[:,i].unique()))\n",
    "        print()\n",
    "    except:\n",
    "        print()"
   ]
  },
  {
   "cell_type": "code",
   "execution_count": 645,
   "metadata": {
    "scrolled": true
   },
   "outputs": [
    {
     "data": {
      "text/html": [
       "<div>\n",
       "<style scoped>\n",
       "    .dataframe tbody tr th:only-of-type {\n",
       "        vertical-align: middle;\n",
       "    }\n",
       "\n",
       "    .dataframe tbody tr th {\n",
       "        vertical-align: top;\n",
       "    }\n",
       "\n",
       "    .dataframe thead th {\n",
       "        text-align: right;\n",
       "    }\n",
       "</style>\n",
       "<table border=\"1\" class=\"dataframe\">\n",
       "  <thead>\n",
       "    <tr style=\"text-align: right;\">\n",
       "      <th></th>\n",
       "      <th>total_images</th>\n",
       "      <th>last_price</th>\n",
       "      <th>total_area</th>\n",
       "      <th>first_day_exposition</th>\n",
       "      <th>rooms</th>\n",
       "      <th>ceiling_height</th>\n",
       "      <th>floors_total</th>\n",
       "      <th>living_area</th>\n",
       "      <th>floor</th>\n",
       "      <th>is_apartment</th>\n",
       "      <th>...</th>\n",
       "      <th>kitchen_area</th>\n",
       "      <th>balcony</th>\n",
       "      <th>locality_name</th>\n",
       "      <th>airports_nearest</th>\n",
       "      <th>cityCenters_nearest</th>\n",
       "      <th>parks_around3000</th>\n",
       "      <th>parks_nearest</th>\n",
       "      <th>ponds_around3000</th>\n",
       "      <th>ponds_nearest</th>\n",
       "      <th>days_exposition</th>\n",
       "    </tr>\n",
       "  </thead>\n",
       "  <tbody>\n",
       "    <tr>\n",
       "      <th>8793</th>\n",
       "      <td>7</td>\n",
       "      <td>12190</td>\n",
       "      <td>109.0</td>\n",
       "      <td>2019-03-20</td>\n",
       "      <td>2</td>\n",
       "      <td>2.75</td>\n",
       "      <td>25.0</td>\n",
       "      <td>32.000000</td>\n",
       "      <td>25</td>\n",
       "      <td>False</td>\n",
       "      <td>...</td>\n",
       "      <td>40.500000</td>\n",
       "      <td>0</td>\n",
       "      <td>Санкт-Петербург</td>\n",
       "      <td>36421.0</td>\n",
       "      <td>9176.0</td>\n",
       "      <td>1.0</td>\n",
       "      <td>805.0</td>\n",
       "      <td>0.0</td>\n",
       "      <td>NaN</td>\n",
       "      <td>8.0</td>\n",
       "    </tr>\n",
       "    <tr>\n",
       "      <th>17456</th>\n",
       "      <td>7</td>\n",
       "      <td>430000</td>\n",
       "      <td>30.4</td>\n",
       "      <td>2019-04-22</td>\n",
       "      <td>1</td>\n",
       "      <td>2.50</td>\n",
       "      <td>2.0</td>\n",
       "      <td>16.000000</td>\n",
       "      <td>1</td>\n",
       "      <td>False</td>\n",
       "      <td>...</td>\n",
       "      <td>6.000000</td>\n",
       "      <td>0</td>\n",
       "      <td>Сланцы</td>\n",
       "      <td>NaN</td>\n",
       "      <td>NaN</td>\n",
       "      <td>NaN</td>\n",
       "      <td>NaN</td>\n",
       "      <td>NaN</td>\n",
       "      <td>NaN</td>\n",
       "      <td>NaN</td>\n",
       "    </tr>\n",
       "    <tr>\n",
       "      <th>14911</th>\n",
       "      <td>5</td>\n",
       "      <td>430000</td>\n",
       "      <td>54.0</td>\n",
       "      <td>2018-06-26</td>\n",
       "      <td>2</td>\n",
       "      <td>2.70</td>\n",
       "      <td>3.0</td>\n",
       "      <td>30.966010</td>\n",
       "      <td>3</td>\n",
       "      <td>False</td>\n",
       "      <td>...</td>\n",
       "      <td>9.395402</td>\n",
       "      <td>0</td>\n",
       "      <td>поселок станции Свирь</td>\n",
       "      <td>NaN</td>\n",
       "      <td>NaN</td>\n",
       "      <td>NaN</td>\n",
       "      <td>NaN</td>\n",
       "      <td>NaN</td>\n",
       "      <td>NaN</td>\n",
       "      <td>44.0</td>\n",
       "    </tr>\n",
       "    <tr>\n",
       "      <th>16274</th>\n",
       "      <td>18</td>\n",
       "      <td>440000</td>\n",
       "      <td>40.0</td>\n",
       "      <td>2018-07-10</td>\n",
       "      <td>1</td>\n",
       "      <td>2.70</td>\n",
       "      <td>5.0</td>\n",
       "      <td>22.937785</td>\n",
       "      <td>1</td>\n",
       "      <td>False</td>\n",
       "      <td>...</td>\n",
       "      <td>6.959557</td>\n",
       "      <td>0</td>\n",
       "      <td>деревня Старополье</td>\n",
       "      <td>NaN</td>\n",
       "      <td>NaN</td>\n",
       "      <td>NaN</td>\n",
       "      <td>NaN</td>\n",
       "      <td>NaN</td>\n",
       "      <td>NaN</td>\n",
       "      <td>45.0</td>\n",
       "    </tr>\n",
       "    <tr>\n",
       "      <th>17676</th>\n",
       "      <td>0</td>\n",
       "      <td>450000</td>\n",
       "      <td>36.5</td>\n",
       "      <td>2018-02-01</td>\n",
       "      <td>1</td>\n",
       "      <td>2.70</td>\n",
       "      <td>5.0</td>\n",
       "      <td>17.300000</td>\n",
       "      <td>4</td>\n",
       "      <td>False</td>\n",
       "      <td>...</td>\n",
       "      <td>8.500000</td>\n",
       "      <td>1</td>\n",
       "      <td>деревня Ям-Тесово</td>\n",
       "      <td>NaN</td>\n",
       "      <td>NaN</td>\n",
       "      <td>NaN</td>\n",
       "      <td>NaN</td>\n",
       "      <td>NaN</td>\n",
       "      <td>NaN</td>\n",
       "      <td>120.0</td>\n",
       "    </tr>\n",
       "  </tbody>\n",
       "</table>\n",
       "<p>5 rows × 22 columns</p>\n",
       "</div>"
      ],
      "text/plain": [
       "       total_images  last_price  total_area first_day_exposition  rooms  \\\n",
       "8793              7       12190       109.0           2019-03-20      2   \n",
       "17456             7      430000        30.4           2019-04-22      1   \n",
       "14911             5      430000        54.0           2018-06-26      2   \n",
       "16274            18      440000        40.0           2018-07-10      1   \n",
       "17676             0      450000        36.5           2018-02-01      1   \n",
       "\n",
       "       ceiling_height  floors_total  living_area  floor  is_apartment  ...  \\\n",
       "8793             2.75          25.0    32.000000     25         False  ...   \n",
       "17456            2.50           2.0    16.000000      1         False  ...   \n",
       "14911            2.70           3.0    30.966010      3         False  ...   \n",
       "16274            2.70           5.0    22.937785      1         False  ...   \n",
       "17676            2.70           5.0    17.300000      4         False  ...   \n",
       "\n",
       "       kitchen_area  balcony          locality_name  airports_nearest  \\\n",
       "8793      40.500000        0        Санкт-Петербург           36421.0   \n",
       "17456      6.000000        0                 Сланцы               NaN   \n",
       "14911      9.395402        0  поселок станции Свирь               NaN   \n",
       "16274      6.959557        0     деревня Старополье               NaN   \n",
       "17676      8.500000        1      деревня Ям-Тесово               NaN   \n",
       "\n",
       "      cityCenters_nearest  parks_around3000  parks_nearest  ponds_around3000  \\\n",
       "8793               9176.0               1.0          805.0               0.0   \n",
       "17456                 NaN               NaN            NaN               NaN   \n",
       "14911                 NaN               NaN            NaN               NaN   \n",
       "16274                 NaN               NaN            NaN               NaN   \n",
       "17676                 NaN               NaN            NaN               NaN   \n",
       "\n",
       "       ponds_nearest  days_exposition  \n",
       "8793             NaN              8.0  \n",
       "17456            NaN              NaN  \n",
       "14911            NaN             44.0  \n",
       "16274            NaN             45.0  \n",
       "17676            NaN            120.0  \n",
       "\n",
       "[5 rows x 22 columns]"
      ]
     },
     "execution_count": 645,
     "metadata": {},
     "output_type": "execute_result"
    }
   ],
   "source": [
    "# 5 самых дешевых объектов.\n",
    "\n",
    "df.sort_values(by='last_price').head()"
   ]
  },
  {
   "cell_type": "code",
   "execution_count": 646,
   "metadata": {
    "scrolled": true
   },
   "outputs": [
    {
     "data": {
      "text/html": [
       "<div>\n",
       "<style scoped>\n",
       "    .dataframe tbody tr th:only-of-type {\n",
       "        vertical-align: middle;\n",
       "    }\n",
       "\n",
       "    .dataframe tbody tr th {\n",
       "        vertical-align: top;\n",
       "    }\n",
       "\n",
       "    .dataframe thead th {\n",
       "        text-align: right;\n",
       "    }\n",
       "</style>\n",
       "<table border=\"1\" class=\"dataframe\">\n",
       "  <thead>\n",
       "    <tr style=\"text-align: right;\">\n",
       "      <th></th>\n",
       "      <th>total_images</th>\n",
       "      <th>last_price</th>\n",
       "      <th>total_area</th>\n",
       "      <th>first_day_exposition</th>\n",
       "      <th>rooms</th>\n",
       "      <th>ceiling_height</th>\n",
       "      <th>floors_total</th>\n",
       "      <th>living_area</th>\n",
       "      <th>floor</th>\n",
       "      <th>is_apartment</th>\n",
       "      <th>...</th>\n",
       "      <th>kitchen_area</th>\n",
       "      <th>balcony</th>\n",
       "      <th>locality_name</th>\n",
       "      <th>airports_nearest</th>\n",
       "      <th>cityCenters_nearest</th>\n",
       "      <th>parks_around3000</th>\n",
       "      <th>parks_nearest</th>\n",
       "      <th>ponds_around3000</th>\n",
       "      <th>ponds_nearest</th>\n",
       "      <th>days_exposition</th>\n",
       "    </tr>\n",
       "  </thead>\n",
       "  <tbody>\n",
       "    <tr>\n",
       "      <th>12971</th>\n",
       "      <td>19</td>\n",
       "      <td>763000000</td>\n",
       "      <td>400.0</td>\n",
       "      <td>2017-09-30</td>\n",
       "      <td>7</td>\n",
       "      <td>2.7</td>\n",
       "      <td>10.0</td>\n",
       "      <td>250.0</td>\n",
       "      <td>10</td>\n",
       "      <td>False</td>\n",
       "      <td>...</td>\n",
       "      <td>69.59557</td>\n",
       "      <td>2</td>\n",
       "      <td>Санкт-Петербург</td>\n",
       "      <td>25108.0</td>\n",
       "      <td>3956.0</td>\n",
       "      <td>1.0</td>\n",
       "      <td>530.0</td>\n",
       "      <td>3.0</td>\n",
       "      <td>756.0</td>\n",
       "      <td>33.0</td>\n",
       "    </tr>\n",
       "    <tr>\n",
       "      <th>19540</th>\n",
       "      <td>8</td>\n",
       "      <td>420000000</td>\n",
       "      <td>900.0</td>\n",
       "      <td>2017-12-06</td>\n",
       "      <td>12</td>\n",
       "      <td>2.8</td>\n",
       "      <td>25.0</td>\n",
       "      <td>409.7</td>\n",
       "      <td>25</td>\n",
       "      <td>False</td>\n",
       "      <td>...</td>\n",
       "      <td>112.00000</td>\n",
       "      <td>0</td>\n",
       "      <td>Санкт-Петербург</td>\n",
       "      <td>30706.0</td>\n",
       "      <td>7877.0</td>\n",
       "      <td>0.0</td>\n",
       "      <td>NaN</td>\n",
       "      <td>2.0</td>\n",
       "      <td>318.0</td>\n",
       "      <td>106.0</td>\n",
       "    </tr>\n",
       "    <tr>\n",
       "      <th>14706</th>\n",
       "      <td>15</td>\n",
       "      <td>401300000</td>\n",
       "      <td>401.0</td>\n",
       "      <td>2016-02-20</td>\n",
       "      <td>5</td>\n",
       "      <td>2.7</td>\n",
       "      <td>9.0</td>\n",
       "      <td>204.0</td>\n",
       "      <td>9</td>\n",
       "      <td>False</td>\n",
       "      <td>...</td>\n",
       "      <td>24.00000</td>\n",
       "      <td>3</td>\n",
       "      <td>Санкт-Петербург</td>\n",
       "      <td>21912.0</td>\n",
       "      <td>2389.0</td>\n",
       "      <td>1.0</td>\n",
       "      <td>545.0</td>\n",
       "      <td>1.0</td>\n",
       "      <td>478.0</td>\n",
       "      <td>393.0</td>\n",
       "    </tr>\n",
       "    <tr>\n",
       "      <th>1436</th>\n",
       "      <td>19</td>\n",
       "      <td>330000000</td>\n",
       "      <td>190.0</td>\n",
       "      <td>2018-04-04</td>\n",
       "      <td>3</td>\n",
       "      <td>3.5</td>\n",
       "      <td>7.0</td>\n",
       "      <td>95.0</td>\n",
       "      <td>5</td>\n",
       "      <td>False</td>\n",
       "      <td>...</td>\n",
       "      <td>40.00000</td>\n",
       "      <td>0</td>\n",
       "      <td>Санкт-Петербург</td>\n",
       "      <td>23011.0</td>\n",
       "      <td>1197.0</td>\n",
       "      <td>3.0</td>\n",
       "      <td>519.0</td>\n",
       "      <td>3.0</td>\n",
       "      <td>285.0</td>\n",
       "      <td>233.0</td>\n",
       "    </tr>\n",
       "    <tr>\n",
       "      <th>15651</th>\n",
       "      <td>20</td>\n",
       "      <td>300000000</td>\n",
       "      <td>618.0</td>\n",
       "      <td>2017-12-18</td>\n",
       "      <td>7</td>\n",
       "      <td>3.4</td>\n",
       "      <td>7.0</td>\n",
       "      <td>258.0</td>\n",
       "      <td>5</td>\n",
       "      <td>False</td>\n",
       "      <td>...</td>\n",
       "      <td>70.00000</td>\n",
       "      <td>0</td>\n",
       "      <td>Санкт-Петербург</td>\n",
       "      <td>32440.0</td>\n",
       "      <td>5297.0</td>\n",
       "      <td>0.0</td>\n",
       "      <td>NaN</td>\n",
       "      <td>2.0</td>\n",
       "      <td>198.0</td>\n",
       "      <td>111.0</td>\n",
       "    </tr>\n",
       "  </tbody>\n",
       "</table>\n",
       "<p>5 rows × 22 columns</p>\n",
       "</div>"
      ],
      "text/plain": [
       "       total_images  last_price  total_area first_day_exposition  rooms  \\\n",
       "12971            19   763000000       400.0           2017-09-30      7   \n",
       "19540             8   420000000       900.0           2017-12-06     12   \n",
       "14706            15   401300000       401.0           2016-02-20      5   \n",
       "1436             19   330000000       190.0           2018-04-04      3   \n",
       "15651            20   300000000       618.0           2017-12-18      7   \n",
       "\n",
       "       ceiling_height  floors_total  living_area  floor  is_apartment  ...  \\\n",
       "12971             2.7          10.0        250.0     10         False  ...   \n",
       "19540             2.8          25.0        409.7     25         False  ...   \n",
       "14706             2.7           9.0        204.0      9         False  ...   \n",
       "1436              3.5           7.0         95.0      5         False  ...   \n",
       "15651             3.4           7.0        258.0      5         False  ...   \n",
       "\n",
       "       kitchen_area  balcony    locality_name  airports_nearest  \\\n",
       "12971      69.59557        2  Санкт-Петербург           25108.0   \n",
       "19540     112.00000        0  Санкт-Петербург           30706.0   \n",
       "14706      24.00000        3  Санкт-Петербург           21912.0   \n",
       "1436       40.00000        0  Санкт-Петербург           23011.0   \n",
       "15651      70.00000        0  Санкт-Петербург           32440.0   \n",
       "\n",
       "      cityCenters_nearest  parks_around3000  parks_nearest  ponds_around3000  \\\n",
       "12971              3956.0               1.0          530.0               3.0   \n",
       "19540              7877.0               0.0            NaN               2.0   \n",
       "14706              2389.0               1.0          545.0               1.0   \n",
       "1436               1197.0               3.0          519.0               3.0   \n",
       "15651              5297.0               0.0            NaN               2.0   \n",
       "\n",
       "       ponds_nearest  days_exposition  \n",
       "12971          756.0             33.0  \n",
       "19540          318.0            106.0  \n",
       "14706          478.0            393.0  \n",
       "1436           285.0            233.0  \n",
       "15651          198.0            111.0  \n",
       "\n",
       "[5 rows x 22 columns]"
      ]
     },
     "execution_count": 646,
     "metadata": {},
     "output_type": "execute_result"
    }
   ],
   "source": [
    "# 5 самых дорогих объектов.\n",
    "\n",
    "df.sort_values(by='last_price', ascending=False).head()"
   ]
  },
  {
   "cell_type": "code",
   "execution_count": 647,
   "metadata": {
    "scrolled": true
   },
   "outputs": [
    {
     "data": {
      "image/png": "[encoded data removed]",
      "text/plain": [
       "<Figure size 432x288 with 1 Axes>"
      ]
     },
     "metadata": {
      "needs_background": "light"
     },
     "output_type": "display_data"
    }
   ],
   "source": [
    "# Посмотрим на выбросы.\n",
    "\n",
    "df.boxplot(column='last_price')\n",
    "plt.ylim(0, 15000000)\n",
    "plt.show()"
   ]
  },
  {
   "cell_type": "markdown",
   "metadata": {},
   "source": [
    "Видны выбросы до 800 млн. рублей. Избавимся от совсем аномальных значений."
   ]
  },
  {
   "cell_type": "code",
   "execution_count": 648,
   "metadata": {
    "scrolled": true
   },
   "outputs": [
    {
     "data": {
      "text/plain": [
       "37"
      ]
     },
     "execution_count": 648,
     "metadata": {},
     "output_type": "execute_result"
    }
   ],
   "source": [
    "# Количество объектов стоимостью более 100 млн. рублей.\n",
    "\n",
    "len(df.query('last_price > 100000000'))"
   ]
  },
  {
   "cell_type": "code",
   "execution_count": 649,
   "metadata": {},
   "outputs": [],
   "source": [
    "df.drop(df[df['last_price'] > 100000000].index, axis=0, inplace=True)"
   ]
  },
  {
   "cell_type": "code",
   "execution_count": 650,
   "metadata": {},
   "outputs": [
    {
     "data": {
      "text/plain": [
       "(23662, 22)"
      ]
     },
     "execution_count": 650,
     "metadata": {},
     "output_type": "execute_result"
    }
   ],
   "source": [
    "# Проверим внесенные изменения.\n",
    "\n",
    "df.shape"
   ]
  },
  {
   "cell_type": "code",
   "execution_count": 651,
   "metadata": {},
   "outputs": [],
   "source": [
    "# Уберем объект с аномально низкой стоимостью 12190 рублей.\n",
    "\n",
    "df.drop(8793, axis=0, inplace=True)"
   ]
  },
  {
   "cell_type": "code",
   "execution_count": 652,
   "metadata": {
    "scrolled": false
   },
   "outputs": [
    {
     "data": {
      "text/plain": [
       "(23661, 22)"
      ]
     },
     "execution_count": 652,
     "metadata": {},
     "output_type": "execute_result"
    }
   ],
   "source": [
    "# Проверим внесенные изменения.\n",
    "\n",
    "df.shape"
   ]
  },
  {
   "cell_type": "code",
   "execution_count": 653,
   "metadata": {
    "scrolled": true
   },
   "outputs": [
    {
     "data": {
      "text/plain": [
       "array([  1.   ,   1.2  ,   1.75 ,   2.   ,   2.2  ,   2.25 ,   2.3  ,\n",
       "         2.34 ,   2.4  ,   2.45 ,   2.46 ,   2.47 ,   2.48 ,   2.49 ,\n",
       "         2.5  ,   2.51 ,   2.515,   2.52 ,   2.525,   2.53 ,   2.54 ,\n",
       "         2.55 ,   2.555,   2.56 ,   2.56 ,   2.57 ,   2.575,   2.58 ,\n",
       "         2.59 ,   2.6  ,   2.6  ,   2.61 ,   2.615,   2.62 ,   2.625,\n",
       "         2.63 ,   2.64 ,   2.65 ,   2.65 ,   2.66 ,   2.67 ,   2.675,\n",
       "         2.68 ,   2.69 ,   2.7  ,   2.71 ,   2.72 ,   2.725,   2.73 ,\n",
       "         2.74 ,   2.75 ,   2.76 ,   2.77 ,   2.78 ,   2.79 ,   2.8  ,\n",
       "         2.81 ,   2.82 ,   2.83 ,   2.84 ,   2.85 ,   2.86 ,   2.87 ,\n",
       "         2.88 ,   2.89 ,   2.9  ,   2.91 ,   2.92 ,   2.93 ,   2.94 ,\n",
       "         2.95 ,   2.96 ,   2.97 ,   2.98 ,   2.99 ,   3.   ,   3.01 ,\n",
       "         3.02 ,   3.03 ,   3.04 ,   3.05 ,   3.06 ,   3.07 ,   3.08 ,\n",
       "         3.09 ,   3.1  ,   3.11 ,   3.12 ,   3.13 ,   3.14 ,   3.15 ,\n",
       "         3.16 ,   3.17 ,   3.18 ,   3.2  ,   3.21 ,   3.22 ,   3.23 ,\n",
       "         3.24 ,   3.25 ,   3.26 ,   3.27 ,   3.28 ,   3.29 ,   3.3  ,\n",
       "         3.31 ,   3.32 ,   3.33 ,   3.34 ,   3.35 ,   3.36 ,   3.37 ,\n",
       "         3.38 ,   3.39 ,   3.4  ,   3.42 ,   3.43 ,   3.44 ,   3.45 ,\n",
       "         3.46 ,   3.47 ,   3.48 ,   3.49 ,   3.5  ,   3.51 ,   3.52 ,\n",
       "         3.53 ,   3.54 ,   3.55 ,   3.56 ,   3.57 ,   3.58 ,   3.59 ,\n",
       "         3.6  ,   3.62 ,   3.63 ,   3.65 ,   3.66 ,   3.67 ,   3.68 ,\n",
       "         3.69 ,   3.7  ,   3.75 ,   3.76 ,   3.78 ,   3.8  ,   3.83 ,\n",
       "         3.84 ,   3.85 ,   3.86 ,   3.87 ,   3.88 ,   3.9  ,   3.93 ,\n",
       "         3.95 ,   3.98 ,   4.   ,   4.06 ,   4.1  ,   4.14 ,   4.15 ,\n",
       "         4.19 ,   4.2  ,   4.25 ,   4.3  ,   4.37 ,   4.4  ,   4.45 ,\n",
       "         4.5  ,   4.65 ,   4.7  ,   4.8  ,   5.   ,   5.2  ,   5.3  ,\n",
       "         5.5  ,   5.6  ,   5.8  ,   8.   ,   8.3  ,  10.3  ,  13.85 ,\n",
       "        14.   ,  20.   ,  22.6  ,  24.   ,  25.   ,  26.   ,  27.   ,\n",
       "        27.5  ,  32.   , 100.   ])"
      ]
     },
     "execution_count": 653,
     "metadata": {},
     "output_type": "execute_result"
    }
   ],
   "source": [
    "# Посмотрим на высоту потолков. \n",
    "\n",
    "np.sort(df['ceiling_height'].unique())"
   ]
  },
  {
   "cell_type": "code",
   "execution_count": 654,
   "metadata": {
    "scrolled": true
   },
   "outputs": [
    {
     "data": {
      "image/png": "[encoded data removed]",
      "text/plain": [
       "<Figure size 432x288 with 1 Axes>"
      ]
     },
     "metadata": {
      "needs_background": "light"
     },
     "output_type": "display_data"
    }
   ],
   "source": [
    "df.boxplot('ceiling_height');"
   ]
  },
  {
   "cell_type": "markdown",
   "metadata": {},
   "source": [
    "Видим аномально большие потолки (от 10 до 100 метров). Скорее всего, пользователь неверно ввел значение. Разделим такие значения на 10."
   ]
  },
  {
   "cell_type": "code",
   "execution_count": 655,
   "metadata": {},
   "outputs": [],
   "source": [
    "# Нанашем функцию для корректировки высоты потолков.\n",
    "\n",
    "def ceiling(row):\n",
    "    try:\n",
    "        if row > 10:\n",
    "            return row / 10\n",
    "        else:\n",
    "            return row\n",
    "    except:\n",
    "        return row\n",
    "    \n",
    "df['ceiling_height'] = df['ceiling_height'].apply(ceiling)"
   ]
  },
  {
   "cell_type": "markdown",
   "metadata": {
    "scrolled": true
   },
   "source": [
    "Минимальное значение потолков в жилых помещениях - [2.5 метра](http://www.rosinox.ru/docs/snip-2.08.01-89/#:~:text=%D0%92%D1%8B%D1%81%D0%BE%D1%82%D0%B0%20%D0%B6%D0%B8%D0%BB%D1%8B%D1%85%20%D0%BF%D0%BE%D0%BC%D0%B5%D1%89%D0%B5%D0%BD%D0%B8%D0%B9%20%D0%BE%D1%82%20%D0%BF%D0%BE%D0%BB%D0%B0,%D0%BD%D0%B5%20%D0%B1%D0%BE%D0%BB%D0%B5%D0%B5%203%2C0%20%D0%BC%20.) (а ранее - [2.4 метра](https://stone-floor.ru/stati/optimalnaya-visota-potolka#:~:text=%D0%A1%D0%B5%D0%B3%D0%BE%D0%B4%D0%BD%D1%8F%20%D0%BC%D0%B8%D0%BD%D0%B8%D0%BC%D0%B0%D0%BB%D1%8C%D0%BD%D0%BE%D0%B9%20%D0%BD%D0%BE%D1%80%D0%BC%D0%BE%D0%B9%20%D0%B2%20%D0%A0%D0%BE%D1%81%D1%81%D0%B8%D0%B8,%D0%BF%D0%BE%D0%BA%D0%B0%D0%B7%D0%B0%D1%82%D0%B5%D0%BB%D1%8C%20%D0%BC%D0%BE%D0%B6%D0%B5%D1%82%20%D0%BF%D1%80%D0%B5%D0%B2%D1%8B%D1%88%D0%B0%D1%82%D1%8C%203%20%D0%BC%D0%B5%D1%82%D1%80%D0%B0.)). Уберем аномально низкие значения потолков (ниже 2.4 метров)"
   ]
  },
  {
   "cell_type": "code",
   "execution_count": 656,
   "metadata": {},
   "outputs": [],
   "source": [
    "# Удалим аномально низкие значения.\n",
    "\n",
    "df.drop(df.query('ceiling_height < 2.4').index, axis=0, inplace=True)"
   ]
  },
  {
   "cell_type": "code",
   "execution_count": 657,
   "metadata": {
    "scrolled": true
   },
   "outputs": [
    {
     "data": {
      "text/plain": [
       "array([ 2.4  ,  2.45 ,  2.46 ,  2.47 ,  2.48 ,  2.49 ,  2.5  ,  2.51 ,\n",
       "        2.515,  2.52 ,  2.525,  2.53 ,  2.54 ,  2.55 ,  2.555,  2.56 ,\n",
       "        2.56 ,  2.57 ,  2.575,  2.58 ,  2.59 ,  2.6  ,  2.6  ,  2.61 ,\n",
       "        2.615,  2.62 ,  2.625,  2.63 ,  2.64 ,  2.65 ,  2.65 ,  2.66 ,\n",
       "        2.67 ,  2.675,  2.68 ,  2.69 ,  2.7  ,  2.71 ,  2.72 ,  2.725,\n",
       "        2.73 ,  2.74 ,  2.75 ,  2.76 ,  2.77 ,  2.78 ,  2.79 ,  2.8  ,\n",
       "        2.81 ,  2.82 ,  2.83 ,  2.84 ,  2.85 ,  2.86 ,  2.87 ,  2.88 ,\n",
       "        2.89 ,  2.9  ,  2.91 ,  2.92 ,  2.93 ,  2.94 ,  2.95 ,  2.96 ,\n",
       "        2.97 ,  2.98 ,  2.99 ,  3.   ,  3.01 ,  3.02 ,  3.03 ,  3.04 ,\n",
       "        3.05 ,  3.06 ,  3.07 ,  3.08 ,  3.09 ,  3.1  ,  3.11 ,  3.12 ,\n",
       "        3.13 ,  3.14 ,  3.15 ,  3.16 ,  3.17 ,  3.18 ,  3.2  ,  3.21 ,\n",
       "        3.22 ,  3.23 ,  3.24 ,  3.25 ,  3.26 ,  3.27 ,  3.28 ,  3.29 ,\n",
       "        3.3  ,  3.31 ,  3.32 ,  3.33 ,  3.34 ,  3.35 ,  3.36 ,  3.37 ,\n",
       "        3.38 ,  3.39 ,  3.4  ,  3.42 ,  3.43 ,  3.44 ,  3.45 ,  3.46 ,\n",
       "        3.47 ,  3.48 ,  3.49 ,  3.5  ,  3.51 ,  3.52 ,  3.53 ,  3.54 ,\n",
       "        3.55 ,  3.56 ,  3.57 ,  3.58 ,  3.59 ,  3.6  ,  3.62 ,  3.63 ,\n",
       "        3.65 ,  3.66 ,  3.67 ,  3.68 ,  3.69 ,  3.7  ,  3.75 ,  3.76 ,\n",
       "        3.78 ,  3.8  ,  3.83 ,  3.84 ,  3.85 ,  3.86 ,  3.87 ,  3.88 ,\n",
       "        3.9  ,  3.93 ,  3.95 ,  3.98 ,  4.   ,  4.06 ,  4.1  ,  4.14 ,\n",
       "        4.15 ,  4.19 ,  4.2  ,  4.25 ,  4.3  ,  4.37 ,  4.4  ,  4.45 ,\n",
       "        4.5  ,  4.65 ,  4.7  ,  4.8  ,  5.   ,  5.2  ,  5.3  ,  5.5  ,\n",
       "        5.6  ,  5.8  ,  8.   ,  8.3  , 10.   ])"
      ]
     },
     "execution_count": 657,
     "metadata": {},
     "output_type": "execute_result"
    }
   ],
   "source": [
    "# Проверим внесенные изменения.\n",
    "\n",
    "np.sort(df['ceiling_height'].unique())"
   ]
  },
  {
   "cell_type": "code",
   "execution_count": 658,
   "metadata": {},
   "outputs": [
    {
     "data": {
      "image/png": "[encoded data removed]",
      "text/plain": [
       "<Figure size 432x288 with 1 Axes>"
      ]
     },
     "metadata": {
      "needs_background": "light"
     },
     "output_type": "display_data"
    }
   ],
   "source": [
    "# Посмотрим на выбросы.\n",
    "\n",
    "df.boxplot('ceiling_height');"
   ]
  },
  {
   "cell_type": "code",
   "execution_count": 659,
   "metadata": {},
   "outputs": [],
   "source": [
    "# Уберем аномальные значения выше 6 м.\n",
    "\n",
    "df.drop(df.query('ceiling_height > 6').index, axis=0, inplace=True)"
   ]
  },
  {
   "cell_type": "code",
   "execution_count": 660,
   "metadata": {},
   "outputs": [
    {
     "data": {
      "text/plain": [
       "array([2.4  , 2.45 , 2.46 , 2.47 , 2.48 , 2.49 , 2.5  , 2.51 , 2.515,\n",
       "       2.52 , 2.525, 2.53 , 2.54 , 2.55 , 2.555, 2.56 , 2.56 , 2.57 ,\n",
       "       2.575, 2.58 , 2.59 , 2.6  , 2.6  , 2.61 , 2.615, 2.62 , 2.625,\n",
       "       2.63 , 2.64 , 2.65 , 2.65 , 2.66 , 2.67 , 2.675, 2.68 , 2.69 ,\n",
       "       2.7  , 2.71 , 2.72 , 2.725, 2.73 , 2.74 , 2.75 , 2.76 , 2.77 ,\n",
       "       2.78 , 2.79 , 2.8  , 2.81 , 2.82 , 2.83 , 2.84 , 2.85 , 2.86 ,\n",
       "       2.87 , 2.88 , 2.89 , 2.9  , 2.91 , 2.92 , 2.93 , 2.94 , 2.95 ,\n",
       "       2.96 , 2.97 , 2.98 , 2.99 , 3.   , 3.01 , 3.02 , 3.03 , 3.04 ,\n",
       "       3.05 , 3.06 , 3.07 , 3.08 , 3.09 , 3.1  , 3.11 , 3.12 , 3.13 ,\n",
       "       3.14 , 3.15 , 3.16 , 3.17 , 3.18 , 3.2  , 3.21 , 3.22 , 3.23 ,\n",
       "       3.24 , 3.25 , 3.26 , 3.27 , 3.28 , 3.29 , 3.3  , 3.31 , 3.32 ,\n",
       "       3.33 , 3.34 , 3.35 , 3.36 , 3.37 , 3.38 , 3.39 , 3.4  , 3.42 ,\n",
       "       3.43 , 3.44 , 3.45 , 3.46 , 3.47 , 3.48 , 3.49 , 3.5  , 3.51 ,\n",
       "       3.52 , 3.53 , 3.54 , 3.55 , 3.56 , 3.57 , 3.58 , 3.59 , 3.6  ,\n",
       "       3.62 , 3.63 , 3.65 , 3.66 , 3.67 , 3.68 , 3.69 , 3.7  , 3.75 ,\n",
       "       3.76 , 3.78 , 3.8  , 3.83 , 3.84 , 3.85 , 3.86 , 3.87 , 3.88 ,\n",
       "       3.9  , 3.93 , 3.95 , 3.98 , 4.   , 4.06 , 4.1  , 4.14 , 4.15 ,\n",
       "       4.19 , 4.2  , 4.25 , 4.3  , 4.37 , 4.4  , 4.45 , 4.5  , 4.65 ,\n",
       "       4.7  , 4.8  , 5.   , 5.2  , 5.3  , 5.5  , 5.6  , 5.8  ])"
      ]
     },
     "execution_count": 660,
     "metadata": {},
     "output_type": "execute_result"
    }
   ],
   "source": [
    "# Проверим внесенные изменения.\n",
    "\n",
    "np.sort(df['ceiling_height'].unique())"
   ]
  },
  {
   "cell_type": "code",
   "execution_count": 661,
   "metadata": {
    "scrolled": true
   },
   "outputs": [
    {
     "data": {
      "image/png": "[encoded data removed]",
      "text/plain": [
       "<Figure size 432x288 with 1 Axes>"
      ]
     },
     "metadata": {
      "needs_background": "light"
     },
     "output_type": "display_data"
    }
   ],
   "source": [
    "# Посмотрим на выбросы в количестве комнат.\n",
    "\n",
    "df.boxplot('rooms');"
   ]
  },
  {
   "cell_type": "code",
   "execution_count": 662,
   "metadata": {},
   "outputs": [
    {
     "data": {
      "text/plain": [
       "1     8034\n",
       "2     7927\n",
       "3     5801\n",
       "4     1171\n",
       "5      316\n",
       "0      197\n",
       "6      100\n",
       "7       54\n",
       "8       10\n",
       "9        8\n",
       "10       3\n",
       "11       2\n",
       "14       2\n",
       "16       1\n",
       "19       1\n",
       "15       1\n",
       "Name: rooms, dtype: int64"
      ]
     },
     "execution_count": 662,
     "metadata": {},
     "output_type": "execute_result"
    }
   ],
   "source": [
    "# Посмотрим на распределение количества комнат.\n",
    "\n",
    "df['rooms'].value_counts()"
   ]
  },
  {
   "cell_type": "code",
   "execution_count": 663,
   "metadata": {},
   "outputs": [],
   "source": [
    "# Удалим объекты с аномально большим количеством комнат (от 8 до 16).\n",
    "df.drop(df.query('rooms >= 8').index, axis=0, inplace=True)"
   ]
  },
  {
   "cell_type": "markdown",
   "metadata": {},
   "source": [
    " Убрали аномальные значения в столбцах last_price и ceiling_height."
   ]
  },
  {
   "cell_type": "markdown",
   "metadata": {
    "id": "Va72SkDh-h8g"
   },
   "source": [
    "## Посчитайте и добавьте в таблицу новые столбцы"
   ]
  },
  {
   "cell_type": "code",
   "execution_count": 664,
   "metadata": {},
   "outputs": [],
   "source": [
    "# Добавим новый столбец: цена за 1 кв. м.\n",
    "\n",
    "df['meter_price'] = df['last_price'] / df['total_area']"
   ]
  },
  {
   "cell_type": "code",
   "execution_count": 665,
   "metadata": {
    "id": "4xH3svHgKT8H"
   },
   "outputs": [],
   "source": [
    "# Добавим новый столбец: день недели публикации объявления.\n",
    "\n",
    "df['weekday'] = df['first_day_exposition'].dt.weekday"
   ]
  },
  {
   "cell_type": "code",
   "execution_count": 666,
   "metadata": {},
   "outputs": [],
   "source": [
    "# Добавим новый столбец: месяц публикации объявления.\n",
    "\n",
    "df['month'] = df['first_day_exposition'].dt.month"
   ]
  },
  {
   "cell_type": "code",
   "execution_count": 667,
   "metadata": {},
   "outputs": [],
   "source": [
    "# Добавим новый столбец: месяц публикации объявления c учетом года.\n",
    "\n",
    "df['month_year'] = df['first_day_exposition'].astype('datetime64[M]')"
   ]
  },
  {
   "cell_type": "code",
   "execution_count": 668,
   "metadata": {
    "id": "JtA18Wad-h8h"
   },
   "outputs": [],
   "source": [
    "# Добавим новый столбец: год публикации объявления.\n",
    "\n",
    "df['year'] = df['first_day_exposition'].dt.year"
   ]
  },
  {
   "cell_type": "code",
   "execution_count": 669,
   "metadata": {},
   "outputs": [],
   "source": [
    "# Добавим новый столбец: тип этажа квартиры.\n",
    "\n",
    "def floors(row):\n",
    "    try:\n",
    "        if row['floor'] == 1:\n",
    "            return 'первый'\n",
    "        elif row['floor'] == row['floors_total']:\n",
    "            return 'последний'\n",
    "        else:\n",
    "            return 'другой'\n",
    "    except:\n",
    "        return 'ошибка'\n",
    "\n",
    "df['floors_category'] = df.apply(floors, axis=1)"
   ]
  },
  {
   "cell_type": "code",
   "execution_count": 670,
   "metadata": {
    "scrolled": false
   },
   "outputs": [
    {
     "data": {
      "text/plain": [
       "array(['другой', 'первый', 'последний'], dtype=object)"
      ]
     },
     "execution_count": 670,
     "metadata": {},
     "output_type": "execute_result"
    }
   ],
   "source": [
    "# Проверим значения в новом столбце.\n",
    "\n",
    "df['floors_category'].unique()"
   ]
  },
  {
   "cell_type": "code",
   "execution_count": 671,
   "metadata": {},
   "outputs": [],
   "source": [
    "# Добавим новый столбец: расстояние до центра города (км).\n",
    "\n",
    "df['city_center_km'] = (df['cityCenters_nearest'] / 1000).round()"
   ]
  },
  {
   "cell_type": "code",
   "execution_count": 672,
   "metadata": {
    "scrolled": false
   },
   "outputs": [
    {
     "data": {
      "text/html": [
       "<div>\n",
       "<style scoped>\n",
       "    .dataframe tbody tr th:only-of-type {\n",
       "        vertical-align: middle;\n",
       "    }\n",
       "\n",
       "    .dataframe tbody tr th {\n",
       "        vertical-align: top;\n",
       "    }\n",
       "\n",
       "    .dataframe thead th {\n",
       "        text-align: right;\n",
       "    }\n",
       "</style>\n",
       "<table border=\"1\" class=\"dataframe\">\n",
       "  <thead>\n",
       "    <tr style=\"text-align: right;\">\n",
       "      <th></th>\n",
       "      <th>total_images</th>\n",
       "      <th>last_price</th>\n",
       "      <th>total_area</th>\n",
       "      <th>first_day_exposition</th>\n",
       "      <th>rooms</th>\n",
       "      <th>ceiling_height</th>\n",
       "      <th>floors_total</th>\n",
       "      <th>living_area</th>\n",
       "      <th>floor</th>\n",
       "      <th>is_apartment</th>\n",
       "      <th>...</th>\n",
       "      <th>ponds_around3000</th>\n",
       "      <th>ponds_nearest</th>\n",
       "      <th>days_exposition</th>\n",
       "      <th>meter_price</th>\n",
       "      <th>weekday</th>\n",
       "      <th>month</th>\n",
       "      <th>month_year</th>\n",
       "      <th>year</th>\n",
       "      <th>floors_category</th>\n",
       "      <th>city_center_km</th>\n",
       "    </tr>\n",
       "  </thead>\n",
       "  <tbody>\n",
       "    <tr>\n",
       "      <th>0</th>\n",
       "      <td>20</td>\n",
       "      <td>13000000</td>\n",
       "      <td>108.0</td>\n",
       "      <td>2019-03-07</td>\n",
       "      <td>3</td>\n",
       "      <td>2.70</td>\n",
       "      <td>16.0</td>\n",
       "      <td>51.000000</td>\n",
       "      <td>8</td>\n",
       "      <td>False</td>\n",
       "      <td>...</td>\n",
       "      <td>2.0</td>\n",
       "      <td>755.0</td>\n",
       "      <td>NaN</td>\n",
       "      <td>120370.370370</td>\n",
       "      <td>3</td>\n",
       "      <td>3</td>\n",
       "      <td>2019-03-01</td>\n",
       "      <td>2019</td>\n",
       "      <td>другой</td>\n",
       "      <td>16.0</td>\n",
       "    </tr>\n",
       "    <tr>\n",
       "      <th>1</th>\n",
       "      <td>7</td>\n",
       "      <td>3350000</td>\n",
       "      <td>40.4</td>\n",
       "      <td>2018-12-04</td>\n",
       "      <td>1</td>\n",
       "      <td>2.63</td>\n",
       "      <td>11.0</td>\n",
       "      <td>18.600000</td>\n",
       "      <td>1</td>\n",
       "      <td>False</td>\n",
       "      <td>...</td>\n",
       "      <td>0.0</td>\n",
       "      <td>NaN</td>\n",
       "      <td>81.0</td>\n",
       "      <td>82920.792079</td>\n",
       "      <td>1</td>\n",
       "      <td>12</td>\n",
       "      <td>2018-12-01</td>\n",
       "      <td>2018</td>\n",
       "      <td>первый</td>\n",
       "      <td>19.0</td>\n",
       "    </tr>\n",
       "    <tr>\n",
       "      <th>2</th>\n",
       "      <td>10</td>\n",
       "      <td>5196000</td>\n",
       "      <td>56.0</td>\n",
       "      <td>2015-08-20</td>\n",
       "      <td>2</td>\n",
       "      <td>2.70</td>\n",
       "      <td>5.0</td>\n",
       "      <td>34.300000</td>\n",
       "      <td>4</td>\n",
       "      <td>False</td>\n",
       "      <td>...</td>\n",
       "      <td>2.0</td>\n",
       "      <td>574.0</td>\n",
       "      <td>558.0</td>\n",
       "      <td>92785.714286</td>\n",
       "      <td>3</td>\n",
       "      <td>8</td>\n",
       "      <td>2015-08-01</td>\n",
       "      <td>2015</td>\n",
       "      <td>другой</td>\n",
       "      <td>14.0</td>\n",
       "    </tr>\n",
       "    <tr>\n",
       "      <th>3</th>\n",
       "      <td>0</td>\n",
       "      <td>64900000</td>\n",
       "      <td>159.0</td>\n",
       "      <td>2015-07-24</td>\n",
       "      <td>3</td>\n",
       "      <td>2.70</td>\n",
       "      <td>14.0</td>\n",
       "      <td>91.177695</td>\n",
       "      <td>9</td>\n",
       "      <td>False</td>\n",
       "      <td>...</td>\n",
       "      <td>3.0</td>\n",
       "      <td>234.0</td>\n",
       "      <td>424.0</td>\n",
       "      <td>408176.100629</td>\n",
       "      <td>4</td>\n",
       "      <td>7</td>\n",
       "      <td>2015-07-01</td>\n",
       "      <td>2015</td>\n",
       "      <td>другой</td>\n",
       "      <td>7.0</td>\n",
       "    </tr>\n",
       "    <tr>\n",
       "      <th>4</th>\n",
       "      <td>2</td>\n",
       "      <td>10000000</td>\n",
       "      <td>100.0</td>\n",
       "      <td>2018-06-19</td>\n",
       "      <td>2</td>\n",
       "      <td>3.03</td>\n",
       "      <td>14.0</td>\n",
       "      <td>32.000000</td>\n",
       "      <td>13</td>\n",
       "      <td>False</td>\n",
       "      <td>...</td>\n",
       "      <td>1.0</td>\n",
       "      <td>48.0</td>\n",
       "      <td>121.0</td>\n",
       "      <td>100000.000000</td>\n",
       "      <td>1</td>\n",
       "      <td>6</td>\n",
       "      <td>2018-06-01</td>\n",
       "      <td>2018</td>\n",
       "      <td>другой</td>\n",
       "      <td>8.0</td>\n",
       "    </tr>\n",
       "  </tbody>\n",
       "</table>\n",
       "<p>5 rows × 29 columns</p>\n",
       "</div>"
      ],
      "text/plain": [
       "   total_images  last_price  total_area first_day_exposition  rooms  \\\n",
       "0            20    13000000       108.0           2019-03-07      3   \n",
       "1             7     3350000        40.4           2018-12-04      1   \n",
       "2            10     5196000        56.0           2015-08-20      2   \n",
       "3             0    64900000       159.0           2015-07-24      3   \n",
       "4             2    10000000       100.0           2018-06-19      2   \n",
       "\n",
       "   ceiling_height  floors_total  living_area  floor  is_apartment  ...  \\\n",
       "0            2.70          16.0    51.000000      8         False  ...   \n",
       "1            2.63          11.0    18.600000      1         False  ...   \n",
       "2            2.70           5.0    34.300000      4         False  ...   \n",
       "3            2.70          14.0    91.177695      9         False  ...   \n",
       "4            3.03          14.0    32.000000     13         False  ...   \n",
       "\n",
       "   ponds_around3000  ponds_nearest  days_exposition    meter_price weekday  \\\n",
       "0               2.0          755.0              NaN  120370.370370       3   \n",
       "1               0.0            NaN             81.0   82920.792079       1   \n",
       "2               2.0          574.0            558.0   92785.714286       3   \n",
       "3               3.0          234.0            424.0  408176.100629       4   \n",
       "4               1.0           48.0            121.0  100000.000000       1   \n",
       "\n",
       "   month  month_year  year  floors_category  city_center_km  \n",
       "0      3  2019-03-01  2019           другой            16.0  \n",
       "1     12  2018-12-01  2018           первый            19.0  \n",
       "2      8  2015-08-01  2015           другой            14.0  \n",
       "3      7  2015-07-01  2015           другой             7.0  \n",
       "4      6  2018-06-01  2018           другой             8.0  \n",
       "\n",
       "[5 rows x 29 columns]"
      ]
     },
     "execution_count": 672,
     "metadata": {},
     "output_type": "execute_result"
    }
   ],
   "source": [
    "# Проверим датафрейм с новыми столбцами.\n",
    "\n",
    "df.head()"
   ]
  },
  {
   "cell_type": "markdown",
   "metadata": {
    "id": "yKoIeOZk-h8h"
   },
   "source": [
    "## Проведите исследовательский анализ данных"
   ]
  },
  {
   "cell_type": "markdown",
   "metadata": {},
   "source": [
    "### Изучаем параметров объектов"
   ]
  },
  {
   "cell_type": "code",
   "execution_count": 673,
   "metadata": {},
   "outputs": [
    {
     "name": "stdout",
     "output_type": "stream",
     "text": [
      "<class 'pandas.core.frame.DataFrame'>\n",
      "Int64Index: 23600 entries, 0 to 23698\n",
      "Data columns (total 29 columns):\n",
      " #   Column                Non-Null Count  Dtype         \n",
      "---  ------                --------------  -----         \n",
      " 0   total_images          23600 non-null  int64         \n",
      " 1   last_price            23600 non-null  int32         \n",
      " 2   total_area            23600 non-null  float64       \n",
      " 3   first_day_exposition  23600 non-null  datetime64[ns]\n",
      " 4   rooms                 23600 non-null  int64         \n",
      " 5   ceiling_height        23600 non-null  float64       \n",
      " 6   floors_total          23514 non-null  float64       \n",
      " 7   living_area           23600 non-null  float64       \n",
      " 8   floor                 23600 non-null  int64         \n",
      " 9   is_apartment          23600 non-null  bool          \n",
      " 10  studio                23600 non-null  bool          \n",
      " 11  open_plan             23600 non-null  bool          \n",
      " 12  kitchen_area          23600 non-null  float64       \n",
      " 13  balcony               23600 non-null  int32         \n",
      " 14  locality_name         23551 non-null  object        \n",
      " 15  airports_nearest      18078 non-null  float64       \n",
      " 16  cityCenters_nearest   18101 non-null  float64       \n",
      " 17  parks_around3000      18102 non-null  float64       \n",
      " 18  parks_nearest         8020 non-null   float64       \n",
      " 19  ponds_around3000      18102 non-null  float64       \n",
      " 20  ponds_nearest         9054 non-null   float64       \n",
      " 21  days_exposition       20435 non-null  float64       \n",
      " 22  meter_price           23600 non-null  float64       \n",
      " 23  weekday               23600 non-null  int64         \n",
      " 24  month                 23600 non-null  int64         \n",
      " 25  month_year            23600 non-null  datetime64[ns]\n",
      " 26  year                  23600 non-null  int64         \n",
      " 27  floors_category       23600 non-null  object        \n",
      " 28  city_center_km        18101 non-null  float64       \n",
      "dtypes: bool(3), datetime64[ns](2), float64(14), int32(2), int64(6), object(2)\n",
      "memory usage: 4.7+ MB\n"
     ]
    }
   ],
   "source": [
    "df.info()"
   ]
  },
  {
   "cell_type": "code",
   "execution_count": 674,
   "metadata": {},
   "outputs": [
    {
     "data": {
      "image/png": "[encoded data removed]",
      "text/plain": [
       "<Figure size 432x288 with 1 Axes>"
      ]
     },
     "metadata": {
      "needs_background": "light"
     },
     "output_type": "display_data"
    }
   ],
   "source": [
    "df['total_area'].hist(bins = 100, range = (20, 100))\n",
    "plt.title('Распределение общей площади');"
   ]
  },
  {
   "cell_type": "markdown",
   "metadata": {},
   "source": [
    "Больше всего значений находится от 20 до 120 кв. м. с пиком около 40-50 кв. м. Значения более 200 кв. м. - единичные случаи. Значит, самые распространенные квартиры - общей площадью около 40-50 кв. м."
   ]
  },
  {
   "cell_type": "code",
   "execution_count": 675,
   "metadata": {
    "id": "kgGHZhXb-h8i",
    "scrolled": true
   },
   "outputs": [
    {
     "data": {
      "image/png": "[encoded data removed]",
      "text/plain": [
       "<Figure size 432x288 with 1 Axes>"
      ]
     },
     "metadata": {
      "needs_background": "light"
     },
     "output_type": "display_data"
    }
   ],
   "source": [
    "df['living_area'].plot(kind='hist', grid=True, bins=50, \n",
    "                       title='Распределение жилой площади', \n",
    "                       xticks=range(0,450,10), rot=90)\n",
    "plt.xlim(0, 200);"
   ]
  },
  {
   "cell_type": "markdown",
   "metadata": {},
   "source": [
    "Два пиковых значения - 20 и 30 кв. м., что соответствует однокомнатным и двухкомнатным квартирам."
   ]
  },
  {
   "cell_type": "code",
   "execution_count": 676,
   "metadata": {},
   "outputs": [
    {
     "data": {
      "image/png": "[encoded data removed]",
      "text/plain": [
       "<Figure size 432x288 with 1 Axes>"
      ]
     },
     "metadata": {
      "needs_background": "light"
     },
     "output_type": "display_data"
    }
   ],
   "source": [
    "df['kitchen_area'].plot(kind='hist', grid=True, bins=50, \n",
    "                        title='Распределение площади кухни', \n",
    "                        xticks=range(0,120,5))\n",
    "plt.xlim(0, 50);"
   ]
  },
  {
   "cell_type": "markdown",
   "metadata": {},
   "source": [
    "Практически все кухни - от 5 до 15 кв. м."
   ]
  },
  {
   "cell_type": "code",
   "execution_count": 677,
   "metadata": {},
   "outputs": [
    {
     "data": {
      "image/png": "[encoded data removed]",
      "text/plain": [
       "<Figure size 432x288 with 1 Axes>"
      ]
     },
     "metadata": {
      "needs_background": "light"
     },
     "output_type": "display_data"
    }
   ],
   "source": [
    "df['last_price'].plot(kind='hist', grid=True, \n",
    "                      title='Распределение цены объекта', \n",
    "                      logx=True, bins=100);"
   ]
  },
  {
   "cell_type": "markdown",
   "metadata": {},
   "source": [
    "Подавляющее большинство объектов имеют стоимость от 1 млн до 10 млн."
   ]
  },
  {
   "cell_type": "code",
   "execution_count": 678,
   "metadata": {},
   "outputs": [
    {
     "data": {
      "image/png": "[encoded data removed]",
      "text/plain": [
       "<Figure size 432x288 with 1 Axes>"
      ]
     },
     "metadata": {
      "needs_background": "light"
     },
     "output_type": "display_data"
    }
   ],
   "source": [
    "df['rooms'].plot(kind='hist', grid=True, bins=30, \n",
    "                 title='Распределение кол-ва комнат');"
   ]
  },
  {
   "cell_type": "markdown",
   "metadata": {},
   "source": [
    "Однокомнатные и двухкомнатные квартиры встречаются практически одинаково часто. Далее чем больше комнат - тем меньше объявлений."
   ]
  },
  {
   "cell_type": "code",
   "execution_count": 679,
   "metadata": {},
   "outputs": [
    {
     "data": {
      "image/png": "[encoded data removed]",
      "text/plain": [
       "<Figure size 432x288 with 1 Axes>"
      ]
     },
     "metadata": {
      "needs_background": "light"
     },
     "output_type": "display_data"
    }
   ],
   "source": [
    "df['ceiling_height'].plot(kind='hist', grid=True, \n",
    "                          title='Распределение высоты потолков', bins=30);"
   ]
  },
  {
   "cell_type": "markdown",
   "metadata": {},
   "source": [
    "Самые распространенные полотки - 2.7 м."
   ]
  },
  {
   "cell_type": "code",
   "execution_count": 680,
   "metadata": {},
   "outputs": [
    {
     "data": {
      "image/png": "[encoded data removed]",
      "text/plain": [
       "<Figure size 432x288 with 1 Axes>"
      ]
     },
     "metadata": {
      "needs_background": "light"
     },
     "output_type": "display_data"
    }
   ],
   "source": [
    "df['floor'].plot(kind='hist', grid=True, title='Распределение этажей квартиры', bins=30);"
   ]
  },
  {
   "cell_type": "markdown",
   "metadata": {},
   "source": [
    "Чем выше этаж, тем меньше объявлений. На гистограмме присутствуют падения в районе 5 и 9 (5-этажки и 9-этажки)."
   ]
  },
  {
   "cell_type": "code",
   "execution_count": 681,
   "metadata": {
    "scrolled": true
   },
   "outputs": [
    {
     "data": {
      "image/png": "[encoded data removed]",
      "text/plain": [
       "<Figure size 432x288 with 1 Axes>"
      ]
     },
     "metadata": {
      "needs_background": "light"
     },
     "output_type": "display_data"
    }
   ],
   "source": [
    "df['floors_category'].hist()\n",
    "plt.title('Распределение категорий этажа');"
   ]
  },
  {
   "cell_type": "markdown",
   "metadata": {},
   "source": [
    "Самые популярные квартиры - не на первом и не на последнем этаже."
   ]
  },
  {
   "cell_type": "code",
   "execution_count": 682,
   "metadata": {},
   "outputs": [
    {
     "data": {
      "text/plain": [
       "(0.0, 30.0)"
      ]
     },
     "execution_count": 682,
     "metadata": {},
     "output_type": "execute_result"
    },
    {
     "data": {
      "image/png": "[encoded data removed]",
      "text/plain": [
       "<Figure size 432x288 with 1 Axes>"
      ]
     },
     "metadata": {
      "needs_background": "light"
     },
     "output_type": "display_data"
    }
   ],
   "source": [
    "df['floors_total'].plot(kind='hist', grid=True, \n",
    "                        title='Распределение этажей в доме', bins=50);\n",
    "plt.xlim(0, 30)"
   ]
  },
  {
   "cell_type": "markdown",
   "metadata": {},
   "source": [
    "Больше всего квартир продается в пятиэтажках, далее - в девятиэтажках."
   ]
  },
  {
   "cell_type": "code",
   "execution_count": 683,
   "metadata": {
    "scrolled": true
   },
   "outputs": [
    {
     "data": {
      "image/png": "[encoded data removed]",
      "text/plain": [
       "<Figure size 432x288 with 1 Axes>"
      ]
     },
     "metadata": {
      "needs_background": "light"
     },
     "output_type": "display_data"
    }
   ],
   "source": [
    "df['cityCenters_nearest'].plot(kind='hist', grid=True, \n",
    "                               title='Расстояние до центра города в метрах', \n",
    "                               bins=100, xticks=range(0,70000,5000), rot=45);"
   ]
  },
  {
   "cell_type": "markdown",
   "metadata": {},
   "source": [
    "Больше всего квартир продается в районе до 17 км до центра города с пиком в 5 км (центр), а также пиками в 12 км и 15 км (спальные районы). Объектов дальше 20 км от центра города мало."
   ]
  },
  {
   "cell_type": "code",
   "execution_count": 684,
   "metadata": {
    "scrolled": true
   },
   "outputs": [
    {
     "data": {
      "image/png": "[encoded data removed]",
      "text/plain": [
       "<Figure size 432x288 with 1 Axes>"
      ]
     },
     "metadata": {
      "needs_background": "light"
     },
     "output_type": "display_data"
    }
   ],
   "source": [
    "df['airports_nearest'].plot(kind='hist', grid=True, \n",
    "                            title='Расстояние до ближайшего аэропорта', \n",
    "                            bins=100, xticks=range(0,85000,10000), rot=45);"
   ]
  },
  {
   "cell_type": "markdown",
   "metadata": {},
   "source": [
    "Квартир около аэропорта (до 10 км) - мало. В основном квартиры расположены от 10 км до 40 км, потом начинается спад."
   ]
  },
  {
   "cell_type": "code",
   "execution_count": 685,
   "metadata": {},
   "outputs": [
    {
     "data": {
      "image/png": "[encoded data removed]",
      "text/plain": [
       "<Figure size 432x288 with 1 Axes>"
      ]
     },
     "metadata": {
      "needs_background": "light"
     },
     "output_type": "display_data"
    }
   ],
   "source": [
    "df['parks_nearest'].plot(kind='hist', grid=True, \n",
    "                         title='Расстояние до ближайшего парка', bins=100);"
   ]
  },
  {
   "cell_type": "markdown",
   "metadata": {},
   "source": [
    "В основном ближайший парк расположен в 500 метрах, редко - в 1 км."
   ]
  },
  {
   "cell_type": "code",
   "execution_count": 686,
   "metadata": {},
   "outputs": [
    {
     "data": {
      "image/png": "[encoded data removed]",
      "text/plain": [
       "<Figure size 432x288 with 1 Axes>"
      ]
     },
     "metadata": {
      "needs_background": "light"
     },
     "output_type": "display_data"
    }
   ],
   "source": [
    "df['weekday'].hist()\n",
    "plt.title('Распределение объявлений по дням недели');"
   ]
  },
  {
   "cell_type": "markdown",
   "metadata": {},
   "source": [
    "В выходной день публикуется практически в два раза меньше объявлений, чем в будний день."
   ]
  },
  {
   "cell_type": "code",
   "execution_count": 687,
   "metadata": {
    "scrolled": true
   },
   "outputs": [
    {
     "data": {
      "image/png": "[encoded data removed]",
      "text/plain": [
       "<Figure size 720x360 with 1 Axes>"
      ]
     },
     "metadata": {
      "needs_background": "light"
     },
     "output_type": "display_data"
    }
   ],
   "source": [
    "df['month_year'].hist(bins=50, figsize=(10, 5))\n",
    "plt.xticks(rotation=90)\n",
    "plt.title('Распределение объявлений по месяцам');"
   ]
  },
  {
   "cell_type": "markdown",
   "metadata": {},
   "source": [
    "Больше всего объявлений - с февраля по апрель, а также в сентябре-ноябре. Меньше всего - в мае. \n",
    "Люди продают квартиры после январских праздников (февраль-апрель), потом приходят майские праздники, и наступает лето (отпуска/ каникулы); осенью активность увеличивается, а в декабре опять падает."
   ]
  },
  {
   "cell_type": "markdown",
   "metadata": {},
   "source": [
    "### Проверка скорости продажи квартир"
   ]
  },
  {
   "cell_type": "code",
   "execution_count": 688,
   "metadata": {
    "scrolled": true
   },
   "outputs": [
    {
     "data": {
      "image/png": "[encoded data removed]",
      "text/plain": [
       "<Figure size 1080x360 with 1 Axes>"
      ]
     },
     "metadata": {
      "needs_background": "light"
     },
     "output_type": "display_data"
    }
   ],
   "source": [
    "# Посмотрим, сколько \"висят\" объявления о продаже.\n",
    "\n",
    "df['days_exposition'].plot(kind='hist', grid=True, bins=200, \n",
    "                           xticks=range(0,600, 10), rot=90, figsize=(15, 5))\n",
    "plt.title('Распределение кол-ва дней публикации объявления')\n",
    "plt.xlim(0,600);"
   ]
  },
  {
   "cell_type": "markdown",
   "metadata": {},
   "source": [
    "Видны пики в 45, 60, 90 дней - настройки системы, когда платформа автоматически убирает объявление, если пользователь его не продлил."
   ]
  },
  {
   "cell_type": "code",
   "execution_count": 689,
   "metadata": {
    "scrolled": true
   },
   "outputs": [
    {
     "data": {
      "image/png": "[encoded data removed]",
      "text/plain": [
       "<Figure size 432x288 with 1 Axes>"
      ]
     },
     "metadata": {
      "needs_background": "light"
     },
     "output_type": "display_data"
    }
   ],
   "source": [
    "# Посмотрим на выбросы.\n",
    "\n",
    "df.boxplot('days_exposition');"
   ]
  },
  {
   "cell_type": "code",
   "execution_count": 690,
   "metadata": {},
   "outputs": [
    {
     "data": {
      "text/plain": [
       "510.0"
      ]
     },
     "execution_count": 690,
     "metadata": {},
     "output_type": "execute_result"
    }
   ],
   "source": [
    "# Посчитаем верхнюю границу, за которой продажи будут слишком долгими.\n",
    "\n",
    "iqr = df['days_exposition'].quantile(0.75) - df['days_exposition'].quantile(0.25)\n",
    "top_limit = df['days_exposition'].quantile(0.75) + 1.5 * iqr\n",
    "top_limit"
   ]
  },
  {
   "cell_type": "code",
   "execution_count": 691,
   "metadata": {},
   "outputs": [
    {
     "data": {
      "text/plain": [
       "180.49170540738928"
      ]
     },
     "metadata": {},
     "output_type": "display_data"
    },
    {
     "data": {
      "text/plain": [
       "95.0"
      ]
     },
     "metadata": {},
     "output_type": "display_data"
    }
   ],
   "source": [
    "# Посмотрим на среднее и медиану. \n",
    "\n",
    "display(df['days_exposition'].mean())\n",
    "display(df['days_exposition'].median())"
   ]
  },
  {
   "cell_type": "markdown",
   "metadata": {},
   "source": [
    "Среднее почти в два раза больше медианы, оно получилось завышено благодаря аномально долгим продажам (есть продажи более 4 лет)."
   ]
  },
  {
   "cell_type": "markdown",
   "metadata": {},
   "source": [
    "Квартиры чаще всего продаются со сроком до 40 дней.\n",
    "Быстрыми можем считать продажи, совершенные за неделю. Слишком долгие - от 510 дней."
   ]
  },
  {
   "cell_type": "markdown",
   "metadata": {},
   "source": [
    "### Влияние на общую стоимость объекта"
   ]
  },
  {
   "cell_type": "code",
   "execution_count": 692,
   "metadata": {},
   "outputs": [
    {
     "name": "stdout",
     "output_type": "stream",
     "text": [
      "<class 'pandas.core.frame.DataFrame'>\n",
      "Int64Index: 23600 entries, 0 to 23698\n",
      "Data columns (total 29 columns):\n",
      " #   Column                Non-Null Count  Dtype         \n",
      "---  ------                --------------  -----         \n",
      " 0   total_images          23600 non-null  int64         \n",
      " 1   last_price            23600 non-null  int32         \n",
      " 2   total_area            23600 non-null  float64       \n",
      " 3   first_day_exposition  23600 non-null  datetime64[ns]\n",
      " 4   rooms                 23600 non-null  int64         \n",
      " 5   ceiling_height        23600 non-null  float64       \n",
      " 6   floors_total          23514 non-null  float64       \n",
      " 7   living_area           23600 non-null  float64       \n",
      " 8   floor                 23600 non-null  int64         \n",
      " 9   is_apartment          23600 non-null  bool          \n",
      " 10  studio                23600 non-null  bool          \n",
      " 11  open_plan             23600 non-null  bool          \n",
      " 12  kitchen_area          23600 non-null  float64       \n",
      " 13  balcony               23600 non-null  int32         \n",
      " 14  locality_name         23551 non-null  object        \n",
      " 15  airports_nearest      18078 non-null  float64       \n",
      " 16  cityCenters_nearest   18101 non-null  float64       \n",
      " 17  parks_around3000      18102 non-null  float64       \n",
      " 18  parks_nearest         8020 non-null   float64       \n",
      " 19  ponds_around3000      18102 non-null  float64       \n",
      " 20  ponds_nearest         9054 non-null   float64       \n",
      " 21  days_exposition       20435 non-null  float64       \n",
      " 22  meter_price           23600 non-null  float64       \n",
      " 23  weekday               23600 non-null  int64         \n",
      " 24  month                 23600 non-null  int64         \n",
      " 25  month_year            23600 non-null  datetime64[ns]\n",
      " 26  year                  23600 non-null  int64         \n",
      " 27  floors_category       23600 non-null  object        \n",
      " 28  city_center_km        18101 non-null  float64       \n",
      "dtypes: bool(3), datetime64[ns](2), float64(14), int32(2), int64(6), object(2)\n",
      "memory usage: 4.7+ MB\n"
     ]
    }
   ],
   "source": [
    "df.info()"
   ]
  },
  {
   "cell_type": "code",
   "execution_count": 693,
   "metadata": {},
   "outputs": [
    {
     "data": {
      "text/html": [
       "<div>\n",
       "<style scoped>\n",
       "    .dataframe tbody tr th:only-of-type {\n",
       "        vertical-align: middle;\n",
       "    }\n",
       "\n",
       "    .dataframe tbody tr th {\n",
       "        vertical-align: top;\n",
       "    }\n",
       "\n",
       "    .dataframe thead th {\n",
       "        text-align: right;\n",
       "    }\n",
       "</style>\n",
       "<table border=\"1\" class=\"dataframe\">\n",
       "  <thead>\n",
       "    <tr style=\"text-align: right;\">\n",
       "      <th></th>\n",
       "      <th>total_images</th>\n",
       "      <th>last_price</th>\n",
       "      <th>total_area</th>\n",
       "      <th>rooms</th>\n",
       "      <th>ceiling_height</th>\n",
       "      <th>floors_total</th>\n",
       "      <th>living_area</th>\n",
       "      <th>floor</th>\n",
       "      <th>is_apartment</th>\n",
       "      <th>studio</th>\n",
       "      <th>...</th>\n",
       "      <th>parks_around3000</th>\n",
       "      <th>parks_nearest</th>\n",
       "      <th>ponds_around3000</th>\n",
       "      <th>ponds_nearest</th>\n",
       "      <th>days_exposition</th>\n",
       "      <th>meter_price</th>\n",
       "      <th>weekday</th>\n",
       "      <th>month</th>\n",
       "      <th>year</th>\n",
       "      <th>city_center_km</th>\n",
       "    </tr>\n",
       "  </thead>\n",
       "  <tbody>\n",
       "    <tr>\n",
       "      <th>total_images</th>\n",
       "      <td>1.000000</td>\n",
       "      <td>0.132167</td>\n",
       "      <td>0.114909</td>\n",
       "      <td>0.101899</td>\n",
       "      <td>0.049292</td>\n",
       "      <td>0.010996</td>\n",
       "      <td>0.100259</td>\n",
       "      <td>0.031626</td>\n",
       "      <td>0.012329</td>\n",
       "      <td>-0.029311</td>\n",
       "      <td>...</td>\n",
       "      <td>0.018821</td>\n",
       "      <td>-0.008449</td>\n",
       "      <td>-0.014263</td>\n",
       "      <td>-0.001449</td>\n",
       "      <td>-0.028122</td>\n",
       "      <td>0.133888</td>\n",
       "      <td>-0.010837</td>\n",
       "      <td>0.005019</td>\n",
       "      <td>0.140967</td>\n",
       "      <td>-0.045387</td>\n",
       "    </tr>\n",
       "    <tr>\n",
       "      <th>last_price</th>\n",
       "      <td>0.132167</td>\n",
       "      <td>1.000000</td>\n",
       "      <td>0.766769</td>\n",
       "      <td>0.461346</td>\n",
       "      <td>0.407043</td>\n",
       "      <td>0.010588</td>\n",
       "      <td>0.686460</td>\n",
       "      <td>0.039020</td>\n",
       "      <td>0.047820</td>\n",
       "      <td>-0.039626</td>\n",
       "      <td>...</td>\n",
       "      <td>0.208607</td>\n",
       "      <td>-0.016706</td>\n",
       "      <td>0.201824</td>\n",
       "      <td>-0.118259</td>\n",
       "      <td>0.121746</td>\n",
       "      <td>0.718470</td>\n",
       "      <td>-0.003049</td>\n",
       "      <td>0.009130</td>\n",
       "      <td>-0.055018</td>\n",
       "      <td>-0.300618</td>\n",
       "    </tr>\n",
       "    <tr>\n",
       "      <th>total_area</th>\n",
       "      <td>0.114909</td>\n",
       "      <td>0.766769</td>\n",
       "      <td>1.000000</td>\n",
       "      <td>0.758242</td>\n",
       "      <td>0.393830</td>\n",
       "      <td>-0.071485</td>\n",
       "      <td>0.941548</td>\n",
       "      <td>-0.026315</td>\n",
       "      <td>0.034916</td>\n",
       "      <td>-0.078335</td>\n",
       "      <td>...</td>\n",
       "      <td>0.163246</td>\n",
       "      <td>-0.019784</td>\n",
       "      <td>0.158234</td>\n",
       "      <td>-0.093088</td>\n",
       "      <td>0.150861</td>\n",
       "      <td>0.246650</td>\n",
       "      <td>-0.005647</td>\n",
       "      <td>0.009611</td>\n",
       "      <td>-0.082230</td>\n",
       "      <td>-0.232469</td>\n",
       "    </tr>\n",
       "    <tr>\n",
       "      <th>rooms</th>\n",
       "      <td>0.101899</td>\n",
       "      <td>0.461346</td>\n",
       "      <td>0.758242</td>\n",
       "      <td>1.000000</td>\n",
       "      <td>0.225219</td>\n",
       "      <td>-0.229919</td>\n",
       "      <td>0.827153</td>\n",
       "      <td>-0.154625</td>\n",
       "      <td>0.002018</td>\n",
       "      <td>-0.153470</td>\n",
       "      <td>...</td>\n",
       "      <td>0.130373</td>\n",
       "      <td>-0.056713</td>\n",
       "      <td>0.088843</td>\n",
       "      <td>-0.049921</td>\n",
       "      <td>0.122377</td>\n",
       "      <td>0.013586</td>\n",
       "      <td>-0.004420</td>\n",
       "      <td>-0.001080</td>\n",
       "      <td>-0.053765</td>\n",
       "      <td>-0.178652</td>\n",
       "    </tr>\n",
       "    <tr>\n",
       "      <th>ceiling_height</th>\n",
       "      <td>0.049292</td>\n",
       "      <td>0.407043</td>\n",
       "      <td>0.393830</td>\n",
       "      <td>0.225219</td>\n",
       "      <td>1.000000</td>\n",
       "      <td>-0.040094</td>\n",
       "      <td>0.367977</td>\n",
       "      <td>-0.015377</td>\n",
       "      <td>0.065988</td>\n",
       "      <td>0.016833</td>\n",
       "      <td>...</td>\n",
       "      <td>0.221116</td>\n",
       "      <td>-0.052285</td>\n",
       "      <td>0.186961</td>\n",
       "      <td>-0.105617</td>\n",
       "      <td>0.106262</td>\n",
       "      <td>0.330323</td>\n",
       "      <td>-0.018197</td>\n",
       "      <td>0.002528</td>\n",
       "      <td>-0.062787</td>\n",
       "      <td>-0.340191</td>\n",
       "    </tr>\n",
       "    <tr>\n",
       "      <th>floors_total</th>\n",
       "      <td>0.010996</td>\n",
       "      <td>0.010588</td>\n",
       "      <td>-0.071485</td>\n",
       "      <td>-0.229919</td>\n",
       "      <td>-0.040094</td>\n",
       "      <td>1.000000</td>\n",
       "      <td>-0.160656</td>\n",
       "      <td>0.678045</td>\n",
       "      <td>-0.025964</td>\n",
       "      <td>0.070116</td>\n",
       "      <td>...</td>\n",
       "      <td>-0.251232</td>\n",
       "      <td>0.096771</td>\n",
       "      <td>-0.121476</td>\n",
       "      <td>0.037117</td>\n",
       "      <td>-0.050747</td>\n",
       "      <td>0.185418</td>\n",
       "      <td>0.013076</td>\n",
       "      <td>0.015863</td>\n",
       "      <td>0.007163</td>\n",
       "      <td>0.016238</td>\n",
       "    </tr>\n",
       "    <tr>\n",
       "      <th>living_area</th>\n",
       "      <td>0.100259</td>\n",
       "      <td>0.686460</td>\n",
       "      <td>0.941548</td>\n",
       "      <td>0.827153</td>\n",
       "      <td>0.367977</td>\n",
       "      <td>-0.160656</td>\n",
       "      <td>1.000000</td>\n",
       "      <td>-0.094429</td>\n",
       "      <td>0.033322</td>\n",
       "      <td>-0.059711</td>\n",
       "      <td>...</td>\n",
       "      <td>0.175957</td>\n",
       "      <td>-0.048847</td>\n",
       "      <td>0.143476</td>\n",
       "      <td>-0.076996</td>\n",
       "      <td>0.142243</td>\n",
       "      <td>0.170377</td>\n",
       "      <td>-0.004391</td>\n",
       "      <td>0.004773</td>\n",
       "      <td>-0.072440</td>\n",
       "      <td>-0.226868</td>\n",
       "    </tr>\n",
       "    <tr>\n",
       "      <th>floor</th>\n",
       "      <td>0.031626</td>\n",
       "      <td>0.039020</td>\n",
       "      <td>-0.026315</td>\n",
       "      <td>-0.154625</td>\n",
       "      <td>-0.015377</td>\n",
       "      <td>0.678045</td>\n",
       "      <td>-0.094429</td>\n",
       "      <td>1.000000</td>\n",
       "      <td>-0.013314</td>\n",
       "      <td>0.036940</td>\n",
       "      <td>...</td>\n",
       "      <td>-0.163387</td>\n",
       "      <td>0.073006</td>\n",
       "      <td>-0.075809</td>\n",
       "      <td>0.023611</td>\n",
       "      <td>-0.038607</td>\n",
       "      <td>0.152833</td>\n",
       "      <td>0.012005</td>\n",
       "      <td>0.019183</td>\n",
       "      <td>0.004484</td>\n",
       "      <td>0.007648</td>\n",
       "    </tr>\n",
       "    <tr>\n",
       "      <th>is_apartment</th>\n",
       "      <td>0.012329</td>\n",
       "      <td>0.047820</td>\n",
       "      <td>0.034916</td>\n",
       "      <td>0.002018</td>\n",
       "      <td>0.065988</td>\n",
       "      <td>-0.025964</td>\n",
       "      <td>0.033322</td>\n",
       "      <td>-0.013314</td>\n",
       "      <td>1.000000</td>\n",
       "      <td>-0.003636</td>\n",
       "      <td>...</td>\n",
       "      <td>0.020774</td>\n",
       "      <td>-0.032382</td>\n",
       "      <td>0.021806</td>\n",
       "      <td>0.006652</td>\n",
       "      <td>0.016451</td>\n",
       "      <td>0.043115</td>\n",
       "      <td>-0.009317</td>\n",
       "      <td>0.002205</td>\n",
       "      <td>0.008922</td>\n",
       "      <td>0.004257</td>\n",
       "    </tr>\n",
       "    <tr>\n",
       "      <th>studio</th>\n",
       "      <td>-0.029311</td>\n",
       "      <td>-0.039626</td>\n",
       "      <td>-0.078335</td>\n",
       "      <td>-0.153470</td>\n",
       "      <td>0.016833</td>\n",
       "      <td>0.070116</td>\n",
       "      <td>-0.059711</td>\n",
       "      <td>0.036940</td>\n",
       "      <td>-0.003636</td>\n",
       "      <td>1.000000</td>\n",
       "      <td>...</td>\n",
       "      <td>-0.030082</td>\n",
       "      <td>0.009113</td>\n",
       "      <td>0.001176</td>\n",
       "      <td>0.002339</td>\n",
       "      <td>-0.022412</td>\n",
       "      <td>0.019932</td>\n",
       "      <td>-0.000855</td>\n",
       "      <td>0.000921</td>\n",
       "      <td>0.011914</td>\n",
       "      <td>-0.007746</td>\n",
       "    </tr>\n",
       "    <tr>\n",
       "      <th>open_plan</th>\n",
       "      <td>-0.024426</td>\n",
       "      <td>-0.012477</td>\n",
       "      <td>-0.037299</td>\n",
       "      <td>-0.091091</td>\n",
       "      <td>0.005483</td>\n",
       "      <td>0.050773</td>\n",
       "      <td>-0.025806</td>\n",
       "      <td>0.035842</td>\n",
       "      <td>-0.002434</td>\n",
       "      <td>-0.004253</td>\n",
       "      <td>...</td>\n",
       "      <td>-0.009948</td>\n",
       "      <td>0.010606</td>\n",
       "      <td>0.008642</td>\n",
       "      <td>-0.003526</td>\n",
       "      <td>-0.024098</td>\n",
       "      <td>0.010756</td>\n",
       "      <td>0.011057</td>\n",
       "      <td>0.025776</td>\n",
       "      <td>-0.021204</td>\n",
       "      <td>-0.003975</td>\n",
       "    </tr>\n",
       "    <tr>\n",
       "      <th>kitchen_area</th>\n",
       "      <td>0.104116</td>\n",
       "      <td>0.609866</td>\n",
       "      <td>0.640227</td>\n",
       "      <td>0.299453</td>\n",
       "      <td>0.336110</td>\n",
       "      <td>0.133496</td>\n",
       "      <td>0.465148</td>\n",
       "      <td>0.111340</td>\n",
       "      <td>0.047845</td>\n",
       "      <td>-0.077259</td>\n",
       "      <td>...</td>\n",
       "      <td>0.091832</td>\n",
       "      <td>0.024892</td>\n",
       "      <td>0.139488</td>\n",
       "      <td>-0.092592</td>\n",
       "      <td>0.110759</td>\n",
       "      <td>0.358442</td>\n",
       "      <td>-0.007531</td>\n",
       "      <td>0.006774</td>\n",
       "      <td>-0.059497</td>\n",
       "      <td>-0.188546</td>\n",
       "    </tr>\n",
       "    <tr>\n",
       "      <th>balcony</th>\n",
       "      <td>0.049033</td>\n",
       "      <td>0.014120</td>\n",
       "      <td>0.015042</td>\n",
       "      <td>-0.012163</td>\n",
       "      <td>-0.045870</td>\n",
       "      <td>0.172963</td>\n",
       "      <td>-0.007686</td>\n",
       "      <td>0.168584</td>\n",
       "      <td>0.029139</td>\n",
       "      <td>0.028936</td>\n",
       "      <td>...</td>\n",
       "      <td>-0.076639</td>\n",
       "      <td>0.033304</td>\n",
       "      <td>-0.038876</td>\n",
       "      <td>0.018937</td>\n",
       "      <td>-0.027252</td>\n",
       "      <td>0.027011</td>\n",
       "      <td>-0.000917</td>\n",
       "      <td>0.009368</td>\n",
       "      <td>0.004023</td>\n",
       "      <td>0.064668</td>\n",
       "    </tr>\n",
       "    <tr>\n",
       "      <th>airports_nearest</th>\n",
       "      <td>-0.001982</td>\n",
       "      <td>-0.035314</td>\n",
       "      <td>-0.028210</td>\n",
       "      <td>-0.058645</td>\n",
       "      <td>-0.086045</td>\n",
       "      <td>0.107859</td>\n",
       "      <td>-0.050605</td>\n",
       "      <td>0.071282</td>\n",
       "      <td>0.016063</td>\n",
       "      <td>-0.021971</td>\n",
       "      <td>...</td>\n",
       "      <td>0.002176</td>\n",
       "      <td>-0.070610</td>\n",
       "      <td>-0.049574</td>\n",
       "      <td>0.013775</td>\n",
       "      <td>-0.017535</td>\n",
       "      <td>-0.042333</td>\n",
       "      <td>0.001300</td>\n",
       "      <td>0.006163</td>\n",
       "      <td>0.008810</td>\n",
       "      <td>0.272529</td>\n",
       "    </tr>\n",
       "    <tr>\n",
       "      <th>cityCenters_nearest</th>\n",
       "      <td>-0.045915</td>\n",
       "      <td>-0.300412</td>\n",
       "      <td>-0.232655</td>\n",
       "      <td>-0.179079</td>\n",
       "      <td>-0.339996</td>\n",
       "      <td>0.016940</td>\n",
       "      <td>-0.227198</td>\n",
       "      <td>0.008153</td>\n",
       "      <td>0.004399</td>\n",
       "      <td>-0.007306</td>\n",
       "      <td>...</td>\n",
       "      <td>-0.158455</td>\n",
       "      <td>-0.043040</td>\n",
       "      <td>-0.071454</td>\n",
       "      <td>0.025938</td>\n",
       "      <td>-0.058358</td>\n",
       "      <td>-0.362018</td>\n",
       "      <td>0.008956</td>\n",
       "      <td>-0.010180</td>\n",
       "      <td>0.031374</td>\n",
       "      <td>0.999451</td>\n",
       "    </tr>\n",
       "    <tr>\n",
       "      <th>parks_around3000</th>\n",
       "      <td>0.018821</td>\n",
       "      <td>0.208607</td>\n",
       "      <td>0.163246</td>\n",
       "      <td>0.130373</td>\n",
       "      <td>0.221116</td>\n",
       "      <td>-0.251232</td>\n",
       "      <td>0.175957</td>\n",
       "      <td>-0.163387</td>\n",
       "      <td>0.020774</td>\n",
       "      <td>-0.030082</td>\n",
       "      <td>...</td>\n",
       "      <td>1.000000</td>\n",
       "      <td>-0.259318</td>\n",
       "      <td>0.302141</td>\n",
       "      <td>-0.164454</td>\n",
       "      <td>0.058494</td>\n",
       "      <td>0.190677</td>\n",
       "      <td>-0.010429</td>\n",
       "      <td>-0.003222</td>\n",
       "      <td>-0.037378</td>\n",
       "      <td>-0.159201</td>\n",
       "    </tr>\n",
       "    <tr>\n",
       "      <th>parks_nearest</th>\n",
       "      <td>-0.008449</td>\n",
       "      <td>-0.016706</td>\n",
       "      <td>-0.019784</td>\n",
       "      <td>-0.056713</td>\n",
       "      <td>-0.052285</td>\n",
       "      <td>0.096771</td>\n",
       "      <td>-0.048847</td>\n",
       "      <td>0.073006</td>\n",
       "      <td>-0.032382</td>\n",
       "      <td>0.009113</td>\n",
       "      <td>...</td>\n",
       "      <td>-0.259318</td>\n",
       "      <td>1.000000</td>\n",
       "      <td>0.078190</td>\n",
       "      <td>0.000563</td>\n",
       "      <td>0.023564</td>\n",
       "      <td>0.018420</td>\n",
       "      <td>-0.005030</td>\n",
       "      <td>0.018809</td>\n",
       "      <td>-0.020571</td>\n",
       "      <td>-0.042607</td>\n",
       "    </tr>\n",
       "    <tr>\n",
       "      <th>ponds_around3000</th>\n",
       "      <td>-0.014263</td>\n",
       "      <td>0.201824</td>\n",
       "      <td>0.158234</td>\n",
       "      <td>0.088843</td>\n",
       "      <td>0.186961</td>\n",
       "      <td>-0.121476</td>\n",
       "      <td>0.143476</td>\n",
       "      <td>-0.075809</td>\n",
       "      <td>0.021806</td>\n",
       "      <td>0.001176</td>\n",
       "      <td>...</td>\n",
       "      <td>0.302141</td>\n",
       "      <td>0.078190</td>\n",
       "      <td>1.000000</td>\n",
       "      <td>-0.340400</td>\n",
       "      <td>0.072471</td>\n",
       "      <td>0.192581</td>\n",
       "      <td>0.001970</td>\n",
       "      <td>-0.007834</td>\n",
       "      <td>-0.038003</td>\n",
       "      <td>-0.073025</td>\n",
       "    </tr>\n",
       "    <tr>\n",
       "      <th>ponds_nearest</th>\n",
       "      <td>-0.001449</td>\n",
       "      <td>-0.118259</td>\n",
       "      <td>-0.093088</td>\n",
       "      <td>-0.049921</td>\n",
       "      <td>-0.105617</td>\n",
       "      <td>0.037117</td>\n",
       "      <td>-0.076996</td>\n",
       "      <td>0.023611</td>\n",
       "      <td>0.006652</td>\n",
       "      <td>0.002339</td>\n",
       "      <td>...</td>\n",
       "      <td>-0.164454</td>\n",
       "      <td>0.000563</td>\n",
       "      <td>-0.340400</td>\n",
       "      <td>1.000000</td>\n",
       "      <td>-0.077774</td>\n",
       "      <td>-0.108872</td>\n",
       "      <td>-0.003596</td>\n",
       "      <td>0.012507</td>\n",
       "      <td>0.038147</td>\n",
       "      <td>0.028067</td>\n",
       "    </tr>\n",
       "    <tr>\n",
       "      <th>days_exposition</th>\n",
       "      <td>-0.028122</td>\n",
       "      <td>0.121746</td>\n",
       "      <td>0.150861</td>\n",
       "      <td>0.122377</td>\n",
       "      <td>0.106262</td>\n",
       "      <td>-0.050747</td>\n",
       "      <td>0.142243</td>\n",
       "      <td>-0.038607</td>\n",
       "      <td>0.016451</td>\n",
       "      <td>-0.022412</td>\n",
       "      <td>...</td>\n",
       "      <td>0.058494</td>\n",
       "      <td>0.023564</td>\n",
       "      <td>0.072471</td>\n",
       "      <td>-0.077774</td>\n",
       "      <td>1.000000</td>\n",
       "      <td>0.046645</td>\n",
       "      <td>-0.025296</td>\n",
       "      <td>-0.028302</td>\n",
       "      <td>-0.611266</td>\n",
       "      <td>-0.058340</td>\n",
       "    </tr>\n",
       "    <tr>\n",
       "      <th>meter_price</th>\n",
       "      <td>0.133888</td>\n",
       "      <td>0.718470</td>\n",
       "      <td>0.246650</td>\n",
       "      <td>0.013586</td>\n",
       "      <td>0.330323</td>\n",
       "      <td>0.185418</td>\n",
       "      <td>0.170377</td>\n",
       "      <td>0.152833</td>\n",
       "      <td>0.043115</td>\n",
       "      <td>0.019932</td>\n",
       "      <td>...</td>\n",
       "      <td>0.190677</td>\n",
       "      <td>0.018420</td>\n",
       "      <td>0.192581</td>\n",
       "      <td>-0.108872</td>\n",
       "      <td>0.046645</td>\n",
       "      <td>1.000000</td>\n",
       "      <td>-0.009574</td>\n",
       "      <td>0.000973</td>\n",
       "      <td>0.016542</td>\n",
       "      <td>-0.362793</td>\n",
       "    </tr>\n",
       "    <tr>\n",
       "      <th>weekday</th>\n",
       "      <td>-0.010837</td>\n",
       "      <td>-0.003049</td>\n",
       "      <td>-0.005647</td>\n",
       "      <td>-0.004420</td>\n",
       "      <td>-0.018197</td>\n",
       "      <td>0.013076</td>\n",
       "      <td>-0.004391</td>\n",
       "      <td>0.012005</td>\n",
       "      <td>-0.009317</td>\n",
       "      <td>-0.000855</td>\n",
       "      <td>...</td>\n",
       "      <td>-0.010429</td>\n",
       "      <td>-0.005030</td>\n",
       "      <td>0.001970</td>\n",
       "      <td>-0.003596</td>\n",
       "      <td>-0.025296</td>\n",
       "      <td>-0.009574</td>\n",
       "      <td>1.000000</td>\n",
       "      <td>0.011582</td>\n",
       "      <td>-0.004779</td>\n",
       "      <td>0.008758</td>\n",
       "    </tr>\n",
       "    <tr>\n",
       "      <th>month</th>\n",
       "      <td>0.005019</td>\n",
       "      <td>0.009130</td>\n",
       "      <td>0.009611</td>\n",
       "      <td>-0.001080</td>\n",
       "      <td>0.002528</td>\n",
       "      <td>0.015863</td>\n",
       "      <td>0.004773</td>\n",
       "      <td>0.019183</td>\n",
       "      <td>0.002205</td>\n",
       "      <td>0.000921</td>\n",
       "      <td>...</td>\n",
       "      <td>-0.003222</td>\n",
       "      <td>0.018809</td>\n",
       "      <td>-0.007834</td>\n",
       "      <td>0.012507</td>\n",
       "      <td>-0.028302</td>\n",
       "      <td>0.000973</td>\n",
       "      <td>0.011582</td>\n",
       "      <td>1.000000</td>\n",
       "      <td>-0.270963</td>\n",
       "      <td>-0.010282</td>\n",
       "    </tr>\n",
       "    <tr>\n",
       "      <th>year</th>\n",
       "      <td>0.140967</td>\n",
       "      <td>-0.055018</td>\n",
       "      <td>-0.082230</td>\n",
       "      <td>-0.053765</td>\n",
       "      <td>-0.062787</td>\n",
       "      <td>0.007163</td>\n",
       "      <td>-0.072440</td>\n",
       "      <td>0.004484</td>\n",
       "      <td>0.008922</td>\n",
       "      <td>0.011914</td>\n",
       "      <td>...</td>\n",
       "      <td>-0.037378</td>\n",
       "      <td>-0.020571</td>\n",
       "      <td>-0.038003</td>\n",
       "      <td>0.038147</td>\n",
       "      <td>-0.611266</td>\n",
       "      <td>0.016542</td>\n",
       "      <td>-0.004779</td>\n",
       "      <td>-0.270963</td>\n",
       "      <td>1.000000</td>\n",
       "      <td>0.031539</td>\n",
       "    </tr>\n",
       "    <tr>\n",
       "      <th>city_center_km</th>\n",
       "      <td>-0.045387</td>\n",
       "      <td>-0.300618</td>\n",
       "      <td>-0.232469</td>\n",
       "      <td>-0.178652</td>\n",
       "      <td>-0.340191</td>\n",
       "      <td>0.016238</td>\n",
       "      <td>-0.226868</td>\n",
       "      <td>0.007648</td>\n",
       "      <td>0.004257</td>\n",
       "      <td>-0.007746</td>\n",
       "      <td>...</td>\n",
       "      <td>-0.159201</td>\n",
       "      <td>-0.042607</td>\n",
       "      <td>-0.073025</td>\n",
       "      <td>0.028067</td>\n",
       "      <td>-0.058340</td>\n",
       "      <td>-0.362793</td>\n",
       "      <td>0.008758</td>\n",
       "      <td>-0.010282</td>\n",
       "      <td>0.031539</td>\n",
       "      <td>1.000000</td>\n",
       "    </tr>\n",
       "  </tbody>\n",
       "</table>\n",
       "<p>25 rows × 25 columns</p>\n",
       "</div>"
      ],
      "text/plain": [
       "                     total_images  last_price  total_area     rooms  \\\n",
       "total_images             1.000000    0.132167    0.114909  0.101899   \n",
       "last_price               0.132167    1.000000    0.766769  0.461346   \n",
       "total_area               0.114909    0.766769    1.000000  0.758242   \n",
       "rooms                    0.101899    0.461346    0.758242  1.000000   \n",
       "ceiling_height           0.049292    0.407043    0.393830  0.225219   \n",
       "floors_total             0.010996    0.010588   -0.071485 -0.229919   \n",
       "living_area              0.100259    0.686460    0.941548  0.827153   \n",
       "floor                    0.031626    0.039020   -0.026315 -0.154625   \n",
       "is_apartment             0.012329    0.047820    0.034916  0.002018   \n",
       "studio                  -0.029311   -0.039626   -0.078335 -0.153470   \n",
       "open_plan               -0.024426   -0.012477   -0.037299 -0.091091   \n",
       "kitchen_area             0.104116    0.609866    0.640227  0.299453   \n",
       "balcony                  0.049033    0.014120    0.015042 -0.012163   \n",
       "airports_nearest        -0.001982   -0.035314   -0.028210 -0.058645   \n",
       "cityCenters_nearest     -0.045915   -0.300412   -0.232655 -0.179079   \n",
       "parks_around3000         0.018821    0.208607    0.163246  0.130373   \n",
       "parks_nearest           -0.008449   -0.016706   -0.019784 -0.056713   \n",
       "ponds_around3000        -0.014263    0.201824    0.158234  0.088843   \n",
       "ponds_nearest           -0.001449   -0.118259   -0.093088 -0.049921   \n",
       "days_exposition         -0.028122    0.121746    0.150861  0.122377   \n",
       "meter_price              0.133888    0.718470    0.246650  0.013586   \n",
       "weekday                 -0.010837   -0.003049   -0.005647 -0.004420   \n",
       "month                    0.005019    0.009130    0.009611 -0.001080   \n",
       "year                     0.140967   -0.055018   -0.082230 -0.053765   \n",
       "city_center_km          -0.045387   -0.300618   -0.232469 -0.178652   \n",
       "\n",
       "                     ceiling_height  floors_total  living_area     floor  \\\n",
       "total_images               0.049292      0.010996     0.100259  0.031626   \n",
       "last_price                 0.407043      0.010588     0.686460  0.039020   \n",
       "total_area                 0.393830     -0.071485     0.941548 -0.026315   \n",
       "rooms                      0.225219     -0.229919     0.827153 -0.154625   \n",
       "ceiling_height             1.000000     -0.040094     0.367977 -0.015377   \n",
       "floors_total              -0.040094      1.000000    -0.160656  0.678045   \n",
       "living_area                0.367977     -0.160656     1.000000 -0.094429   \n",
       "floor                     -0.015377      0.678045    -0.094429  1.000000   \n",
       "is_apartment               0.065988     -0.025964     0.033322 -0.013314   \n",
       "studio                     0.016833      0.070116    -0.059711  0.036940   \n",
       "open_plan                  0.005483      0.050773    -0.025806  0.035842   \n",
       "kitchen_area               0.336110      0.133496     0.465148  0.111340   \n",
       "balcony                   -0.045870      0.172963    -0.007686  0.168584   \n",
       "airports_nearest          -0.086045      0.107859    -0.050605  0.071282   \n",
       "cityCenters_nearest       -0.339996      0.016940    -0.227198  0.008153   \n",
       "parks_around3000           0.221116     -0.251232     0.175957 -0.163387   \n",
       "parks_nearest             -0.052285      0.096771    -0.048847  0.073006   \n",
       "ponds_around3000           0.186961     -0.121476     0.143476 -0.075809   \n",
       "ponds_nearest             -0.105617      0.037117    -0.076996  0.023611   \n",
       "days_exposition            0.106262     -0.050747     0.142243 -0.038607   \n",
       "meter_price                0.330323      0.185418     0.170377  0.152833   \n",
       "weekday                   -0.018197      0.013076    -0.004391  0.012005   \n",
       "month                      0.002528      0.015863     0.004773  0.019183   \n",
       "year                      -0.062787      0.007163    -0.072440  0.004484   \n",
       "city_center_km            -0.340191      0.016238    -0.226868  0.007648   \n",
       "\n",
       "                     is_apartment    studio  ...  parks_around3000  \\\n",
       "total_images             0.012329 -0.029311  ...          0.018821   \n",
       "last_price               0.047820 -0.039626  ...          0.208607   \n",
       "total_area               0.034916 -0.078335  ...          0.163246   \n",
       "rooms                    0.002018 -0.153470  ...          0.130373   \n",
       "ceiling_height           0.065988  0.016833  ...          0.221116   \n",
       "floors_total            -0.025964  0.070116  ...         -0.251232   \n",
       "living_area              0.033322 -0.059711  ...          0.175957   \n",
       "floor                   -0.013314  0.036940  ...         -0.163387   \n",
       "is_apartment             1.000000 -0.003636  ...          0.020774   \n",
       "studio                  -0.003636  1.000000  ...         -0.030082   \n",
       "open_plan               -0.002434 -0.004253  ...         -0.009948   \n",
       "kitchen_area             0.047845 -0.077259  ...          0.091832   \n",
       "balcony                  0.029139  0.028936  ...         -0.076639   \n",
       "airports_nearest         0.016063 -0.021971  ...          0.002176   \n",
       "cityCenters_nearest      0.004399 -0.007306  ...         -0.158455   \n",
       "parks_around3000         0.020774 -0.030082  ...          1.000000   \n",
       "parks_nearest           -0.032382  0.009113  ...         -0.259318   \n",
       "ponds_around3000         0.021806  0.001176  ...          0.302141   \n",
       "ponds_nearest            0.006652  0.002339  ...         -0.164454   \n",
       "days_exposition          0.016451 -0.022412  ...          0.058494   \n",
       "meter_price              0.043115  0.019932  ...          0.190677   \n",
       "weekday                 -0.009317 -0.000855  ...         -0.010429   \n",
       "month                    0.002205  0.000921  ...         -0.003222   \n",
       "year                     0.008922  0.011914  ...         -0.037378   \n",
       "city_center_km           0.004257 -0.007746  ...         -0.159201   \n",
       "\n",
       "                     parks_nearest  ponds_around3000  ponds_nearest  \\\n",
       "total_images             -0.008449         -0.014263      -0.001449   \n",
       "last_price               -0.016706          0.201824      -0.118259   \n",
       "total_area               -0.019784          0.158234      -0.093088   \n",
       "rooms                    -0.056713          0.088843      -0.049921   \n",
       "ceiling_height           -0.052285          0.186961      -0.105617   \n",
       "floors_total              0.096771         -0.121476       0.037117   \n",
       "living_area              -0.048847          0.143476      -0.076996   \n",
       "floor                     0.073006         -0.075809       0.023611   \n",
       "is_apartment             -0.032382          0.021806       0.006652   \n",
       "studio                    0.009113          0.001176       0.002339   \n",
       "open_plan                 0.010606          0.008642      -0.003526   \n",
       "kitchen_area              0.024892          0.139488      -0.092592   \n",
       "balcony                   0.033304         -0.038876       0.018937   \n",
       "airports_nearest         -0.070610         -0.049574       0.013775   \n",
       "cityCenters_nearest      -0.043040         -0.071454       0.025938   \n",
       "parks_around3000         -0.259318          0.302141      -0.164454   \n",
       "parks_nearest             1.000000          0.078190       0.000563   \n",
       "ponds_around3000          0.078190          1.000000      -0.340400   \n",
       "ponds_nearest             0.000563         -0.340400       1.000000   \n",
       "days_exposition           0.023564          0.072471      -0.077774   \n",
       "meter_price               0.018420          0.192581      -0.108872   \n",
       "weekday                  -0.005030          0.001970      -0.003596   \n",
       "month                     0.018809         -0.007834       0.012507   \n",
       "year                     -0.020571         -0.038003       0.038147   \n",
       "city_center_km           -0.042607         -0.073025       0.028067   \n",
       "\n",
       "                     days_exposition  meter_price   weekday     month  \\\n",
       "total_images               -0.028122     0.133888 -0.010837  0.005019   \n",
       "last_price                  0.121746     0.718470 -0.003049  0.009130   \n",
       "total_area                  0.150861     0.246650 -0.005647  0.009611   \n",
       "rooms                       0.122377     0.013586 -0.004420 -0.001080   \n",
       "ceiling_height              0.106262     0.330323 -0.018197  0.002528   \n",
       "floors_total               -0.050747     0.185418  0.013076  0.015863   \n",
       "living_area                 0.142243     0.170377 -0.004391  0.004773   \n",
       "floor                      -0.038607     0.152833  0.012005  0.019183   \n",
       "is_apartment                0.016451     0.043115 -0.009317  0.002205   \n",
       "studio                     -0.022412     0.019932 -0.000855  0.000921   \n",
       "open_plan                  -0.024098     0.010756  0.011057  0.025776   \n",
       "kitchen_area                0.110759     0.358442 -0.007531  0.006774   \n",
       "balcony                    -0.027252     0.027011 -0.000917  0.009368   \n",
       "airports_nearest           -0.017535    -0.042333  0.001300  0.006163   \n",
       "cityCenters_nearest        -0.058358    -0.362018  0.008956 -0.010180   \n",
       "parks_around3000            0.058494     0.190677 -0.010429 -0.003222   \n",
       "parks_nearest               0.023564     0.018420 -0.005030  0.018809   \n",
       "ponds_around3000            0.072471     0.192581  0.001970 -0.007834   \n",
       "ponds_nearest              -0.077774    -0.108872 -0.003596  0.012507   \n",
       "days_exposition             1.000000     0.046645 -0.025296 -0.028302   \n",
       "meter_price                 0.046645     1.000000 -0.009574  0.000973   \n",
       "weekday                    -0.025296    -0.009574  1.000000  0.011582   \n",
       "month                      -0.028302     0.000973  0.011582  1.000000   \n",
       "year                       -0.611266     0.016542 -0.004779 -0.270963   \n",
       "city_center_km             -0.058340    -0.362793  0.008758 -0.010282   \n",
       "\n",
       "                         year  city_center_km  \n",
       "total_images         0.140967       -0.045387  \n",
       "last_price          -0.055018       -0.300618  \n",
       "total_area          -0.082230       -0.232469  \n",
       "rooms               -0.053765       -0.178652  \n",
       "ceiling_height      -0.062787       -0.340191  \n",
       "floors_total         0.007163        0.016238  \n",
       "living_area         -0.072440       -0.226868  \n",
       "floor                0.004484        0.007648  \n",
       "is_apartment         0.008922        0.004257  \n",
       "studio               0.011914       -0.007746  \n",
       "open_plan           -0.021204       -0.003975  \n",
       "kitchen_area        -0.059497       -0.188546  \n",
       "balcony              0.004023        0.064668  \n",
       "airports_nearest     0.008810        0.272529  \n",
       "cityCenters_nearest  0.031374        0.999451  \n",
       "parks_around3000    -0.037378       -0.159201  \n",
       "parks_nearest       -0.020571       -0.042607  \n",
       "ponds_around3000    -0.038003       -0.073025  \n",
       "ponds_nearest        0.038147        0.028067  \n",
       "days_exposition     -0.611266       -0.058340  \n",
       "meter_price          0.016542       -0.362793  \n",
       "weekday             -0.004779        0.008758  \n",
       "month               -0.270963       -0.010282  \n",
       "year                 1.000000        0.031539  \n",
       "city_center_km       0.031539        1.000000  \n",
       "\n",
       "[25 rows x 25 columns]"
      ]
     },
     "execution_count": 693,
     "metadata": {},
     "output_type": "execute_result"
    }
   ],
   "source": [
    "# Посмотрим на корреляцию между величинами.\n",
    "\n",
    "df.corr()"
   ]
  },
  {
   "cell_type": "code",
   "execution_count": 694,
   "metadata": {
    "scrolled": true
   },
   "outputs": [
    {
     "data": {
      "image/png": "[encoded data removed]",
      "text/plain": [
       "<Figure size 432x288 with 1 Axes>"
      ]
     },
     "metadata": {
      "needs_background": "light"
     },
     "output_type": "display_data"
    }
   ],
   "source": [
    "# Зависимость цены от общей площади.\n",
    "\n",
    "df.pivot_table(index='total_area', \n",
    "               values='last_price').plot(style='o', alpha=0.5, \n",
    "                                         logy=True, \n",
    "                                         title='Зависимость цены от общей площади');\n",
    "plt.xlabel('общая площадь')\n",
    "plt.ylabel('цена');"
   ]
  },
  {
   "cell_type": "markdown",
   "metadata": {},
   "source": [
    "Высокая положительная корреляция (0.77) между общей площадью и ценой. После значения примерно 200 кв. м. связь пропадает."
   ]
  },
  {
   "cell_type": "code",
   "execution_count": 695,
   "metadata": {},
   "outputs": [
    {
     "data": {
      "image/png": "[encoded data removed]",
      "text/plain": [
       "<Figure size 432x288 with 1 Axes>"
      ]
     },
     "metadata": {
      "needs_background": "light"
     },
     "output_type": "display_data"
    }
   ],
   "source": [
    "# Зависимость цены от жилой площади.\n",
    "\n",
    "df.pivot_table(index='living_area', \n",
    "               values='last_price').plot(style='o', alpha=0.5, \n",
    "                                         logy=True, title='Зависимость цены от жилой площади')\n",
    "plt.xlabel('жилая площадь')\n",
    "plt.ylabel('цена');"
   ]
  },
  {
   "cell_type": "markdown",
   "metadata": {},
   "source": [
    "Средняя положительная корреляция (0.69) между жилой площадью и ценой."
   ]
  },
  {
   "cell_type": "code",
   "execution_count": 696,
   "metadata": {},
   "outputs": [
    {
     "data": {
      "image/png": "[encoded data removed]",
      "text/plain": [
       "<Figure size 432x288 with 1 Axes>"
      ]
     },
     "metadata": {
      "needs_background": "light"
     },
     "output_type": "display_data"
    }
   ],
   "source": [
    "# Зависимость цены от площади кухни.\n",
    "\n",
    "df.pivot_table(index='kitchen_area', \n",
    "               values='last_price').plot(style='o', alpha=0.5, \n",
    "                                         logy=True, title='Зависимость цены от площади кухни');\n",
    "plt.xlabel('площадь кухни')\n",
    "plt.ylabel('цена');"
   ]
  },
  {
   "cell_type": "markdown",
   "metadata": {},
   "source": [
    "Средняя положительная корреляция (0.61) между площадью кухни и ценой."
   ]
  },
  {
   "cell_type": "code",
   "execution_count": 697,
   "metadata": {},
   "outputs": [
    {
     "data": {
      "image/png": "[encoded data removed]",
      "text/plain": [
       "<Figure size 432x288 with 1 Axes>"
      ]
     },
     "metadata": {
      "needs_background": "light"
     },
     "output_type": "display_data"
    }
   ],
   "source": [
    "# Зависимость цены от количества комнат.\n",
    "\n",
    "df.pivot_table(index='rooms', \n",
    "               values='last_price').plot(kind='bar', \n",
    "                                         title='Зависимость цены от количества комнат')\n",
    "plt.xlabel('кол-во комнат')\n",
    "plt.ylabel('цена');"
   ]
  },
  {
   "cell_type": "markdown",
   "metadata": {},
   "source": [
    "Умеренная положительная корреляция (0.46) между количеством комнат и ценой."
   ]
  },
  {
   "cell_type": "code",
   "execution_count": 698,
   "metadata": {},
   "outputs": [
    {
     "data": {
      "image/png": "[encoded data removed]",
      "text/plain": [
       "<Figure size 432x288 with 1 Axes>"
      ]
     },
     "metadata": {
      "needs_background": "light"
     },
     "output_type": "display_data"
    }
   ],
   "source": [
    "# Зависимость цены от этажа.\n",
    "\n",
    "df.pivot_table(index='floors_category', \n",
    "               values='last_price').plot(kind='bar', \n",
    "                                         logy=True, title='Зависимость цены от этажа')\n",
    "plt.xlabel('категория этажа')\n",
    "plt.ylabel('цена');"
   ]
  },
  {
   "cell_type": "markdown",
   "metadata": {},
   "source": [
    "Цены на первом этаже меньше, чем на других этажах. На последнем и других этажах - выше. Хотя самые востребованные квартиры - не на первом и не на последнем этаже, на последних этажах часто расположены элитные лофты и пентхаусы, поэтому цена на последнем этаже также высокая."
   ]
  },
  {
   "cell_type": "code",
   "execution_count": 699,
   "metadata": {},
   "outputs": [
    {
     "data": {
      "image/png": "[encoded data removed]",
      "text/plain": [
       "<Figure size 432x288 with 1 Axes>"
      ]
     },
     "metadata": {
      "needs_background": "light"
     },
     "output_type": "display_data"
    }
   ],
   "source": [
    "# Зависимость цены от дня недели.\n",
    "\n",
    "df.pivot_table(index='weekday', \n",
    "               values='last_price').plot(kind='bar', \n",
    "                                         title='Зависимость цены от дня недели')\n",
    "plt.xlabel('день недели')\n",
    "plt.ylabel('цена');"
   ]
  },
  {
   "cell_type": "markdown",
   "metadata": {},
   "source": [
    "Нулевая связь между днем публикации объявления и ценой."
   ]
  },
  {
   "cell_type": "code",
   "execution_count": 700,
   "metadata": {},
   "outputs": [
    {
     "data": {
      "image/png": "[encoded data removed]",
      "text/plain": [
       "<Figure size 432x288 with 1 Axes>"
      ]
     },
     "metadata": {
      "needs_background": "light"
     },
     "output_type": "display_data"
    }
   ],
   "source": [
    "# Зависимость цены от месяца.\n",
    "\n",
    "df.pivot_table(index='month', \n",
    "               values='last_price').plot(kind='bar', \n",
    "                                         title='Зависимость цены от месяца')\n",
    "plt.xlabel('месяц')\n",
    "plt.ylabel('цена');"
   ]
  },
  {
   "cell_type": "markdown",
   "metadata": {},
   "source": [
    "Практически нулевая связь между месяцем публикации объявления и ценой."
   ]
  },
  {
   "cell_type": "code",
   "execution_count": 701,
   "metadata": {
    "scrolled": true
   },
   "outputs": [
    {
     "data": {
      "image/png": "[encoded data removed]",
      "text/plain": [
       "<Figure size 432x288 with 1 Axes>"
      ]
     },
     "metadata": {
      "needs_background": "light"
     },
     "output_type": "display_data"
    }
   ],
   "source": [
    "# Зависимость цены от года.\n",
    "\n",
    "df.pivot_table(index='year', \n",
    "               values='last_price').plot(style='o-', \n",
    "                                         title='Зависимость цены от года')\n",
    "plt.xlabel('год')\n",
    "plt.ylabel('цена');"
   ]
  },
  {
   "cell_type": "code",
   "execution_count": 702,
   "metadata": {},
   "outputs": [
    {
     "data": {
      "image/png": "[encoded data removed]",
      "text/plain": [
       "<Figure size 432x288 with 1 Axes>"
      ]
     },
     "metadata": {
      "needs_background": "light"
     },
     "output_type": "display_data"
    }
   ],
   "source": [
    "# Зависимость площиади от года.\n",
    "\n",
    "df.pivot_table(index='year',\n",
    "               values='total_area').plot(style='o-', \n",
    "                                         title='Зависимость площади от года')\n",
    "plt.xlabel('год')\n",
    "plt.ylabel('площадь');"
   ]
  },
  {
   "cell_type": "code",
   "execution_count": 703,
   "metadata": {},
   "outputs": [
    {
     "data": {
      "image/png": "[encoded data removed]",
      "text/plain": [
       "<Figure size 432x288 with 1 Axes>"
      ]
     },
     "metadata": {
      "needs_background": "light"
     },
     "output_type": "display_data"
    }
   ],
   "source": [
    "# Зависимость цены за кв. метр от года.\n",
    "\n",
    "df.pivot_table(index='year',\n",
    "               values='meter_price').plot(style='o-', \n",
    "                                         title='Зависимость метра от года')\n",
    "plt.xlabel('год')\n",
    "plt.ylabel('цена за метр');"
   ]
  },
  {
   "cell_type": "markdown",
   "metadata": {},
   "source": [
    "В 2014 году цены на квартиры были выше, потом пошла тенденция на снижение как цен, так и площадей продаваемых квартир."
   ]
  },
  {
   "cell_type": "markdown",
   "metadata": {},
   "source": [
    "### Считаем среднюю цену квадратного метра"
   ]
  },
  {
   "cell_type": "code",
   "execution_count": 704,
   "metadata": {
    "scrolled": false
   },
   "outputs": [
    {
     "data": {
      "text/plain": [
       "Санкт-Петербург      15644\n",
       "поселок Мурино         556\n",
       "поселок Шушары         440\n",
       "Всеволожск             397\n",
       "Пушкин                 369\n",
       "Колпино                337\n",
       "поселок Парголово      327\n",
       "Гатчина                307\n",
       "деревня Кудрово        299\n",
       "Выборг                 235\n",
       "Name: locality_name, dtype: int64"
      ]
     },
     "execution_count": 704,
     "metadata": {},
     "output_type": "execute_result"
    }
   ],
   "source": [
    "# Посмотрим на населенные пункты с наибольшим числом объявлений.\n",
    "\n",
    "top_10_locations = df['locality_name'].value_counts().head(10)\n",
    "top_10_locations"
   ]
  },
  {
   "cell_type": "code",
   "execution_count": 705,
   "metadata": {},
   "outputs": [
    {
     "data": {
      "text/plain": [
       "locality_name\n",
       "Санкт-Петербург      104700.854701\n",
       "Пушкин               100000.000000\n",
       "деревня Кудрово       91860.465116\n",
       "поселок Парголово     91642.857143\n",
       "поселок Мурино        85878.462169\n",
       "поселок Шушары        76876.172608\n",
       "Колпино               74722.222222\n",
       "Гатчина               67796.610169\n",
       "Всеволожск            65789.473684\n",
       "Выборг                58307.692308\n",
       "Name: meter_price, dtype: float64"
      ]
     },
     "execution_count": 705,
     "metadata": {},
     "output_type": "execute_result"
    }
   ],
   "source": [
    "# Рассчитаем среднюю цену одного квадратного метра\n",
    "\n",
    "(df.query('locality_name in @top_10_locations.index')\n",
    " .groupby('locality_name')['meter_price'].median().sort_values(ascending=False))"
   ]
  },
  {
   "cell_type": "markdown",
   "metadata": {},
   "source": [
    "Самые дорогие квартиры - в Санкт-Петербурге (105 тыс. рублей за кв. м.), а самые дешевые - в Выборге (58 тыс. рублей за кв. м.)"
   ]
  },
  {
   "cell_type": "markdown",
   "metadata": {},
   "source": [
    "### Считаем стоимость километра в Санкт-Петербурге"
   ]
  },
  {
   "cell_type": "code",
   "execution_count": 706,
   "metadata": {},
   "outputs": [
    {
     "data": {
      "text/plain": [
       "8151857.657635747"
      ]
     },
     "execution_count": 706,
     "metadata": {},
     "output_type": "execute_result"
    }
   ],
   "source": [
    "# Отфильтруем объекты в Петербурге и посчитаем среднее значение километра.\n",
    "\n",
    "(df.query('locality_name == \"Санкт-Петербург\"')\n",
    " .groupby('city_center_km')['last_price'].mean().mean())"
   ]
  },
  {
   "cell_type": "markdown",
   "metadata": {},
   "source": [
    "Средняя цена километра в Санкт-Петербурге - 8 151 858 рублей."
   ]
  },
  {
   "cell_type": "code",
   "execution_count": 707,
   "metadata": {
    "scrolled": true
   },
   "outputs": [
    {
     "data": {
      "image/png": "[encoded data removed]",
      "text/plain": [
       "<Figure size 432x288 with 1 Axes>"
      ]
     },
     "metadata": {
      "needs_background": "light"
     },
     "output_type": "display_data"
    }
   ],
   "source": [
    "# Посмотрим на зависимость цены от километра в Петербурге.\n",
    "\n",
    "(df.query('locality_name == \"Санкт-Петербург\"')\n",
    " .pivot_table(index='city_center_km', values='last_price')\n",
    " .plot(style='o-', title = 'Зависимость цены от километра в Петербурге', grid = True))\n",
    "plt.xlabel('километров до центра')\n",
    "plt.ylabel('цена');\n",
    "plt.show()"
   ]
  },
  {
   "cell_type": "markdown",
   "metadata": {},
   "source": [
    "Отрицательная зависимость. Чем дальше от центра, тем дешевле объект."
   ]
  },
  {
   "cell_type": "markdown",
   "metadata": {
    "id": "Oyf8l0_F-h8j"
   },
   "source": [
    "## Общий вывод"
   ]
  },
  {
   "cell_type": "markdown",
   "metadata": {},
   "source": [
    "В ходе исследования мы проанализировали объявления о продаже квартир в Санкт-Петербурге и соседних населённых пунктов за несколько лет. \n",
    "\n",
    "Обработали пропущенные значения, дубликаты и аномалии.\n",
    "\n",
    "Привели значения в столбцах в нужный формат.\n",
    "\n",
    "Подробно изучили параметры объектов.\n",
    "\n",
    "Провели проверку скорости продажи квартир.\n",
    "\n",
    "Посмотрели, какие факторы влияют на стоимость объекта.\n",
    "\n",
    "Нашли самые популярные населенные пункты, а также стоимость квадратного метра в каждом из них."
   ]
  },
  {
   "cell_type": "markdown",
   "metadata": {
    "id": "CtuleP_c-h8j"
   },
   "source": [
    "### Изучили параметры объектов"
   ]
  },
  {
   "cell_type": "markdown",
   "metadata": {},
   "source": [
    "Изучили параметры объектов и установили следующие инсайты.\n",
    "- Наиболее популярная общая площадь – 40-50 кв. м. Такой площадью могут быть и однокомнатные, и двухкомнатные квартиры. Популярные жилые площади – 20 и 30 кв. м., что соответствует однокомнатным и двухкомнатным квартирам. Практически все кухни – от 5 до 15 кв. м.\n",
    "- Подавляющее большинство объектов – стоимостью от 1 млн до 10 млн.\n",
    "- Однокомнатные и двухкомнатные квартиры одинаково популярны, дальше – чем больше комнат, тем меньше объявлений.\n",
    "- Самые распространенные полотки – 2.7 м.\n",
    "- Чем выше этаж, тем меньше объявлений, а самые популярные квартиры – не на первом и не на последнем этаже. Больше всего квартир продается в пятиэтажках и девятиэтажках.\n",
    "- Квартир в спальных районах (12–15 км до центра города) продается больше, чем в центре (5 км). В основном квартиры расположены от 10 км до 40 км от аэропорта. Ближайший парк расположен в 500 метрах, редко – в 1 км.\n",
    "- В выходной день публикуется в два раза меньше объявлений, чем в будний день. Больше всего объявлений публикуется с февраля по апрель, а также в сентябре – ноябре. Меньше всего – в мае. Люди чаще продают квартиры после январских праздников, а также осенью (после летних отпусков).\n"
   ]
  },
  {
   "cell_type": "markdown",
   "metadata": {},
   "source": [
    "### Изучили скорость продаж"
   ]
  },
  {
   "cell_type": "markdown",
   "metadata": {},
   "source": [
    "Изучили, как быстро продавались квартиры. Этот параметр показывает, сколько дней было размещено каждое объявление.\n",
    "\n",
    "\n",
    "В среднем квартиры продавались около 95 дней. При этом существуют объекты, которые продавались аномально долго (есть значения более 4 лет).\n",
    "Квартиры чаще всего продаются со сроком до 40 дней. Быстрыми можем считать продажи, совершенные за неделю. Слишком долгие - от 510 дней.\n"
   ]
  },
  {
   "cell_type": "markdown",
   "metadata": {},
   "source": [
    "### Нашли самые популярные населенные пункты"
   ]
  },
  {
   "cell_type": "markdown",
   "metadata": {},
   "source": [
    "Самые популярные населенные пункты (по количеству объявлений):\n",
    "- Санкт-Петербург\n",
    "- Поселок Мурино\n",
    "- Поселок Шушары\n",
    "- Всеволожск\n",
    "- Пушкин\n",
    "- Колпино\n",
    "- Поселок Парголово\n",
    "- Гатчина\n",
    "- Деревня Кудрово\n",
    "- Выборг\n",
    "\n",
    "Самые дорогие квартиры – в Санкт-Петербурге (105 тыс. рублей за кв. м.), а самые дешевые – в Выборге (58 тыс. рублей за кв. м.)\n"
   ]
  },
  {
   "cell_type": "markdown",
   "metadata": {},
   "source": [
    "### Нашли зависимость между стоимостью объекта и расстояния до центра города"
   ]
  },
  {
   "cell_type": "markdown",
   "metadata": {},
   "source": [
    "Определили, что между стоимостью объекта и расстояния до центра города существует отрицательная зависимость. Чем дальше от центра, тем дешевле объект. \n",
    "\n",
    "Средняя цена километра в Санкт-Петербурге - 8 151 858 рублей."
   ]
  },
  {
   "cell_type": "markdown",
   "metadata": {},
   "source": [
    "### Определили, что влияет на стоимость объекта"
   ]
  },
  {
   "cell_type": "markdown",
   "metadata": {},
   "source": [
    "Определили, какие факторы больше всего влияют на стоимость объекта. Проверили 6 предположений:\n",
    "1. Цена зависит от общей площади.\n",
    "2. Цена зависит от жилой площади.\n",
    "3. Цена зависит от площади кухни.\n",
    "4. Цена зависит от количества комнат.\n",
    "5. Цена зависит от этажа, на котором расположена квартира.\n",
    "6. Цена зависит от даты размещения."
   ]
  },
  {
   "cell_type": "markdown",
   "metadata": {},
   "source": [
    "1) Предположение 1 подтвердилось: существует высокая положительная корреляция (0.77) между общей площадью и ценой. Чем больше площадь, тем больше цена. На слишком больших объектах (примерно после 200 кв. м.) связь пропадает.\n",
    "\n",
    "2) Предположение 2 подтвердилось: существует средняя положительная корреляция (0.69) между жилой площадью и ценой.\n",
    "\n",
    "3) Предположение 3 подтвердилось: существует средняя положительная корреляция (0.61) между площадью кухни и ценой.\n",
    "\n",
    "4) Предположение 4 подтвердилось: существует умеренная положительная корреляция (0.46) между количеством комнат и ценой.\n",
    "\n",
    "5) Предположение 5 частично подтвердилось: объекты на 1 этаже стоят дешевле. Хотя самые востребованные квартиры – не на первом и не на последнем этаже, на последних этажах часто расположены элитные лофты и пентхаусы, поэтому цена на последнем этаже также высокая.\n",
    "\n",
    "6) Предположение 6 не подтвердилось: нет связи между днем недели, месяцем публикации объявления и ценой.\n"
   ]
  }
 ],
 "metadata": {
  "ExecuteTimeLog": [
   {
    "duration": 613,
    "start_time": "2022-08-31T11:40:51.800Z"
   },
   {
    "duration": 12,
    "start_time": "2022-08-31T11:40:52.415Z"
   },
   {
    "duration": 14,
    "start_time": "2022-08-31T11:40:52.429Z"
   },
   {
    "duration": 8,
    "start_time": "2022-08-31T11:40:52.445Z"
   },
   {
    "duration": 396,
    "start_time": "2022-08-31T11:40:52.454Z"
   },
   {
    "duration": 0,
    "start_time": "2022-08-31T11:40:52.854Z"
   },
   {
    "duration": 0,
    "start_time": "2022-08-31T11:40:52.855Z"
   },
   {
    "duration": 0,
    "start_time": "2022-08-31T11:40:52.867Z"
   },
   {
    "duration": 0,
    "start_time": "2022-08-31T11:40:52.868Z"
   },
   {
    "duration": 0,
    "start_time": "2022-08-31T11:40:52.870Z"
   },
   {
    "duration": 0,
    "start_time": "2022-08-31T11:40:52.871Z"
   },
   {
    "duration": 0,
    "start_time": "2022-08-31T11:40:52.872Z"
   },
   {
    "duration": 0,
    "start_time": "2022-08-31T11:40:52.873Z"
   },
   {
    "duration": 0,
    "start_time": "2022-08-31T11:40:52.874Z"
   },
   {
    "duration": 0,
    "start_time": "2022-08-31T11:40:52.875Z"
   },
   {
    "duration": 0,
    "start_time": "2022-08-31T11:40:52.876Z"
   },
   {
    "duration": 0,
    "start_time": "2022-08-31T11:40:52.877Z"
   },
   {
    "duration": 0,
    "start_time": "2022-08-31T11:40:52.879Z"
   },
   {
    "duration": 0,
    "start_time": "2022-08-31T11:40:52.880Z"
   },
   {
    "duration": 0,
    "start_time": "2022-08-31T11:40:52.881Z"
   },
   {
    "duration": 0,
    "start_time": "2022-08-31T11:40:52.882Z"
   },
   {
    "duration": 0,
    "start_time": "2022-08-31T11:40:52.883Z"
   },
   {
    "duration": 0,
    "start_time": "2022-08-31T11:40:52.884Z"
   },
   {
    "duration": 0,
    "start_time": "2022-08-31T11:40:52.885Z"
   },
   {
    "duration": 0,
    "start_time": "2022-08-31T11:40:52.886Z"
   },
   {
    "duration": 0,
    "start_time": "2022-08-31T11:40:52.887Z"
   },
   {
    "duration": 0,
    "start_time": "2022-08-31T11:40:52.888Z"
   },
   {
    "duration": 0,
    "start_time": "2022-08-31T11:40:52.889Z"
   },
   {
    "duration": 0,
    "start_time": "2022-08-31T11:40:52.890Z"
   },
   {
    "duration": 0,
    "start_time": "2022-08-31T11:40:52.891Z"
   },
   {
    "duration": 0,
    "start_time": "2022-08-31T11:40:52.892Z"
   },
   {
    "duration": 0,
    "start_time": "2022-08-31T11:40:52.893Z"
   },
   {
    "duration": 0,
    "start_time": "2022-08-31T11:40:52.894Z"
   },
   {
    "duration": 0,
    "start_time": "2022-08-31T11:40:52.895Z"
   },
   {
    "duration": 0,
    "start_time": "2022-08-31T11:40:52.897Z"
   },
   {
    "duration": 0,
    "start_time": "2022-08-31T11:40:52.898Z"
   },
   {
    "duration": 0,
    "start_time": "2022-08-31T11:40:52.899Z"
   },
   {
    "duration": 0,
    "start_time": "2022-08-31T11:40:52.900Z"
   },
   {
    "duration": 0,
    "start_time": "2022-08-31T11:40:52.901Z"
   },
   {
    "duration": 0,
    "start_time": "2022-08-31T11:40:52.902Z"
   },
   {
    "duration": 0,
    "start_time": "2022-08-31T11:40:52.903Z"
   },
   {
    "duration": 0,
    "start_time": "2022-08-31T11:40:52.904Z"
   },
   {
    "duration": 0,
    "start_time": "2022-08-31T11:40:52.967Z"
   },
   {
    "duration": 0,
    "start_time": "2022-08-31T11:40:52.969Z"
   },
   {
    "duration": 0,
    "start_time": "2022-08-31T11:40:52.970Z"
   },
   {
    "duration": 0,
    "start_time": "2022-08-31T11:40:52.971Z"
   },
   {
    "duration": 0,
    "start_time": "2022-08-31T11:40:52.972Z"
   },
   {
    "duration": 0,
    "start_time": "2022-08-31T11:40:52.973Z"
   },
   {
    "duration": 0,
    "start_time": "2022-08-31T11:40:52.974Z"
   },
   {
    "duration": 0,
    "start_time": "2022-08-31T11:40:52.975Z"
   },
   {
    "duration": 0,
    "start_time": "2022-08-31T11:40:52.976Z"
   },
   {
    "duration": 0,
    "start_time": "2022-08-31T11:40:52.977Z"
   },
   {
    "duration": 0,
    "start_time": "2022-08-31T11:40:52.978Z"
   },
   {
    "duration": 0,
    "start_time": "2022-08-31T11:40:52.979Z"
   },
   {
    "duration": 0,
    "start_time": "2022-08-31T11:40:52.981Z"
   },
   {
    "duration": 0,
    "start_time": "2022-08-31T11:40:52.982Z"
   },
   {
    "duration": 0,
    "start_time": "2022-08-31T11:40:52.983Z"
   },
   {
    "duration": 0,
    "start_time": "2022-08-31T11:40:52.984Z"
   },
   {
    "duration": 0,
    "start_time": "2022-08-31T11:40:52.985Z"
   },
   {
    "duration": 0,
    "start_time": "2022-08-31T11:40:52.986Z"
   },
   {
    "duration": 0,
    "start_time": "2022-08-31T11:40:52.987Z"
   },
   {
    "duration": 0,
    "start_time": "2022-08-31T11:40:52.989Z"
   },
   {
    "duration": 0,
    "start_time": "2022-08-31T11:40:52.990Z"
   },
   {
    "duration": 0,
    "start_time": "2022-08-31T11:40:52.991Z"
   },
   {
    "duration": 0,
    "start_time": "2022-08-31T11:40:52.992Z"
   },
   {
    "duration": 0,
    "start_time": "2022-08-31T11:40:52.993Z"
   },
   {
    "duration": 0,
    "start_time": "2022-08-31T11:40:52.994Z"
   },
   {
    "duration": 0,
    "start_time": "2022-08-31T11:40:52.995Z"
   },
   {
    "duration": 0,
    "start_time": "2022-08-31T11:40:52.996Z"
   },
   {
    "duration": 0,
    "start_time": "2022-08-31T11:40:52.998Z"
   },
   {
    "duration": 0,
    "start_time": "2022-08-31T11:40:52.998Z"
   },
   {
    "duration": 0,
    "start_time": "2022-08-31T11:40:52.999Z"
   },
   {
    "duration": 0,
    "start_time": "2022-08-31T11:40:53.001Z"
   },
   {
    "duration": 0,
    "start_time": "2022-08-31T11:40:53.002Z"
   },
   {
    "duration": 0,
    "start_time": "2022-08-31T11:40:53.003Z"
   },
   {
    "duration": 0,
    "start_time": "2022-08-31T11:40:53.067Z"
   },
   {
    "duration": 0,
    "start_time": "2022-08-31T11:40:53.069Z"
   },
   {
    "duration": 0,
    "start_time": "2022-08-31T11:40:53.071Z"
   },
   {
    "duration": 0,
    "start_time": "2022-08-31T11:40:53.073Z"
   },
   {
    "duration": 0,
    "start_time": "2022-08-31T11:40:53.074Z"
   },
   {
    "duration": 0,
    "start_time": "2022-08-31T11:40:53.075Z"
   },
   {
    "duration": 0,
    "start_time": "2022-08-31T11:40:53.076Z"
   },
   {
    "duration": 0,
    "start_time": "2022-08-31T11:40:53.078Z"
   },
   {
    "duration": 0,
    "start_time": "2022-08-31T11:40:53.079Z"
   },
   {
    "duration": 0,
    "start_time": "2022-08-31T11:40:53.080Z"
   },
   {
    "duration": 0,
    "start_time": "2022-08-31T11:40:53.082Z"
   },
   {
    "duration": 88,
    "start_time": "2022-08-31T11:41:11.004Z"
   },
   {
    "duration": 237,
    "start_time": "2022-08-31T11:41:13.606Z"
   },
   {
    "duration": 27,
    "start_time": "2022-08-31T11:41:15.736Z"
   },
   {
    "duration": 577,
    "start_time": "2022-08-31T11:41:20.370Z"
   },
   {
    "duration": 32,
    "start_time": "2022-08-31T11:41:20.949Z"
   },
   {
    "duration": 19,
    "start_time": "2022-08-31T11:41:20.982Z"
   },
   {
    "duration": 5,
    "start_time": "2022-08-31T11:41:21.002Z"
   },
   {
    "duration": 2333,
    "start_time": "2022-08-31T11:41:21.008Z"
   },
   {
    "duration": 8,
    "start_time": "2022-08-31T11:41:23.343Z"
   },
   {
    "duration": 7,
    "start_time": "2022-08-31T11:41:23.353Z"
   },
   {
    "duration": 7,
    "start_time": "2022-08-31T11:41:23.361Z"
   },
   {
    "duration": 8,
    "start_time": "2022-08-31T11:41:23.370Z"
   },
   {
    "duration": 7,
    "start_time": "2022-08-31T11:41:23.381Z"
   },
   {
    "duration": 5,
    "start_time": "2022-08-31T11:41:23.390Z"
   },
   {
    "duration": 6,
    "start_time": "2022-08-31T11:41:23.397Z"
   },
   {
    "duration": 19,
    "start_time": "2022-08-31T11:41:23.405Z"
   },
   {
    "duration": 5,
    "start_time": "2022-08-31T11:41:23.425Z"
   },
   {
    "duration": 9,
    "start_time": "2022-08-31T11:41:23.432Z"
   },
   {
    "duration": 4,
    "start_time": "2022-08-31T11:41:23.468Z"
   },
   {
    "duration": 13,
    "start_time": "2022-08-31T11:41:23.474Z"
   },
   {
    "duration": 13,
    "start_time": "2022-08-31T11:41:23.488Z"
   },
   {
    "duration": 8,
    "start_time": "2022-08-31T11:41:23.503Z"
   },
   {
    "duration": 8,
    "start_time": "2022-08-31T11:41:23.512Z"
   },
   {
    "duration": 7,
    "start_time": "2022-08-31T11:41:23.522Z"
   },
   {
    "duration": 6,
    "start_time": "2022-08-31T11:41:23.530Z"
   },
   {
    "duration": 5,
    "start_time": "2022-08-31T11:41:23.568Z"
   },
   {
    "duration": 12,
    "start_time": "2022-08-31T11:41:23.575Z"
   },
   {
    "duration": 5,
    "start_time": "2022-08-31T11:41:23.589Z"
   },
   {
    "duration": 106,
    "start_time": "2022-08-31T11:41:23.596Z"
   },
   {
    "duration": 75,
    "start_time": "2022-08-31T11:41:23.704Z"
   },
   {
    "duration": 30,
    "start_time": "2022-08-31T11:41:23.784Z"
   },
   {
    "duration": 144,
    "start_time": "2022-08-31T11:41:23.816Z"
   },
   {
    "duration": 8,
    "start_time": "2022-08-31T11:41:23.967Z"
   },
   {
    "duration": 13,
    "start_time": "2022-08-31T11:41:23.977Z"
   },
   {
    "duration": 4,
    "start_time": "2022-08-31T11:41:23.991Z"
   },
   {
    "duration": 10,
    "start_time": "2022-08-31T11:41:23.996Z"
   },
   {
    "duration": 4,
    "start_time": "2022-08-31T11:41:24.008Z"
   },
   {
    "duration": 10,
    "start_time": "2022-08-31T11:41:24.013Z"
   },
   {
    "duration": 133,
    "start_time": "2022-08-31T11:41:24.024Z"
   },
   {
    "duration": 14,
    "start_time": "2022-08-31T11:41:24.159Z"
   },
   {
    "duration": 11,
    "start_time": "2022-08-31T11:41:24.174Z"
   },
   {
    "duration": 6,
    "start_time": "2022-08-31T11:41:24.187Z"
   },
   {
    "duration": 131,
    "start_time": "2022-08-31T11:41:24.195Z"
   },
   {
    "duration": 10,
    "start_time": "2022-08-31T11:41:24.327Z"
   },
   {
    "duration": 9,
    "start_time": "2022-08-31T11:41:24.338Z"
   },
   {
    "duration": 128,
    "start_time": "2022-08-31T11:41:24.348Z"
   },
   {
    "duration": 5,
    "start_time": "2022-08-31T11:41:24.478Z"
   },
   {
    "duration": 10,
    "start_time": "2022-08-31T11:41:24.486Z"
   },
   {
    "duration": 3,
    "start_time": "2022-08-31T11:41:24.498Z"
   },
   {
    "duration": 7,
    "start_time": "2022-08-31T11:41:24.503Z"
   },
   {
    "duration": 5,
    "start_time": "2022-08-31T11:41:24.512Z"
   },
   {
    "duration": 8,
    "start_time": "2022-08-31T11:41:24.519Z"
   },
   {
    "duration": 404,
    "start_time": "2022-08-31T11:41:24.528Z"
   },
   {
    "duration": 5,
    "start_time": "2022-08-31T11:41:24.933Z"
   },
   {
    "duration": 7,
    "start_time": "2022-08-31T11:41:24.940Z"
   },
   {
    "duration": 35,
    "start_time": "2022-08-31T11:41:24.948Z"
   },
   {
    "duration": 16,
    "start_time": "2022-08-31T11:41:24.985Z"
   },
   {
    "duration": 376,
    "start_time": "2022-08-31T11:41:25.002Z"
   },
   {
    "duration": 265,
    "start_time": "2022-08-31T11:41:25.379Z"
   },
   {
    "duration": 210,
    "start_time": "2022-08-31T11:41:25.645Z"
   },
   {
    "duration": 559,
    "start_time": "2022-08-31T11:41:25.857Z"
   },
   {
    "duration": 209,
    "start_time": "2022-08-31T11:41:26.417Z"
   },
   {
    "duration": 185,
    "start_time": "2022-08-31T11:41:26.629Z"
   },
   {
    "duration": 162,
    "start_time": "2022-08-31T11:41:26.816Z"
   },
   {
    "duration": 154,
    "start_time": "2022-08-31T11:41:26.980Z"
   },
   {
    "duration": 235,
    "start_time": "2022-08-31T11:41:27.137Z"
   },
   {
    "duration": 278,
    "start_time": "2022-08-31T11:41:27.374Z"
   },
   {
    "duration": 269,
    "start_time": "2022-08-31T11:41:27.653Z"
   },
   {
    "duration": 343,
    "start_time": "2022-08-31T11:41:27.924Z"
   },
   {
    "duration": 147,
    "start_time": "2022-08-31T11:41:28.269Z"
   },
   {
    "duration": 141,
    "start_time": "2022-08-31T11:41:28.417Z"
   },
   {
    "duration": 525,
    "start_time": "2022-08-31T11:41:28.567Z"
   },
   {
    "duration": 136,
    "start_time": "2022-08-31T11:41:29.094Z"
   },
   {
    "duration": 8,
    "start_time": "2022-08-31T11:41:29.232Z"
   },
   {
    "duration": 10,
    "start_time": "2022-08-31T11:41:29.241Z"
   },
   {
    "duration": 26,
    "start_time": "2022-08-31T11:41:29.253Z"
   },
   {
    "duration": 68,
    "start_time": "2022-08-31T11:41:29.281Z"
   },
   {
    "duration": 330,
    "start_time": "2022-08-31T11:41:29.351Z"
   },
   {
    "duration": 433,
    "start_time": "2022-08-31T11:41:29.682Z"
   },
   {
    "duration": 312,
    "start_time": "2022-08-31T11:41:30.117Z"
   },
   {
    "duration": 175,
    "start_time": "2022-08-31T11:41:30.431Z"
   },
   {
    "duration": 221,
    "start_time": "2022-08-31T11:41:30.609Z"
   },
   {
    "duration": 159,
    "start_time": "2022-08-31T11:41:30.832Z"
   },
   {
    "duration": 191,
    "start_time": "2022-08-31T11:41:30.992Z"
   },
   {
    "duration": 153,
    "start_time": "2022-08-31T11:41:31.190Z"
   },
   {
    "duration": 8,
    "start_time": "2022-08-31T11:41:31.344Z"
   },
   {
    "duration": 31,
    "start_time": "2022-08-31T11:41:31.353Z"
   },
   {
    "duration": 9,
    "start_time": "2022-08-31T11:41:31.386Z"
   },
   {
    "duration": 159,
    "start_time": "2022-08-31T11:41:31.396Z"
   },
   {
    "duration": 13,
    "start_time": "2022-08-31T12:04:35.341Z"
   },
   {
    "duration": 179,
    "start_time": "2022-08-31T12:07:57.308Z"
   },
   {
    "duration": 7,
    "start_time": "2022-08-31T12:08:11.148Z"
   },
   {
    "duration": 106,
    "start_time": "2022-08-31T12:08:15.288Z"
   },
   {
    "duration": 124,
    "start_time": "2022-08-31T12:08:22.558Z"
   },
   {
    "duration": 139,
    "start_time": "2022-08-31T12:08:31.432Z"
   },
   {
    "duration": 126,
    "start_time": "2022-08-31T12:08:34.830Z"
   },
   {
    "duration": 510,
    "start_time": "2022-08-31T12:15:23.771Z"
   },
   {
    "duration": 148,
    "start_time": "2022-08-31T12:17:58.414Z"
   },
   {
    "duration": 151,
    "start_time": "2022-08-31T12:18:09.162Z"
   },
   {
    "duration": 934,
    "start_time": "2022-09-01T12:50:26.897Z"
   },
   {
    "duration": 11,
    "start_time": "2022-09-01T12:50:27.833Z"
   },
   {
    "duration": 13,
    "start_time": "2022-09-01T12:50:27.846Z"
   },
   {
    "duration": 7,
    "start_time": "2022-09-01T12:50:27.861Z"
   },
   {
    "duration": 107,
    "start_time": "2022-09-01T12:50:27.870Z"
   },
   {
    "duration": 0,
    "start_time": "2022-09-01T12:50:27.982Z"
   },
   {
    "duration": 0,
    "start_time": "2022-09-01T12:50:27.983Z"
   },
   {
    "duration": 0,
    "start_time": "2022-09-01T12:50:28.000Z"
   },
   {
    "duration": 0,
    "start_time": "2022-09-01T12:50:28.001Z"
   },
   {
    "duration": 0,
    "start_time": "2022-09-01T12:50:28.004Z"
   },
   {
    "duration": 0,
    "start_time": "2022-09-01T12:50:28.005Z"
   },
   {
    "duration": 0,
    "start_time": "2022-09-01T12:50:28.007Z"
   },
   {
    "duration": 0,
    "start_time": "2022-09-01T12:50:28.009Z"
   },
   {
    "duration": 0,
    "start_time": "2022-09-01T12:50:28.010Z"
   },
   {
    "duration": 0,
    "start_time": "2022-09-01T12:50:28.011Z"
   },
   {
    "duration": 0,
    "start_time": "2022-09-01T12:50:28.012Z"
   },
   {
    "duration": 0,
    "start_time": "2022-09-01T12:50:28.013Z"
   },
   {
    "duration": 0,
    "start_time": "2022-09-01T12:50:28.014Z"
   },
   {
    "duration": 0,
    "start_time": "2022-09-01T12:50:28.015Z"
   },
   {
    "duration": 0,
    "start_time": "2022-09-01T12:50:28.016Z"
   },
   {
    "duration": 0,
    "start_time": "2022-09-01T12:50:28.017Z"
   },
   {
    "duration": 0,
    "start_time": "2022-09-01T12:50:28.018Z"
   },
   {
    "duration": 0,
    "start_time": "2022-09-01T12:50:28.019Z"
   },
   {
    "duration": 0,
    "start_time": "2022-09-01T12:50:28.020Z"
   },
   {
    "duration": 0,
    "start_time": "2022-09-01T12:50:28.021Z"
   },
   {
    "duration": 0,
    "start_time": "2022-09-01T12:50:28.022Z"
   },
   {
    "duration": 0,
    "start_time": "2022-09-01T12:50:28.023Z"
   },
   {
    "duration": 0,
    "start_time": "2022-09-01T12:50:28.024Z"
   },
   {
    "duration": 0,
    "start_time": "2022-09-01T12:50:28.025Z"
   },
   {
    "duration": 0,
    "start_time": "2022-09-01T12:50:28.026Z"
   },
   {
    "duration": 0,
    "start_time": "2022-09-01T12:50:28.027Z"
   },
   {
    "duration": 0,
    "start_time": "2022-09-01T12:50:28.028Z"
   },
   {
    "duration": 0,
    "start_time": "2022-09-01T12:50:28.029Z"
   },
   {
    "duration": 0,
    "start_time": "2022-09-01T12:50:28.030Z"
   },
   {
    "duration": 0,
    "start_time": "2022-09-01T12:50:28.031Z"
   },
   {
    "duration": 0,
    "start_time": "2022-09-01T12:50:28.032Z"
   },
   {
    "duration": 0,
    "start_time": "2022-09-01T12:50:28.033Z"
   },
   {
    "duration": 0,
    "start_time": "2022-09-01T12:50:28.034Z"
   },
   {
    "duration": 0,
    "start_time": "2022-09-01T12:50:28.035Z"
   },
   {
    "duration": 0,
    "start_time": "2022-09-01T12:50:28.036Z"
   },
   {
    "duration": 0,
    "start_time": "2022-09-01T12:50:28.037Z"
   },
   {
    "duration": 0,
    "start_time": "2022-09-01T12:50:28.038Z"
   },
   {
    "duration": 0,
    "start_time": "2022-09-01T12:50:28.039Z"
   },
   {
    "duration": 0,
    "start_time": "2022-09-01T12:50:28.040Z"
   },
   {
    "duration": 0,
    "start_time": "2022-09-01T12:50:28.041Z"
   },
   {
    "duration": 0,
    "start_time": "2022-09-01T12:50:28.042Z"
   },
   {
    "duration": 0,
    "start_time": "2022-09-01T12:50:28.098Z"
   },
   {
    "duration": 0,
    "start_time": "2022-09-01T12:50:28.103Z"
   },
   {
    "duration": 0,
    "start_time": "2022-09-01T12:50:28.104Z"
   },
   {
    "duration": 0,
    "start_time": "2022-09-01T12:50:28.105Z"
   },
   {
    "duration": 0,
    "start_time": "2022-09-01T12:50:28.106Z"
   },
   {
    "duration": 0,
    "start_time": "2022-09-01T12:50:28.107Z"
   },
   {
    "duration": 0,
    "start_time": "2022-09-01T12:50:28.108Z"
   },
   {
    "duration": 0,
    "start_time": "2022-09-01T12:50:28.110Z"
   },
   {
    "duration": 0,
    "start_time": "2022-09-01T12:50:28.111Z"
   },
   {
    "duration": 0,
    "start_time": "2022-09-01T12:50:28.112Z"
   },
   {
    "duration": 0,
    "start_time": "2022-09-01T12:50:28.113Z"
   },
   {
    "duration": 0,
    "start_time": "2022-09-01T12:50:28.114Z"
   },
   {
    "duration": 0,
    "start_time": "2022-09-01T12:50:28.115Z"
   },
   {
    "duration": 0,
    "start_time": "2022-09-01T12:50:28.116Z"
   },
   {
    "duration": 0,
    "start_time": "2022-09-01T12:50:28.117Z"
   },
   {
    "duration": 0,
    "start_time": "2022-09-01T12:50:28.118Z"
   },
   {
    "duration": 0,
    "start_time": "2022-09-01T12:50:28.119Z"
   },
   {
    "duration": 0,
    "start_time": "2022-09-01T12:50:28.120Z"
   },
   {
    "duration": 0,
    "start_time": "2022-09-01T12:50:28.121Z"
   },
   {
    "duration": 0,
    "start_time": "2022-09-01T12:50:28.122Z"
   },
   {
    "duration": 0,
    "start_time": "2022-09-01T12:50:28.123Z"
   },
   {
    "duration": 0,
    "start_time": "2022-09-01T12:50:28.124Z"
   },
   {
    "duration": 0,
    "start_time": "2022-09-01T12:50:28.125Z"
   },
   {
    "duration": 0,
    "start_time": "2022-09-01T12:50:28.126Z"
   },
   {
    "duration": 0,
    "start_time": "2022-09-01T12:50:28.127Z"
   },
   {
    "duration": 0,
    "start_time": "2022-09-01T12:50:28.128Z"
   },
   {
    "duration": 0,
    "start_time": "2022-09-01T12:50:28.129Z"
   },
   {
    "duration": 0,
    "start_time": "2022-09-01T12:50:28.130Z"
   },
   {
    "duration": 0,
    "start_time": "2022-09-01T12:50:28.131Z"
   },
   {
    "duration": 0,
    "start_time": "2022-09-01T12:50:28.132Z"
   },
   {
    "duration": 0,
    "start_time": "2022-09-01T12:50:28.133Z"
   },
   {
    "duration": 0,
    "start_time": "2022-09-01T12:50:28.134Z"
   },
   {
    "duration": 0,
    "start_time": "2022-09-01T12:50:28.134Z"
   },
   {
    "duration": 0,
    "start_time": "2022-09-01T12:50:28.135Z"
   },
   {
    "duration": 0,
    "start_time": "2022-09-01T12:50:28.136Z"
   },
   {
    "duration": 0,
    "start_time": "2022-09-01T12:50:28.137Z"
   },
   {
    "duration": 0,
    "start_time": "2022-09-01T12:50:28.194Z"
   },
   {
    "duration": 0,
    "start_time": "2022-09-01T12:50:28.195Z"
   },
   {
    "duration": 0,
    "start_time": "2022-09-01T12:50:28.196Z"
   },
   {
    "duration": 0,
    "start_time": "2022-09-01T12:50:28.196Z"
   },
   {
    "duration": 0,
    "start_time": "2022-09-01T12:50:28.197Z"
   },
   {
    "duration": 0,
    "start_time": "2022-09-01T12:50:28.198Z"
   },
   {
    "duration": 0,
    "start_time": "2022-09-01T12:50:28.198Z"
   },
   {
    "duration": 0,
    "start_time": "2022-09-01T12:50:28.199Z"
   },
   {
    "duration": 0,
    "start_time": "2022-09-01T12:50:28.200Z"
   },
   {
    "duration": 0,
    "start_time": "2022-09-01T12:50:28.201Z"
   },
   {
    "duration": 0,
    "start_time": "2022-09-01T12:50:28.201Z"
   },
   {
    "duration": 0,
    "start_time": "2022-09-01T12:50:28.202Z"
   },
   {
    "duration": 975,
    "start_time": "2022-09-01T12:53:11.655Z"
   },
   {
    "duration": 10,
    "start_time": "2022-09-01T12:53:12.633Z"
   },
   {
    "duration": 17,
    "start_time": "2022-09-01T12:53:12.645Z"
   },
   {
    "duration": 6,
    "start_time": "2022-09-01T12:53:12.665Z"
   },
   {
    "duration": 133,
    "start_time": "2022-09-01T12:53:12.673Z"
   },
   {
    "duration": 0,
    "start_time": "2022-09-01T12:53:12.810Z"
   },
   {
    "duration": 0,
    "start_time": "2022-09-01T12:53:12.811Z"
   },
   {
    "duration": 0,
    "start_time": "2022-09-01T12:53:12.813Z"
   },
   {
    "duration": 0,
    "start_time": "2022-09-01T12:53:12.814Z"
   },
   {
    "duration": 0,
    "start_time": "2022-09-01T12:53:12.816Z"
   },
   {
    "duration": 0,
    "start_time": "2022-09-01T12:53:12.817Z"
   },
   {
    "duration": 0,
    "start_time": "2022-09-01T12:53:12.817Z"
   },
   {
    "duration": 0,
    "start_time": "2022-09-01T12:53:12.818Z"
   },
   {
    "duration": 0,
    "start_time": "2022-09-01T12:53:12.820Z"
   },
   {
    "duration": 0,
    "start_time": "2022-09-01T12:53:12.821Z"
   },
   {
    "duration": 0,
    "start_time": "2022-09-01T12:53:12.822Z"
   },
   {
    "duration": 0,
    "start_time": "2022-09-01T12:53:12.823Z"
   },
   {
    "duration": 0,
    "start_time": "2022-09-01T12:53:12.824Z"
   },
   {
    "duration": 0,
    "start_time": "2022-09-01T12:53:12.825Z"
   },
   {
    "duration": 0,
    "start_time": "2022-09-01T12:53:12.826Z"
   },
   {
    "duration": 0,
    "start_time": "2022-09-01T12:53:12.827Z"
   },
   {
    "duration": 0,
    "start_time": "2022-09-01T12:53:12.827Z"
   },
   {
    "duration": 0,
    "start_time": "2022-09-01T12:53:12.829Z"
   },
   {
    "duration": 0,
    "start_time": "2022-09-01T12:53:12.834Z"
   },
   {
    "duration": 0,
    "start_time": "2022-09-01T12:53:12.836Z"
   },
   {
    "duration": 0,
    "start_time": "2022-09-01T12:53:12.838Z"
   },
   {
    "duration": 0,
    "start_time": "2022-09-01T12:53:12.839Z"
   },
   {
    "duration": 0,
    "start_time": "2022-09-01T12:53:12.841Z"
   },
   {
    "duration": 0,
    "start_time": "2022-09-01T12:53:12.842Z"
   },
   {
    "duration": 0,
    "start_time": "2022-09-01T12:53:12.844Z"
   },
   {
    "duration": 0,
    "start_time": "2022-09-01T12:53:12.845Z"
   },
   {
    "duration": 0,
    "start_time": "2022-09-01T12:53:12.895Z"
   },
   {
    "duration": 0,
    "start_time": "2022-09-01T12:53:12.897Z"
   },
   {
    "duration": 0,
    "start_time": "2022-09-01T12:53:12.898Z"
   },
   {
    "duration": 0,
    "start_time": "2022-09-01T12:53:12.899Z"
   },
   {
    "duration": 0,
    "start_time": "2022-09-01T12:53:12.900Z"
   },
   {
    "duration": 1,
    "start_time": "2022-09-01T12:53:12.900Z"
   },
   {
    "duration": 0,
    "start_time": "2022-09-01T12:53:12.901Z"
   },
   {
    "duration": 0,
    "start_time": "2022-09-01T12:53:12.902Z"
   },
   {
    "duration": 0,
    "start_time": "2022-09-01T12:53:12.903Z"
   },
   {
    "duration": 0,
    "start_time": "2022-09-01T12:53:12.904Z"
   },
   {
    "duration": 0,
    "start_time": "2022-09-01T12:53:12.905Z"
   },
   {
    "duration": 0,
    "start_time": "2022-09-01T12:53:12.908Z"
   },
   {
    "duration": 0,
    "start_time": "2022-09-01T12:53:12.909Z"
   },
   {
    "duration": 0,
    "start_time": "2022-09-01T12:53:12.912Z"
   },
   {
    "duration": 0,
    "start_time": "2022-09-01T12:53:12.913Z"
   },
   {
    "duration": 0,
    "start_time": "2022-09-01T12:53:12.913Z"
   },
   {
    "duration": 0,
    "start_time": "2022-09-01T12:53:12.915Z"
   },
   {
    "duration": 0,
    "start_time": "2022-09-01T12:53:12.916Z"
   },
   {
    "duration": 0,
    "start_time": "2022-09-01T12:53:12.917Z"
   },
   {
    "duration": 0,
    "start_time": "2022-09-01T12:53:12.918Z"
   },
   {
    "duration": 0,
    "start_time": "2022-09-01T12:53:12.919Z"
   },
   {
    "duration": 0,
    "start_time": "2022-09-01T12:53:12.920Z"
   },
   {
    "duration": 0,
    "start_time": "2022-09-01T12:53:12.922Z"
   },
   {
    "duration": 0,
    "start_time": "2022-09-01T12:53:12.922Z"
   },
   {
    "duration": 0,
    "start_time": "2022-09-01T12:53:12.923Z"
   },
   {
    "duration": 0,
    "start_time": "2022-09-01T12:53:12.925Z"
   },
   {
    "duration": 0,
    "start_time": "2022-09-01T12:53:12.925Z"
   },
   {
    "duration": 0,
    "start_time": "2022-09-01T12:53:12.927Z"
   },
   {
    "duration": 0,
    "start_time": "2022-09-01T12:53:12.927Z"
   },
   {
    "duration": 1,
    "start_time": "2022-09-01T12:53:12.928Z"
   },
   {
    "duration": 0,
    "start_time": "2022-09-01T12:53:12.930Z"
   },
   {
    "duration": 0,
    "start_time": "2022-09-01T12:53:12.931Z"
   },
   {
    "duration": 0,
    "start_time": "2022-09-01T12:53:12.932Z"
   },
   {
    "duration": 0,
    "start_time": "2022-09-01T12:53:12.933Z"
   },
   {
    "duration": 0,
    "start_time": "2022-09-01T12:53:12.934Z"
   },
   {
    "duration": 0,
    "start_time": "2022-09-01T12:53:12.992Z"
   },
   {
    "duration": 0,
    "start_time": "2022-09-01T12:53:12.993Z"
   },
   {
    "duration": 0,
    "start_time": "2022-09-01T12:53:12.995Z"
   },
   {
    "duration": 0,
    "start_time": "2022-09-01T12:53:12.996Z"
   },
   {
    "duration": 0,
    "start_time": "2022-09-01T12:53:12.997Z"
   },
   {
    "duration": 0,
    "start_time": "2022-09-01T12:53:12.998Z"
   },
   {
    "duration": 0,
    "start_time": "2022-09-01T12:53:13.000Z"
   },
   {
    "duration": 0,
    "start_time": "2022-09-01T12:53:13.004Z"
   },
   {
    "duration": 0,
    "start_time": "2022-09-01T12:53:13.004Z"
   },
   {
    "duration": 0,
    "start_time": "2022-09-01T12:53:13.005Z"
   },
   {
    "duration": 0,
    "start_time": "2022-09-01T12:53:13.006Z"
   },
   {
    "duration": 0,
    "start_time": "2022-09-01T12:53:13.006Z"
   },
   {
    "duration": 0,
    "start_time": "2022-09-01T12:53:13.007Z"
   },
   {
    "duration": 0,
    "start_time": "2022-09-01T12:53:13.008Z"
   },
   {
    "duration": 0,
    "start_time": "2022-09-01T12:53:13.010Z"
   },
   {
    "duration": 0,
    "start_time": "2022-09-01T12:53:13.011Z"
   },
   {
    "duration": 0,
    "start_time": "2022-09-01T12:53:13.012Z"
   },
   {
    "duration": 0,
    "start_time": "2022-09-01T12:53:13.013Z"
   },
   {
    "duration": 0,
    "start_time": "2022-09-01T12:53:13.014Z"
   },
   {
    "duration": 0,
    "start_time": "2022-09-01T12:53:13.015Z"
   },
   {
    "duration": 0,
    "start_time": "2022-09-01T12:53:13.016Z"
   },
   {
    "duration": 0,
    "start_time": "2022-09-01T12:53:13.018Z"
   },
   {
    "duration": 0,
    "start_time": "2022-09-01T12:53:13.018Z"
   },
   {
    "duration": 0,
    "start_time": "2022-09-01T12:53:13.019Z"
   },
   {
    "duration": 0,
    "start_time": "2022-09-01T12:53:13.020Z"
   },
   {
    "duration": 0,
    "start_time": "2022-09-01T12:53:13.021Z"
   },
   {
    "duration": 0,
    "start_time": "2022-09-01T12:53:13.022Z"
   },
   {
    "duration": 0,
    "start_time": "2022-09-01T12:53:13.023Z"
   },
   {
    "duration": 411,
    "start_time": "2022-09-01T12:54:11.515Z"
   },
   {
    "duration": 26,
    "start_time": "2022-09-01T12:54:13.519Z"
   },
   {
    "duration": 1038,
    "start_time": "2022-09-01T12:54:17.806Z"
   },
   {
    "duration": 32,
    "start_time": "2022-09-01T12:54:18.847Z"
   },
   {
    "duration": 32,
    "start_time": "2022-09-01T12:54:18.880Z"
   },
   {
    "duration": 6,
    "start_time": "2022-09-01T12:54:18.915Z"
   },
   {
    "duration": 2197,
    "start_time": "2022-09-01T12:54:18.922Z"
   },
   {
    "duration": 11,
    "start_time": "2022-09-01T12:54:21.121Z"
   },
   {
    "duration": 53,
    "start_time": "2022-09-01T12:54:21.134Z"
   },
   {
    "duration": 24,
    "start_time": "2022-09-01T12:54:21.189Z"
   },
   {
    "duration": 7,
    "start_time": "2022-09-01T12:54:21.215Z"
   },
   {
    "duration": 4,
    "start_time": "2022-09-01T12:54:21.224Z"
   },
   {
    "duration": 8,
    "start_time": "2022-09-01T12:54:21.229Z"
   },
   {
    "duration": 12,
    "start_time": "2022-09-01T12:54:21.238Z"
   },
   {
    "duration": 5,
    "start_time": "2022-09-01T12:54:21.251Z"
   },
   {
    "duration": 40,
    "start_time": "2022-09-01T12:54:21.257Z"
   },
   {
    "duration": 10,
    "start_time": "2022-09-01T12:54:21.299Z"
   },
   {
    "duration": 4,
    "start_time": "2022-09-01T12:54:21.311Z"
   },
   {
    "duration": 9,
    "start_time": "2022-09-01T12:54:21.317Z"
   },
   {
    "duration": 4,
    "start_time": "2022-09-01T12:54:21.328Z"
   },
   {
    "duration": 10,
    "start_time": "2022-09-01T12:54:21.333Z"
   },
   {
    "duration": 13,
    "start_time": "2022-09-01T12:54:21.345Z"
   },
   {
    "duration": 38,
    "start_time": "2022-09-01T12:54:21.359Z"
   },
   {
    "duration": 8,
    "start_time": "2022-09-01T12:54:21.399Z"
   },
   {
    "duration": 7,
    "start_time": "2022-09-01T12:54:21.409Z"
   },
   {
    "duration": 10,
    "start_time": "2022-09-01T12:54:21.418Z"
   },
   {
    "duration": 12,
    "start_time": "2022-09-01T12:54:21.430Z"
   },
   {
    "duration": 9,
    "start_time": "2022-09-01T12:54:21.444Z"
   },
   {
    "duration": 15,
    "start_time": "2022-09-01T12:54:21.454Z"
   },
   {
    "duration": 5,
    "start_time": "2022-09-01T12:54:21.494Z"
   },
   {
    "duration": 110,
    "start_time": "2022-09-01T12:54:21.501Z"
   },
   {
    "duration": 30,
    "start_time": "2022-09-01T12:54:21.613Z"
   },
   {
    "duration": 61,
    "start_time": "2022-09-01T12:54:21.645Z"
   },
   {
    "duration": 158,
    "start_time": "2022-09-01T12:54:21.707Z"
   },
   {
    "duration": 25,
    "start_time": "2022-09-01T12:54:21.868Z"
   },
   {
    "duration": 15,
    "start_time": "2022-09-01T12:54:21.895Z"
   },
   {
    "duration": 13,
    "start_time": "2022-09-01T12:54:21.913Z"
   },
   {
    "duration": 14,
    "start_time": "2022-09-01T12:54:21.929Z"
   },
   {
    "duration": 5,
    "start_time": "2022-09-01T12:54:21.945Z"
   },
   {
    "duration": 11,
    "start_time": "2022-09-01T12:54:21.952Z"
   },
   {
    "duration": 162,
    "start_time": "2022-09-01T12:54:21.965Z"
   },
   {
    "duration": 8,
    "start_time": "2022-09-01T12:54:22.129Z"
   },
   {
    "duration": 13,
    "start_time": "2022-09-01T12:54:22.139Z"
   },
   {
    "duration": 8,
    "start_time": "2022-09-01T12:54:22.153Z"
   },
   {
    "duration": 133,
    "start_time": "2022-09-01T12:54:22.162Z"
   },
   {
    "duration": 8,
    "start_time": "2022-09-01T12:54:22.297Z"
   },
   {
    "duration": 8,
    "start_time": "2022-09-01T12:54:22.307Z"
   },
   {
    "duration": 126,
    "start_time": "2022-09-01T12:54:22.316Z"
   },
   {
    "duration": 6,
    "start_time": "2022-09-01T12:54:22.445Z"
   },
   {
    "duration": 16,
    "start_time": "2022-09-01T12:54:22.453Z"
   },
   {
    "duration": 4,
    "start_time": "2022-09-01T12:54:22.471Z"
   },
   {
    "duration": 21,
    "start_time": "2022-09-01T12:54:22.476Z"
   },
   {
    "duration": 8,
    "start_time": "2022-09-01T12:54:22.499Z"
   },
   {
    "duration": 6,
    "start_time": "2022-09-01T12:54:22.508Z"
   },
   {
    "duration": 8,
    "start_time": "2022-09-01T12:54:22.516Z"
   },
   {
    "duration": 499,
    "start_time": "2022-09-01T12:54:22.526Z"
   },
   {
    "duration": 7,
    "start_time": "2022-09-01T12:54:23.027Z"
   },
   {
    "duration": 6,
    "start_time": "2022-09-01T12:54:23.035Z"
   },
   {
    "duration": 32,
    "start_time": "2022-09-01T12:54:23.042Z"
   },
   {
    "duration": 35,
    "start_time": "2022-09-01T12:54:23.075Z"
   },
   {
    "duration": 291,
    "start_time": "2022-09-01T12:54:23.111Z"
   },
   {
    "duration": 314,
    "start_time": "2022-09-01T12:54:23.404Z"
   },
   {
    "duration": 297,
    "start_time": "2022-09-01T12:54:23.720Z"
   },
   {
    "duration": 295,
    "start_time": "2022-09-01T12:54:24.019Z"
   },
   {
    "duration": 544,
    "start_time": "2022-09-01T12:54:24.316Z"
   },
   {
    "duration": 188,
    "start_time": "2022-09-01T12:54:24.862Z"
   },
   {
    "duration": 184,
    "start_time": "2022-09-01T12:54:25.052Z"
   },
   {
    "duration": 181,
    "start_time": "2022-09-01T12:54:25.238Z"
   },
   {
    "duration": 133,
    "start_time": "2022-09-01T12:54:25.421Z"
   },
   {
    "duration": 287,
    "start_time": "2022-09-01T12:54:25.556Z"
   },
   {
    "duration": 293,
    "start_time": "2022-09-01T12:54:25.845Z"
   },
   {
    "duration": 277,
    "start_time": "2022-09-01T12:54:26.139Z"
   },
   {
    "duration": 265,
    "start_time": "2022-09-01T12:54:26.418Z"
   },
   {
    "duration": 170,
    "start_time": "2022-09-01T12:54:26.685Z"
   },
   {
    "duration": 140,
    "start_time": "2022-09-01T12:54:26.858Z"
   },
   {
    "duration": 329,
    "start_time": "2022-09-01T12:54:27.004Z"
   },
   {
    "duration": 1155,
    "start_time": "2022-09-01T12:54:27.335Z"
   },
   {
    "duration": 138,
    "start_time": "2022-09-01T12:54:28.493Z"
   },
   {
    "duration": 10,
    "start_time": "2022-09-01T12:54:28.633Z"
   },
   {
    "duration": 13,
    "start_time": "2022-09-01T12:54:28.644Z"
   },
   {
    "duration": 48,
    "start_time": "2022-09-01T12:54:28.658Z"
   },
   {
    "duration": 86,
    "start_time": "2022-09-01T12:54:28.708Z"
   },
   {
    "duration": 346,
    "start_time": "2022-09-01T12:54:28.807Z"
   },
   {
    "duration": 380,
    "start_time": "2022-09-01T12:54:29.159Z"
   },
   {
    "duration": 420,
    "start_time": "2022-09-01T12:54:29.541Z"
   },
   {
    "duration": 171,
    "start_time": "2022-09-01T12:54:29.962Z"
   },
   {
    "duration": 236,
    "start_time": "2022-09-01T12:54:30.134Z"
   },
   {
    "duration": 162,
    "start_time": "2022-09-01T12:54:30.372Z"
   },
   {
    "duration": 189,
    "start_time": "2022-09-01T12:54:30.537Z"
   },
   {
    "duration": 157,
    "start_time": "2022-09-01T12:54:30.728Z"
   },
   {
    "duration": 147,
    "start_time": "2022-09-01T12:54:30.887Z"
   },
   {
    "duration": 149,
    "start_time": "2022-09-01T12:54:31.036Z"
   },
   {
    "duration": 19,
    "start_time": "2022-09-01T12:54:31.187Z"
   },
   {
    "duration": 32,
    "start_time": "2022-09-01T12:54:31.207Z"
   },
   {
    "duration": 12,
    "start_time": "2022-09-01T12:54:31.241Z"
   },
   {
    "duration": 248,
    "start_time": "2022-09-01T12:54:31.255Z"
   },
   {
    "duration": 324,
    "start_time": "2022-09-01T13:03:45.387Z"
   },
   {
    "duration": 79,
    "start_time": "2022-09-01T13:04:03.237Z"
   },
   {
    "duration": 240,
    "start_time": "2022-09-01T13:04:06.644Z"
   },
   {
    "duration": 251,
    "start_time": "2022-09-01T13:04:13.562Z"
   },
   {
    "duration": 266,
    "start_time": "2022-09-01T13:04:26.671Z"
   }
  ],
  "colab": {
   "collapsed_sections": [],
   "name": "fd5b7f55-4f26-4509-bd80-2bedae166434.ipynb",
   "provenance": []
  },
  "kernelspec": {
   "display_name": "Python 3 (ipykernel)",
   "language": "python",
   "name": "python3"
  },
  "language_info": {
   "codemirror_mode": {
    "name": "ipython",
    "version": 3
   },
   "file_extension": ".py",
   "mimetype": "text/x-python",
   "name": "python",
   "nbconvert_exporter": "python",
   "pygments_lexer": "ipython3",
   "version": "3.9.13"
  },
  "toc": {
   "base_numbering": 1,
   "nav_menu": {
    "height": "295px",
    "width": "517px"
   },
   "number_sections": true,
   "sideBar": true,
   "skip_h1_title": true,
   "title_cell": "Содержание",
   "title_sidebar": "Contents",
   "toc_cell": true,
   "toc_position": {
    "height": "calc(100% - 180px)",
    "left": "10px",
    "top": "150px",
    "width": "384px"
   },
   "toc_section_display": true,
   "toc_window_display": true
  }
 },
 "nbformat": 4,
 "nbformat_minor": 1
}
